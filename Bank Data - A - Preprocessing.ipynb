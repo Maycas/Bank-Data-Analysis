{
 "cells": [
  {
   "cell_type": "markdown",
   "metadata": {},
   "source": [
    "![Nuclio logo](https://nuclio.school/wp-content/uploads/2018/12/nucleoDS-newBlack.png)\n",
    "\n",
    "# Bank Data - Data Preprocessing"
   ]
  },
  {
   "cell_type": "markdown",
   "metadata": {},
   "source": [
    "Michael Murphy\n",
    "\n",
    "Marc Maycas "
   ]
  },
  {
   "cell_type": "markdown",
   "metadata": {},
   "source": [
    "## Setting up"
   ]
  },
  {
   "cell_type": "code",
   "execution_count": 1,
   "metadata": {},
   "outputs": [],
   "source": [
    "import pandas as pd\n",
    "import numpy as np\n",
    "\n",
    "df_bank = pd.read_csv('./data/churn_data_before_processing.csv', sep = \",\", index_col = 0)"
   ]
  },
  {
   "cell_type": "markdown",
   "metadata": {},
   "source": [
    "`df_bank` is a Pandas Dataframe containing all details from the bank's customer database. By visually inspecting the csv file, it makes sense to use the unnamed first column as the index"
   ]
  },
  {
   "cell_type": "code",
   "execution_count": 2,
   "metadata": {},
   "outputs": [
    {
     "data": {
      "text/html": [
       "<div>\n",
       "<style scoped>\n",
       "    .dataframe tbody tr th:only-of-type {\n",
       "        vertical-align: middle;\n",
       "    }\n",
       "\n",
       "    .dataframe tbody tr th {\n",
       "        vertical-align: top;\n",
       "    }\n",
       "\n",
       "    .dataframe thead th {\n",
       "        text-align: right;\n",
       "    }\n",
       "</style>\n",
       "<table border=\"1\" class=\"dataframe\">\n",
       "  <thead>\n",
       "    <tr style=\"text-align: right;\">\n",
       "      <th></th>\n",
       "      <th>RowNumber</th>\n",
       "      <th>CustomerId</th>\n",
       "      <th>Surname</th>\n",
       "      <th>CreditScore</th>\n",
       "      <th>Geography</th>\n",
       "      <th>Gender</th>\n",
       "      <th>Age</th>\n",
       "      <th>Tenure</th>\n",
       "      <th>Balance</th>\n",
       "      <th>NumOfProducts</th>\n",
       "      <th>HasCrCard</th>\n",
       "      <th>IsActiveMember</th>\n",
       "      <th>EstimatedSalary</th>\n",
       "      <th>Exited</th>\n",
       "    </tr>\n",
       "  </thead>\n",
       "  <tbody>\n",
       "    <tr>\n",
       "      <th>0</th>\n",
       "      <td>1</td>\n",
       "      <td>15634602</td>\n",
       "      <td>Hargrave</td>\n",
       "      <td>619.0</td>\n",
       "      <td>France</td>\n",
       "      <td>Female</td>\n",
       "      <td>42.0</td>\n",
       "      <td>2.0</td>\n",
       "      <td>0.00</td>\n",
       "      <td>1.0</td>\n",
       "      <td>1.0</td>\n",
       "      <td>1.0</td>\n",
       "      <td>101348.88</td>\n",
       "      <td>1</td>\n",
       "    </tr>\n",
       "    <tr>\n",
       "      <th>1</th>\n",
       "      <td>2</td>\n",
       "      <td>15647311</td>\n",
       "      <td>Hill</td>\n",
       "      <td>608.0</td>\n",
       "      <td>Spain</td>\n",
       "      <td>Female</td>\n",
       "      <td>41.0</td>\n",
       "      <td>1.0</td>\n",
       "      <td>83807.86</td>\n",
       "      <td>1.0</td>\n",
       "      <td>0.0</td>\n",
       "      <td>1.0</td>\n",
       "      <td>112542.58</td>\n",
       "      <td>0</td>\n",
       "    </tr>\n",
       "    <tr>\n",
       "      <th>2</th>\n",
       "      <td>3</td>\n",
       "      <td>15619304</td>\n",
       "      <td>Onio</td>\n",
       "      <td>502.0</td>\n",
       "      <td>France</td>\n",
       "      <td>Female</td>\n",
       "      <td>42.0</td>\n",
       "      <td>8.0</td>\n",
       "      <td>159660.80</td>\n",
       "      <td>3.0</td>\n",
       "      <td>1.0</td>\n",
       "      <td>0.0</td>\n",
       "      <td>113931.57</td>\n",
       "      <td>1</td>\n",
       "    </tr>\n",
       "    <tr>\n",
       "      <th>3</th>\n",
       "      <td>4</td>\n",
       "      <td>15701354</td>\n",
       "      <td>Boni</td>\n",
       "      <td>699.0</td>\n",
       "      <td>France</td>\n",
       "      <td>Female</td>\n",
       "      <td>39.0</td>\n",
       "      <td>1.0</td>\n",
       "      <td>0.00</td>\n",
       "      <td>2.0</td>\n",
       "      <td>0.0</td>\n",
       "      <td>NaN</td>\n",
       "      <td>93826.63</td>\n",
       "      <td>0</td>\n",
       "    </tr>\n",
       "    <tr>\n",
       "      <th>4</th>\n",
       "      <td>5</td>\n",
       "      <td>15737888</td>\n",
       "      <td>Mitchell</td>\n",
       "      <td>850.0</td>\n",
       "      <td>Spain</td>\n",
       "      <td>Female</td>\n",
       "      <td>43.0</td>\n",
       "      <td>2.0</td>\n",
       "      <td>125510.82</td>\n",
       "      <td>1.0</td>\n",
       "      <td>1.0</td>\n",
       "      <td>1.0</td>\n",
       "      <td>79084.10</td>\n",
       "      <td>0</td>\n",
       "    </tr>\n",
       "    <tr>\n",
       "      <th>...</th>\n",
       "      <td>...</td>\n",
       "      <td>...</td>\n",
       "      <td>...</td>\n",
       "      <td>...</td>\n",
       "      <td>...</td>\n",
       "      <td>...</td>\n",
       "      <td>...</td>\n",
       "      <td>...</td>\n",
       "      <td>...</td>\n",
       "      <td>...</td>\n",
       "      <td>...</td>\n",
       "      <td>...</td>\n",
       "      <td>...</td>\n",
       "      <td>...</td>\n",
       "    </tr>\n",
       "    <tr>\n",
       "      <th>3612</th>\n",
       "      <td>3613</td>\n",
       "      <td>15792151</td>\n",
       "      <td>Hamilton</td>\n",
       "      <td>635.0</td>\n",
       "      <td>Spain</td>\n",
       "      <td>Female</td>\n",
       "      <td>37.0</td>\n",
       "      <td>3.0</td>\n",
       "      <td>0.00</td>\n",
       "      <td>2.0</td>\n",
       "      <td>1.0</td>\n",
       "      <td>0.0</td>\n",
       "      <td>91086.73</td>\n",
       "      <td>0</td>\n",
       "    </tr>\n",
       "    <tr>\n",
       "      <th>4437</th>\n",
       "      <td>4438</td>\n",
       "      <td>15779522</td>\n",
       "      <td>Efimov</td>\n",
       "      <td>736.0</td>\n",
       "      <td>France</td>\n",
       "      <td>Female</td>\n",
       "      <td>24.0</td>\n",
       "      <td>0.0</td>\n",
       "      <td>0.00</td>\n",
       "      <td>2.0</td>\n",
       "      <td>1.0</td>\n",
       "      <td>0.0</td>\n",
       "      <td>109355.73</td>\n",
       "      <td>1</td>\n",
       "    </tr>\n",
       "    <tr>\n",
       "      <th>6549</th>\n",
       "      <td>6550</td>\n",
       "      <td>15792029</td>\n",
       "      <td>Lee</td>\n",
       "      <td>620.0</td>\n",
       "      <td>France</td>\n",
       "      <td>Male</td>\n",
       "      <td>32.0</td>\n",
       "      <td>6.0</td>\n",
       "      <td>0.00</td>\n",
       "      <td>2.0</td>\n",
       "      <td>1.0</td>\n",
       "      <td>0.0</td>\n",
       "      <td>56139.09</td>\n",
       "      <td>0</td>\n",
       "    </tr>\n",
       "    <tr>\n",
       "      <th>4590</th>\n",
       "      <td>4591</td>\n",
       "      <td>15680167</td>\n",
       "      <td>Thomson</td>\n",
       "      <td>635.0</td>\n",
       "      <td>France</td>\n",
       "      <td>Female</td>\n",
       "      <td>78.0</td>\n",
       "      <td>6.0</td>\n",
       "      <td>47536.40</td>\n",
       "      <td>1.0</td>\n",
       "      <td>NaN</td>\n",
       "      <td>1.0</td>\n",
       "      <td>119400.08</td>\n",
       "      <td>0</td>\n",
       "    </tr>\n",
       "    <tr>\n",
       "      <th>8</th>\n",
       "      <td>9</td>\n",
       "      <td>15792365</td>\n",
       "      <td>He</td>\n",
       "      <td>501.0</td>\n",
       "      <td>France</td>\n",
       "      <td>Male</td>\n",
       "      <td>44.0</td>\n",
       "      <td>4.0</td>\n",
       "      <td>142051.07</td>\n",
       "      <td>2.0</td>\n",
       "      <td>0.0</td>\n",
       "      <td>1.0</td>\n",
       "      <td>74940.50</td>\n",
       "      <td>0</td>\n",
       "    </tr>\n",
       "  </tbody>\n",
       "</table>\n",
       "<p>10150 rows × 14 columns</p>\n",
       "</div>"
      ],
      "text/plain": [
       "      RowNumber  CustomerId   Surname  CreditScore Geography  Gender   Age  \\\n",
       "0             1    15634602  Hargrave        619.0    France  Female  42.0   \n",
       "1             2    15647311      Hill        608.0     Spain  Female  41.0   \n",
       "2             3    15619304      Onio        502.0    France  Female  42.0   \n",
       "3             4    15701354      Boni        699.0    France  Female  39.0   \n",
       "4             5    15737888  Mitchell        850.0     Spain  Female  43.0   \n",
       "...         ...         ...       ...          ...       ...     ...   ...   \n",
       "3612       3613    15792151  Hamilton        635.0     Spain  Female  37.0   \n",
       "4437       4438    15779522    Efimov        736.0    France  Female  24.0   \n",
       "6549       6550    15792029       Lee        620.0    France    Male  32.0   \n",
       "4590       4591    15680167   Thomson        635.0    France  Female  78.0   \n",
       "8             9    15792365        He        501.0    France    Male  44.0   \n",
       "\n",
       "      Tenure    Balance  NumOfProducts  HasCrCard  IsActiveMember  \\\n",
       "0        2.0       0.00            1.0        1.0             1.0   \n",
       "1        1.0   83807.86            1.0        0.0             1.0   \n",
       "2        8.0  159660.80            3.0        1.0             0.0   \n",
       "3        1.0       0.00            2.0        0.0             NaN   \n",
       "4        2.0  125510.82            1.0        1.0             1.0   \n",
       "...      ...        ...            ...        ...             ...   \n",
       "3612     3.0       0.00            2.0        1.0             0.0   \n",
       "4437     0.0       0.00            2.0        1.0             0.0   \n",
       "6549     6.0       0.00            2.0        1.0             0.0   \n",
       "4590     6.0   47536.40            1.0        NaN             1.0   \n",
       "8        4.0  142051.07            2.0        0.0             1.0   \n",
       "\n",
       "      EstimatedSalary  Exited  \n",
       "0           101348.88       1  \n",
       "1           112542.58       0  \n",
       "2           113931.57       1  \n",
       "3            93826.63       0  \n",
       "4            79084.10       0  \n",
       "...               ...     ...  \n",
       "3612         91086.73       0  \n",
       "4437        109355.73       1  \n",
       "6549         56139.09       0  \n",
       "4590        119400.08       0  \n",
       "8            74940.50       0  \n",
       "\n",
       "[10150 rows x 14 columns]"
      ]
     },
     "execution_count": 2,
     "metadata": {},
     "output_type": "execute_result"
    }
   ],
   "source": [
    "df_bank"
   ]
  },
  {
   "cell_type": "code",
   "execution_count": 3,
   "metadata": {},
   "outputs": [
    {
     "data": {
      "text/plain": [
       "(10150, 14)"
      ]
     },
     "execution_count": 3,
     "metadata": {},
     "output_type": "execute_result"
    }
   ],
   "source": [
    "df_bank.shape"
   ]
  },
  {
   "cell_type": "code",
   "execution_count": 4,
   "metadata": {},
   "outputs": [
    {
     "name": "stdout",
     "output_type": "stream",
     "text": [
      "<class 'pandas.core.frame.DataFrame'>\n",
      "Int64Index: 10150 entries, 0 to 8\n",
      "Data columns (total 14 columns):\n",
      " #   Column           Non-Null Count  Dtype  \n",
      "---  ------           --------------  -----  \n",
      " 0   RowNumber        10150 non-null  int64  \n",
      " 1   CustomerId       10150 non-null  int64  \n",
      " 2   Surname          10056 non-null  object \n",
      " 3   CreditScore      10132 non-null  float64\n",
      " 4   Geography        9954 non-null   object \n",
      " 5   Gender           9867 non-null   object \n",
      " 6   Age              9879 non-null   float64\n",
      " 7   Tenure           10070 non-null  float64\n",
      " 8   Balance          9994 non-null   float64\n",
      " 9   NumOfProducts    9862 non-null   float64\n",
      " 10  HasCrCard        10067 non-null  float64\n",
      " 11  IsActiveMember   10063 non-null  float64\n",
      " 12  EstimatedSalary  10106 non-null  float64\n",
      " 13  Exited           10150 non-null  int64  \n",
      "dtypes: float64(8), int64(3), object(3)\n",
      "memory usage: 1.2+ MB\n"
     ]
    }
   ],
   "source": [
    "df_bank.info()"
   ]
  },
  {
   "cell_type": "code",
   "execution_count": 5,
   "metadata": {},
   "outputs": [
    {
     "data": {
      "text/plain": [
       "RowNumber            0\n",
       "CustomerId           0\n",
       "Surname             94\n",
       "CreditScore         18\n",
       "Geography          196\n",
       "Gender             283\n",
       "Age                271\n",
       "Tenure              80\n",
       "Balance            156\n",
       "NumOfProducts      288\n",
       "HasCrCard           83\n",
       "IsActiveMember      87\n",
       "EstimatedSalary     44\n",
       "Exited               0\n",
       "dtype: int64"
      ]
     },
     "execution_count": 5,
     "metadata": {},
     "output_type": "execute_result"
    }
   ],
   "source": [
    "# checking nulls globally\n",
    "df_bank.isna().sum()"
   ]
  },
  {
   "cell_type": "markdown",
   "metadata": {},
   "source": [
    "There are several columns with Null values that will require treatment"
   ]
  },
  {
   "cell_type": "markdown",
   "metadata": {},
   "source": [
    "## Data Pre-processing\n",
    "\n",
    "Initial observation of the table: we have approx 10k samples of what appears to be customer data relating to financial concepts. There are no time based fields or product related IDs so we can assume there should be one row per customer. \n",
    "\n",
    "Columns like geography and gender look like simple cases for categorical one-hot encoding. Several columns in the dataframe look like they might unecessarily be assigned as floats. Of all the columns, \"isActiveMember\" and \"Exited\" are those which will need to be further explored once the data is cleaned as the concepts are not clear (the first 4 rows present every combination between the two columns, so somehow an active member can also be exited).\n",
    "\n",
    "We will check the duplicates and columns one by one to verify these assumptions and prepare the dataset for further analysis."
   ]
  },
  {
   "cell_type": "markdown",
   "metadata": {},
   "source": [
    "### 1 - Duplicates existence"
   ]
  },
  {
   "cell_type": "markdown",
   "metadata": {},
   "source": [
    "Are there any duplicate records in df_bank?"
   ]
  },
  {
   "cell_type": "code",
   "execution_count": 6,
   "metadata": {},
   "outputs": [
    {
     "data": {
      "text/html": [
       "<div>\n",
       "<style scoped>\n",
       "    .dataframe tbody tr th:only-of-type {\n",
       "        vertical-align: middle;\n",
       "    }\n",
       "\n",
       "    .dataframe tbody tr th {\n",
       "        vertical-align: top;\n",
       "    }\n",
       "\n",
       "    .dataframe thead th {\n",
       "        text-align: right;\n",
       "    }\n",
       "</style>\n",
       "<table border=\"1\" class=\"dataframe\">\n",
       "  <thead>\n",
       "    <tr style=\"text-align: right;\">\n",
       "      <th></th>\n",
       "      <th>RowNumber</th>\n",
       "      <th>CustomerId</th>\n",
       "      <th>Surname</th>\n",
       "      <th>CreditScore</th>\n",
       "      <th>Geography</th>\n",
       "      <th>Gender</th>\n",
       "      <th>Age</th>\n",
       "      <th>Tenure</th>\n",
       "      <th>Balance</th>\n",
       "      <th>NumOfProducts</th>\n",
       "      <th>HasCrCard</th>\n",
       "      <th>IsActiveMember</th>\n",
       "      <th>EstimatedSalary</th>\n",
       "      <th>Exited</th>\n",
       "    </tr>\n",
       "  </thead>\n",
       "  <tbody>\n",
       "    <tr>\n",
       "      <th>8</th>\n",
       "      <td>9</td>\n",
       "      <td>15792365</td>\n",
       "      <td>He</td>\n",
       "      <td>501.0</td>\n",
       "      <td>France</td>\n",
       "      <td>Male</td>\n",
       "      <td>44.0</td>\n",
       "      <td>4.0</td>\n",
       "      <td>142051.07</td>\n",
       "      <td>2.0</td>\n",
       "      <td>0.0</td>\n",
       "      <td>1.0</td>\n",
       "      <td>74940.50</td>\n",
       "      <td>0</td>\n",
       "    </tr>\n",
       "    <tr>\n",
       "      <th>151</th>\n",
       "      <td>152</td>\n",
       "      <td>15759618</td>\n",
       "      <td>Alexeeva</td>\n",
       "      <td>535.0</td>\n",
       "      <td>France</td>\n",
       "      <td>Female</td>\n",
       "      <td>48.0</td>\n",
       "      <td>9.0</td>\n",
       "      <td>0.00</td>\n",
       "      <td>1.0</td>\n",
       "      <td>1.0</td>\n",
       "      <td>0.0</td>\n",
       "      <td>149892.79</td>\n",
       "      <td>1</td>\n",
       "    </tr>\n",
       "    <tr>\n",
       "      <th>227</th>\n",
       "      <td>228</td>\n",
       "      <td>15676895</td>\n",
       "      <td>Cattaneo</td>\n",
       "      <td>547.0</td>\n",
       "      <td>Germany</td>\n",
       "      <td>Female</td>\n",
       "      <td>39.0</td>\n",
       "      <td>6.0</td>\n",
       "      <td>74596.15</td>\n",
       "      <td>3.0</td>\n",
       "      <td>1.0</td>\n",
       "      <td>1.0</td>\n",
       "      <td>85746.52</td>\n",
       "      <td>1</td>\n",
       "    </tr>\n",
       "    <tr>\n",
       "      <th>326</th>\n",
       "      <td>327</td>\n",
       "      <td>15601848</td>\n",
       "      <td>Scott</td>\n",
       "      <td>594.0</td>\n",
       "      <td>France</td>\n",
       "      <td>Male</td>\n",
       "      <td>35.0</td>\n",
       "      <td>2.0</td>\n",
       "      <td>0.00</td>\n",
       "      <td>2.0</td>\n",
       "      <td>1.0</td>\n",
       "      <td>0.0</td>\n",
       "      <td>103480.69</td>\n",
       "      <td>0</td>\n",
       "    </tr>\n",
       "    <tr>\n",
       "      <th>410</th>\n",
       "      <td>411</td>\n",
       "      <td>15566594</td>\n",
       "      <td>McKenzie</td>\n",
       "      <td>709.0</td>\n",
       "      <td>Spain</td>\n",
       "      <td>Male</td>\n",
       "      <td>23.0</td>\n",
       "      <td>10.0</td>\n",
       "      <td>0.00</td>\n",
       "      <td>2.0</td>\n",
       "      <td>0.0</td>\n",
       "      <td>0.0</td>\n",
       "      <td>129590.18</td>\n",
       "      <td>0</td>\n",
       "    </tr>\n",
       "    <tr>\n",
       "      <th>...</th>\n",
       "      <td>...</td>\n",
       "      <td>...</td>\n",
       "      <td>...</td>\n",
       "      <td>...</td>\n",
       "      <td>...</td>\n",
       "      <td>...</td>\n",
       "      <td>...</td>\n",
       "      <td>...</td>\n",
       "      <td>...</td>\n",
       "      <td>...</td>\n",
       "      <td>...</td>\n",
       "      <td>...</td>\n",
       "      <td>...</td>\n",
       "      <td>...</td>\n",
       "    </tr>\n",
       "    <tr>\n",
       "      <th>6523</th>\n",
       "      <td>6524</td>\n",
       "      <td>15806249</td>\n",
       "      <td>Kerr</td>\n",
       "      <td>671.0</td>\n",
       "      <td>Spain</td>\n",
       "      <td>Female</td>\n",
       "      <td>31.0</td>\n",
       "      <td>4.0</td>\n",
       "      <td>0.00</td>\n",
       "      <td>2.0</td>\n",
       "      <td>0.0</td>\n",
       "      <td>1.0</td>\n",
       "      <td>79270.02</td>\n",
       "      <td>0</td>\n",
       "    </tr>\n",
       "    <tr>\n",
       "      <th>3612</th>\n",
       "      <td>3613</td>\n",
       "      <td>15792151</td>\n",
       "      <td>Hamilton</td>\n",
       "      <td>635.0</td>\n",
       "      <td>Spain</td>\n",
       "      <td>Female</td>\n",
       "      <td>37.0</td>\n",
       "      <td>3.0</td>\n",
       "      <td>0.00</td>\n",
       "      <td>2.0</td>\n",
       "      <td>1.0</td>\n",
       "      <td>0.0</td>\n",
       "      <td>91086.73</td>\n",
       "      <td>0</td>\n",
       "    </tr>\n",
       "    <tr>\n",
       "      <th>4437</th>\n",
       "      <td>4438</td>\n",
       "      <td>15779522</td>\n",
       "      <td>Efimov</td>\n",
       "      <td>736.0</td>\n",
       "      <td>France</td>\n",
       "      <td>Female</td>\n",
       "      <td>24.0</td>\n",
       "      <td>0.0</td>\n",
       "      <td>0.00</td>\n",
       "      <td>2.0</td>\n",
       "      <td>1.0</td>\n",
       "      <td>0.0</td>\n",
       "      <td>109355.73</td>\n",
       "      <td>1</td>\n",
       "    </tr>\n",
       "    <tr>\n",
       "      <th>6549</th>\n",
       "      <td>6550</td>\n",
       "      <td>15792029</td>\n",
       "      <td>Lee</td>\n",
       "      <td>620.0</td>\n",
       "      <td>France</td>\n",
       "      <td>Male</td>\n",
       "      <td>32.0</td>\n",
       "      <td>6.0</td>\n",
       "      <td>0.00</td>\n",
       "      <td>2.0</td>\n",
       "      <td>1.0</td>\n",
       "      <td>0.0</td>\n",
       "      <td>56139.09</td>\n",
       "      <td>0</td>\n",
       "    </tr>\n",
       "    <tr>\n",
       "      <th>8</th>\n",
       "      <td>9</td>\n",
       "      <td>15792365</td>\n",
       "      <td>He</td>\n",
       "      <td>501.0</td>\n",
       "      <td>France</td>\n",
       "      <td>Male</td>\n",
       "      <td>44.0</td>\n",
       "      <td>4.0</td>\n",
       "      <td>142051.07</td>\n",
       "      <td>2.0</td>\n",
       "      <td>0.0</td>\n",
       "      <td>1.0</td>\n",
       "      <td>74940.50</td>\n",
       "      <td>0</td>\n",
       "    </tr>\n",
       "  </tbody>\n",
       "</table>\n",
       "<p>208 rows × 14 columns</p>\n",
       "</div>"
      ],
      "text/plain": [
       "      RowNumber  CustomerId   Surname  CreditScore Geography  Gender   Age  \\\n",
       "8             9    15792365        He        501.0    France    Male  44.0   \n",
       "151         152    15759618  Alexeeva        535.0    France  Female  48.0   \n",
       "227         228    15676895  Cattaneo        547.0   Germany  Female  39.0   \n",
       "326         327    15601848     Scott        594.0    France    Male  35.0   \n",
       "410         411    15566594  McKenzie        709.0     Spain    Male  23.0   \n",
       "...         ...         ...       ...          ...       ...     ...   ...   \n",
       "6523       6524    15806249      Kerr        671.0     Spain  Female  31.0   \n",
       "3612       3613    15792151  Hamilton        635.0     Spain  Female  37.0   \n",
       "4437       4438    15779522    Efimov        736.0    France  Female  24.0   \n",
       "6549       6550    15792029       Lee        620.0    France    Male  32.0   \n",
       "8             9    15792365        He        501.0    France    Male  44.0   \n",
       "\n",
       "      Tenure    Balance  NumOfProducts  HasCrCard  IsActiveMember  \\\n",
       "8        4.0  142051.07            2.0        0.0             1.0   \n",
       "151      9.0       0.00            1.0        1.0             0.0   \n",
       "227      6.0   74596.15            3.0        1.0             1.0   \n",
       "326      2.0       0.00            2.0        1.0             0.0   \n",
       "410     10.0       0.00            2.0        0.0             0.0   \n",
       "...      ...        ...            ...        ...             ...   \n",
       "6523     4.0       0.00            2.0        0.0             1.0   \n",
       "3612     3.0       0.00            2.0        1.0             0.0   \n",
       "4437     0.0       0.00            2.0        1.0             0.0   \n",
       "6549     6.0       0.00            2.0        1.0             0.0   \n",
       "8        4.0  142051.07            2.0        0.0             1.0   \n",
       "\n",
       "      EstimatedSalary  Exited  \n",
       "8            74940.50       0  \n",
       "151         149892.79       1  \n",
       "227          85746.52       1  \n",
       "326         103480.69       0  \n",
       "410         129590.18       0  \n",
       "...               ...     ...  \n",
       "6523         79270.02       0  \n",
       "3612         91086.73       0  \n",
       "4437        109355.73       1  \n",
       "6549         56139.09       0  \n",
       "8            74940.50       0  \n",
       "\n",
       "[208 rows x 14 columns]"
      ]
     },
     "execution_count": 6,
     "metadata": {},
     "output_type": "execute_result"
    }
   ],
   "source": [
    "# check and show duplicates\n",
    "duplicates = df_bank[df_bank.duplicated(keep = False)]\n",
    "duplicates"
   ]
  },
  {
   "cell_type": "code",
   "execution_count": 7,
   "metadata": {},
   "outputs": [
    {
     "data": {
      "text/html": [
       "<div>\n",
       "<style scoped>\n",
       "    .dataframe tbody tr th:only-of-type {\n",
       "        vertical-align: middle;\n",
       "    }\n",
       "\n",
       "    .dataframe tbody tr th {\n",
       "        vertical-align: top;\n",
       "    }\n",
       "\n",
       "    .dataframe thead th {\n",
       "        text-align: right;\n",
       "    }\n",
       "</style>\n",
       "<table border=\"1\" class=\"dataframe\">\n",
       "  <thead>\n",
       "    <tr style=\"text-align: right;\">\n",
       "      <th></th>\n",
       "      <th>RowNumber</th>\n",
       "      <th>CustomerId</th>\n",
       "      <th>Surname</th>\n",
       "      <th>CreditScore</th>\n",
       "      <th>Geography</th>\n",
       "      <th>Gender</th>\n",
       "      <th>Age</th>\n",
       "      <th>Tenure</th>\n",
       "      <th>Balance</th>\n",
       "      <th>NumOfProducts</th>\n",
       "      <th>HasCrCard</th>\n",
       "      <th>IsActiveMember</th>\n",
       "      <th>EstimatedSalary</th>\n",
       "      <th>Exited</th>\n",
       "    </tr>\n",
       "  </thead>\n",
       "  <tbody>\n",
       "    <tr>\n",
       "      <th>8</th>\n",
       "      <td>9</td>\n",
       "      <td>15792365</td>\n",
       "      <td>He</td>\n",
       "      <td>501.0</td>\n",
       "      <td>France</td>\n",
       "      <td>Male</td>\n",
       "      <td>44.0</td>\n",
       "      <td>4.0</td>\n",
       "      <td>142051.07</td>\n",
       "      <td>2.0</td>\n",
       "      <td>0.0</td>\n",
       "      <td>1.0</td>\n",
       "      <td>74940.5</td>\n",
       "      <td>0</td>\n",
       "    </tr>\n",
       "    <tr>\n",
       "      <th>8</th>\n",
       "      <td>9</td>\n",
       "      <td>15792365</td>\n",
       "      <td>He</td>\n",
       "      <td>501.0</td>\n",
       "      <td>France</td>\n",
       "      <td>Male</td>\n",
       "      <td>44.0</td>\n",
       "      <td>4.0</td>\n",
       "      <td>142051.07</td>\n",
       "      <td>2.0</td>\n",
       "      <td>0.0</td>\n",
       "      <td>1.0</td>\n",
       "      <td>74940.5</td>\n",
       "      <td>0</td>\n",
       "    </tr>\n",
       "  </tbody>\n",
       "</table>\n",
       "</div>"
      ],
      "text/plain": [
       "   RowNumber  CustomerId Surname  CreditScore Geography Gender   Age  Tenure  \\\n",
       "8          9    15792365      He        501.0    France   Male  44.0     4.0   \n",
       "8          9    15792365      He        501.0    France   Male  44.0     4.0   \n",
       "\n",
       "     Balance  NumOfProducts  HasCrCard  IsActiveMember  EstimatedSalary  \\\n",
       "8  142051.07            2.0        0.0             1.0          74940.5   \n",
       "8  142051.07            2.0        0.0             1.0          74940.5   \n",
       "\n",
       "   Exited  \n",
       "8       0  \n",
       "8       0  "
      ]
     },
     "execution_count": 7,
     "metadata": {},
     "output_type": "execute_result"
    }
   ],
   "source": [
    "# checking a couple of examples of these duplicated rows\n",
    "df_bank[df_bank.RowNumber == 9]"
   ]
  },
  {
   "cell_type": "code",
   "execution_count": 8,
   "metadata": {},
   "outputs": [
    {
     "data": {
      "text/html": [
       "<div>\n",
       "<style scoped>\n",
       "    .dataframe tbody tr th:only-of-type {\n",
       "        vertical-align: middle;\n",
       "    }\n",
       "\n",
       "    .dataframe tbody tr th {\n",
       "        vertical-align: top;\n",
       "    }\n",
       "\n",
       "    .dataframe thead th {\n",
       "        text-align: right;\n",
       "    }\n",
       "</style>\n",
       "<table border=\"1\" class=\"dataframe\">\n",
       "  <thead>\n",
       "    <tr style=\"text-align: right;\">\n",
       "      <th></th>\n",
       "      <th>RowNumber</th>\n",
       "      <th>CustomerId</th>\n",
       "      <th>Surname</th>\n",
       "      <th>CreditScore</th>\n",
       "      <th>Geography</th>\n",
       "      <th>Gender</th>\n",
       "      <th>Age</th>\n",
       "      <th>Tenure</th>\n",
       "      <th>Balance</th>\n",
       "      <th>NumOfProducts</th>\n",
       "      <th>HasCrCard</th>\n",
       "      <th>IsActiveMember</th>\n",
       "      <th>EstimatedSalary</th>\n",
       "      <th>Exited</th>\n",
       "    </tr>\n",
       "  </thead>\n",
       "  <tbody>\n",
       "    <tr>\n",
       "      <th>227</th>\n",
       "      <td>228</td>\n",
       "      <td>15676895</td>\n",
       "      <td>Cattaneo</td>\n",
       "      <td>547.0</td>\n",
       "      <td>Germany</td>\n",
       "      <td>Female</td>\n",
       "      <td>39.0</td>\n",
       "      <td>6.0</td>\n",
       "      <td>74596.15</td>\n",
       "      <td>3.0</td>\n",
       "      <td>1.0</td>\n",
       "      <td>1.0</td>\n",
       "      <td>85746.52</td>\n",
       "      <td>1</td>\n",
       "    </tr>\n",
       "    <tr>\n",
       "      <th>227</th>\n",
       "      <td>228</td>\n",
       "      <td>15676895</td>\n",
       "      <td>Cattaneo</td>\n",
       "      <td>547.0</td>\n",
       "      <td>Germany</td>\n",
       "      <td>Female</td>\n",
       "      <td>39.0</td>\n",
       "      <td>6.0</td>\n",
       "      <td>74596.15</td>\n",
       "      <td>3.0</td>\n",
       "      <td>1.0</td>\n",
       "      <td>1.0</td>\n",
       "      <td>85746.52</td>\n",
       "      <td>1</td>\n",
       "    </tr>\n",
       "  </tbody>\n",
       "</table>\n",
       "</div>"
      ],
      "text/plain": [
       "     RowNumber  CustomerId   Surname  CreditScore Geography  Gender   Age  \\\n",
       "227        228    15676895  Cattaneo        547.0   Germany  Female  39.0   \n",
       "227        228    15676895  Cattaneo        547.0   Germany  Female  39.0   \n",
       "\n",
       "     Tenure   Balance  NumOfProducts  HasCrCard  IsActiveMember  \\\n",
       "227     6.0  74596.15            3.0        1.0             1.0   \n",
       "227     6.0  74596.15            3.0        1.0             1.0   \n",
       "\n",
       "     EstimatedSalary  Exited  \n",
       "227         85746.52       1  \n",
       "227         85746.52       1  "
      ]
     },
     "execution_count": 8,
     "metadata": {},
     "output_type": "execute_result"
    }
   ],
   "source": [
    "df_bank[df_bank.RowNumber == 228]"
   ]
  },
  {
   "cell_type": "markdown",
   "metadata": {},
   "source": [
    "There are 208 duplicate entries, that need to be removed, but keeping the first entry as they contain valuable data."
   ]
  },
  {
   "cell_type": "code",
   "execution_count": 9,
   "metadata": {},
   "outputs": [],
   "source": [
    "# removing duplicates\n",
    "df_bank.drop_duplicates(keep = \"first\", inplace = True)"
   ]
  },
  {
   "cell_type": "code",
   "execution_count": 10,
   "metadata": {},
   "outputs": [
    {
     "data": {
      "text/html": [
       "<div>\n",
       "<style scoped>\n",
       "    .dataframe tbody tr th:only-of-type {\n",
       "        vertical-align: middle;\n",
       "    }\n",
       "\n",
       "    .dataframe tbody tr th {\n",
       "        vertical-align: top;\n",
       "    }\n",
       "\n",
       "    .dataframe thead th {\n",
       "        text-align: right;\n",
       "    }\n",
       "</style>\n",
       "<table border=\"1\" class=\"dataframe\">\n",
       "  <thead>\n",
       "    <tr style=\"text-align: right;\">\n",
       "      <th></th>\n",
       "      <th>RowNumber</th>\n",
       "      <th>CustomerId</th>\n",
       "      <th>Surname</th>\n",
       "      <th>CreditScore</th>\n",
       "      <th>Geography</th>\n",
       "      <th>Gender</th>\n",
       "      <th>Age</th>\n",
       "      <th>Tenure</th>\n",
       "      <th>Balance</th>\n",
       "      <th>NumOfProducts</th>\n",
       "      <th>HasCrCard</th>\n",
       "      <th>IsActiveMember</th>\n",
       "      <th>EstimatedSalary</th>\n",
       "      <th>Exited</th>\n",
       "    </tr>\n",
       "  </thead>\n",
       "  <tbody>\n",
       "  </tbody>\n",
       "</table>\n",
       "</div>"
      ],
      "text/plain": [
       "Empty DataFrame\n",
       "Columns: [RowNumber, CustomerId, Surname, CreditScore, Geography, Gender, Age, Tenure, Balance, NumOfProducts, HasCrCard, IsActiveMember, EstimatedSalary, Exited]\n",
       "Index: []"
      ]
     },
     "execution_count": 10,
     "metadata": {},
     "output_type": "execute_result"
    }
   ],
   "source": [
    "# checking if duplicates have been removed\n",
    "df_bank[df_bank.duplicated(keep = False)]"
   ]
  },
  {
   "cell_type": "markdown",
   "metadata": {},
   "source": [
    "All duplicates have been removed"
   ]
  },
  {
   "cell_type": "code",
   "execution_count": 11,
   "metadata": {},
   "outputs": [
    {
     "data": {
      "text/plain": [
       "(10046, 14)"
      ]
     },
     "execution_count": 11,
     "metadata": {},
     "output_type": "execute_result"
    }
   ],
   "source": [
    "df_bank.shape"
   ]
  },
  {
   "cell_type": "markdown",
   "metadata": {},
   "source": [
    "Removing duplicates left `df_bank` with 10046 entries out from the 10150 we had at the beginning (removed around 1% of entries)"
   ]
  },
  {
   "cell_type": "markdown",
   "metadata": {},
   "source": [
    "### 2 - Univariate Analysis and Outlier detection"
   ]
  },
  {
   "cell_type": "markdown",
   "metadata": {},
   "source": [
    "Exploring all columns' data to:\n",
    "- Check and understand the data\n",
    "- Remove or fill in NaN's or missing values\n",
    "- Remove possible outliers."
   ]
  },
  {
   "cell_type": "markdown",
   "metadata": {},
   "source": [
    "#### Column `RowNumber`"
   ]
  },
  {
   "cell_type": "markdown",
   "metadata": {},
   "source": [
    "##### Analysis and missing values\n",
    "\n",
    "`RowNumber` is a numerical field that identifies the line number for each entry without using the zero indexing feature. At a first glance looks like a poor usage of memory, but we need to analyse it further, just in case."
   ]
  },
  {
   "cell_type": "code",
   "execution_count": 12,
   "metadata": {},
   "outputs": [
    {
     "data": {
      "text/plain": [
       "False"
      ]
     },
     "execution_count": 12,
     "metadata": {},
     "output_type": "execute_result"
    }
   ],
   "source": [
    "df_bank.RowNumber.isna().any()"
   ]
  },
  {
   "cell_type": "markdown",
   "metadata": {},
   "source": [
    "There are no missing values or NaN.\n",
    "\n",
    "Let's check its values:"
   ]
  },
  {
   "cell_type": "code",
   "execution_count": 13,
   "metadata": {},
   "outputs": [
    {
     "data": {
      "text/plain": [
       "2106     2\n",
       "5304     2\n",
       "9431     2\n",
       "5830     2\n",
       "8932     2\n",
       "        ..\n",
       "3345     1\n",
       "3346     1\n",
       "3347     1\n",
       "3348     1\n",
       "10000    1\n",
       "Name: RowNumber, Length: 10000, dtype: int64"
      ]
     },
     "execution_count": 13,
     "metadata": {},
     "output_type": "execute_result"
    }
   ],
   "source": [
    "df_bank.RowNumber.value_counts(dropna = False)"
   ]
  },
  {
   "cell_type": "code",
   "execution_count": 14,
   "metadata": {},
   "outputs": [
    {
     "data": {
      "text/html": [
       "<div>\n",
       "<style scoped>\n",
       "    .dataframe tbody tr th:only-of-type {\n",
       "        vertical-align: middle;\n",
       "    }\n",
       "\n",
       "    .dataframe tbody tr th {\n",
       "        vertical-align: top;\n",
       "    }\n",
       "\n",
       "    .dataframe thead th {\n",
       "        text-align: right;\n",
       "    }\n",
       "</style>\n",
       "<table border=\"1\" class=\"dataframe\">\n",
       "  <thead>\n",
       "    <tr style=\"text-align: right;\">\n",
       "      <th></th>\n",
       "      <th>RowNumber</th>\n",
       "      <th>CustomerId</th>\n",
       "      <th>Surname</th>\n",
       "      <th>CreditScore</th>\n",
       "      <th>Geography</th>\n",
       "      <th>Gender</th>\n",
       "      <th>Age</th>\n",
       "      <th>Tenure</th>\n",
       "      <th>Balance</th>\n",
       "      <th>NumOfProducts</th>\n",
       "      <th>HasCrCard</th>\n",
       "      <th>IsActiveMember</th>\n",
       "      <th>EstimatedSalary</th>\n",
       "      <th>Exited</th>\n",
       "    </tr>\n",
       "  </thead>\n",
       "  <tbody>\n",
       "    <tr>\n",
       "      <th>2105</th>\n",
       "      <td>2106</td>\n",
       "      <td>15615096</td>\n",
       "      <td>Costa</td>\n",
       "      <td>492.0</td>\n",
       "      <td>France</td>\n",
       "      <td>Female</td>\n",
       "      <td>NaN</td>\n",
       "      <td>7.0</td>\n",
       "      <td>0.00</td>\n",
       "      <td>2.0</td>\n",
       "      <td>1.0</td>\n",
       "      <td>1.0</td>\n",
       "      <td>49463.44</td>\n",
       "      <td>0</td>\n",
       "    </tr>\n",
       "    <tr>\n",
       "      <th>2105</th>\n",
       "      <td>2106</td>\n",
       "      <td>15615096</td>\n",
       "      <td>Costa</td>\n",
       "      <td>492.0</td>\n",
       "      <td>France</td>\n",
       "      <td>Female</td>\n",
       "      <td>31.0</td>\n",
       "      <td>7.0</td>\n",
       "      <td>NaN</td>\n",
       "      <td>2.0</td>\n",
       "      <td>1.0</td>\n",
       "      <td>1.0</td>\n",
       "      <td>49463.44</td>\n",
       "      <td>0</td>\n",
       "    </tr>\n",
       "    <tr>\n",
       "      <th>5303</th>\n",
       "      <td>5304</td>\n",
       "      <td>15645766</td>\n",
       "      <td>Kosisochukwu</td>\n",
       "      <td>634.0</td>\n",
       "      <td>Spain</td>\n",
       "      <td>Male</td>\n",
       "      <td>25.0</td>\n",
       "      <td>9.0</td>\n",
       "      <td>0.00</td>\n",
       "      <td>2.0</td>\n",
       "      <td>1.0</td>\n",
       "      <td>1.0</td>\n",
       "      <td>8227.91</td>\n",
       "      <td>0</td>\n",
       "    </tr>\n",
       "    <tr>\n",
       "      <th>5303</th>\n",
       "      <td>5304</td>\n",
       "      <td>15645766</td>\n",
       "      <td>Kosisochukwu</td>\n",
       "      <td>634.0</td>\n",
       "      <td>Spain</td>\n",
       "      <td>Male</td>\n",
       "      <td>25.0</td>\n",
       "      <td>9.0</td>\n",
       "      <td>0.00</td>\n",
       "      <td>NaN</td>\n",
       "      <td>1.0</td>\n",
       "      <td>1.0</td>\n",
       "      <td>8227.91</td>\n",
       "      <td>0</td>\n",
       "    </tr>\n",
       "    <tr>\n",
       "      <th>5829</th>\n",
       "      <td>5830</td>\n",
       "      <td>15794266</td>\n",
       "      <td>Cross</td>\n",
       "      <td>559.0</td>\n",
       "      <td>France</td>\n",
       "      <td>NaN</td>\n",
       "      <td>32.0</td>\n",
       "      <td>9.0</td>\n",
       "      <td>145303.52</td>\n",
       "      <td>1.0</td>\n",
       "      <td>1.0</td>\n",
       "      <td>0.0</td>\n",
       "      <td>103560.98</td>\n",
       "      <td>0</td>\n",
       "    </tr>\n",
       "    <tr>\n",
       "      <th>5829</th>\n",
       "      <td>5830</td>\n",
       "      <td>15794266</td>\n",
       "      <td>Cross</td>\n",
       "      <td>559.0</td>\n",
       "      <td>France</td>\n",
       "      <td>Male</td>\n",
       "      <td>32.0</td>\n",
       "      <td>9.0</td>\n",
       "      <td>145303.52</td>\n",
       "      <td>1.0</td>\n",
       "      <td>1.0</td>\n",
       "      <td>0.0</td>\n",
       "      <td>103560.98</td>\n",
       "      <td>0</td>\n",
       "    </tr>\n",
       "    <tr>\n",
       "      <th>8931</th>\n",
       "      <td>8932</td>\n",
       "      <td>15761487</td>\n",
       "      <td>Yefimova</td>\n",
       "      <td>678.0</td>\n",
       "      <td>NaN</td>\n",
       "      <td>Female</td>\n",
       "      <td>55.0</td>\n",
       "      <td>5.0</td>\n",
       "      <td>0.00</td>\n",
       "      <td>1.0</td>\n",
       "      <td>0.0</td>\n",
       "      <td>1.0</td>\n",
       "      <td>196794.11</td>\n",
       "      <td>1</td>\n",
       "    </tr>\n",
       "    <tr>\n",
       "      <th>8931</th>\n",
       "      <td>8932</td>\n",
       "      <td>15761487</td>\n",
       "      <td>Yefimova</td>\n",
       "      <td>678.0</td>\n",
       "      <td>France</td>\n",
       "      <td>Female</td>\n",
       "      <td>55.0</td>\n",
       "      <td>5.0</td>\n",
       "      <td>0.00</td>\n",
       "      <td>1.0</td>\n",
       "      <td>0.0</td>\n",
       "      <td>1.0</td>\n",
       "      <td>196794.11</td>\n",
       "      <td>1</td>\n",
       "    </tr>\n",
       "    <tr>\n",
       "      <th>9430</th>\n",
       "      <td>9431</td>\n",
       "      <td>15591980</td>\n",
       "      <td>Hill</td>\n",
       "      <td>753.0</td>\n",
       "      <td>France</td>\n",
       "      <td>Male</td>\n",
       "      <td>33.0</td>\n",
       "      <td>5.0</td>\n",
       "      <td>122568.05</td>\n",
       "      <td>2.0</td>\n",
       "      <td>1.0</td>\n",
       "      <td>1.0</td>\n",
       "      <td>82820.85</td>\n",
       "      <td>0</td>\n",
       "    </tr>\n",
       "    <tr>\n",
       "      <th>9430</th>\n",
       "      <td>9431</td>\n",
       "      <td>15591980</td>\n",
       "      <td>Hill</td>\n",
       "      <td>753.0</td>\n",
       "      <td>France</td>\n",
       "      <td>Male</td>\n",
       "      <td>NaN</td>\n",
       "      <td>5.0</td>\n",
       "      <td>122568.05</td>\n",
       "      <td>2.0</td>\n",
       "      <td>1.0</td>\n",
       "      <td>1.0</td>\n",
       "      <td>82820.85</td>\n",
       "      <td>0</td>\n",
       "    </tr>\n",
       "  </tbody>\n",
       "</table>\n",
       "</div>"
      ],
      "text/plain": [
       "      RowNumber  CustomerId       Surname  CreditScore Geography  Gender  \\\n",
       "2105       2106    15615096         Costa        492.0    France  Female   \n",
       "2105       2106    15615096         Costa        492.0    France  Female   \n",
       "5303       5304    15645766  Kosisochukwu        634.0     Spain    Male   \n",
       "5303       5304    15645766  Kosisochukwu        634.0     Spain    Male   \n",
       "5829       5830    15794266         Cross        559.0    France     NaN   \n",
       "5829       5830    15794266         Cross        559.0    France    Male   \n",
       "8931       8932    15761487      Yefimova        678.0       NaN  Female   \n",
       "8931       8932    15761487      Yefimova        678.0    France  Female   \n",
       "9430       9431    15591980          Hill        753.0    France    Male   \n",
       "9430       9431    15591980          Hill        753.0    France    Male   \n",
       "\n",
       "       Age  Tenure    Balance  NumOfProducts  HasCrCard  IsActiveMember  \\\n",
       "2105   NaN     7.0       0.00            2.0        1.0             1.0   \n",
       "2105  31.0     7.0        NaN            2.0        1.0             1.0   \n",
       "5303  25.0     9.0       0.00            2.0        1.0             1.0   \n",
       "5303  25.0     9.0       0.00            NaN        1.0             1.0   \n",
       "5829  32.0     9.0  145303.52            1.0        1.0             0.0   \n",
       "5829  32.0     9.0  145303.52            1.0        1.0             0.0   \n",
       "8931  55.0     5.0       0.00            1.0        0.0             1.0   \n",
       "8931  55.0     5.0       0.00            1.0        0.0             1.0   \n",
       "9430  33.0     5.0  122568.05            2.0        1.0             1.0   \n",
       "9430   NaN     5.0  122568.05            2.0        1.0             1.0   \n",
       "\n",
       "      EstimatedSalary  Exited  \n",
       "2105         49463.44       0  \n",
       "2105         49463.44       0  \n",
       "5303          8227.91       0  \n",
       "5303          8227.91       0  \n",
       "5829        103560.98       0  \n",
       "5829        103560.98       0  \n",
       "8931        196794.11       1  \n",
       "8931        196794.11       1  \n",
       "9430         82820.85       0  \n",
       "9430         82820.85       0  "
      ]
     },
     "execution_count": 14,
     "metadata": {},
     "output_type": "execute_result"
    }
   ],
   "source": [
    "# there are several duplicate values in the column, checking some of these entries\n",
    "df_bank.loc[df_bank[\"RowNumber\"].isin([2106, 5304, 9431, 5830, 8932])].sort_values(by = \"RowNumber\")"
   ]
  },
  {
   "cell_type": "markdown",
   "metadata": {},
   "source": [
    "The dataset contains duplicate indices, which means that there's still some duplicate data. By inspecting the previous entries, we see that these refer to the same CustomerId, and the column that we used as an index is also repeated, which means several things:\n",
    "\n",
    "- It is required to further study what to do with these duplicated entries as it seems that several data columns are equal per row, but other fields have NaNs that can be merged to turn these 2 entries into a single complete one. The candidate column to merge by will be the `CustomerId` as it seems to be unique and common for both duplicated entries (as we will analyse in the upcoming cells). For example, with `CustomerId` = 15615096 (`Surname = \"Costa\"`), the first age entry (NaN) can be merged with the second (31.0), as well as the balance from the first entry (0.00) can be merged into the second (NaN). We also have no fields (time, product id) which could make us think there should be more than one row per customer.\n",
    "- We need to reset the indices to have unique indices for each table entry\n",
    "- Definitely remove this column as it's not providing any relevance into our dataset and is doing a poor memory usage"
   ]
  },
  {
   "cell_type": "code",
   "execution_count": 15,
   "metadata": {},
   "outputs": [
    {
     "data": {
      "text/plain": [
       "False"
      ]
     },
     "execution_count": 15,
     "metadata": {},
     "output_type": "execute_result"
    }
   ],
   "source": [
    "# checking if customerId is a suitable column to use to merge these values\n",
    "df_bank.CustomerId.isna().any()"
   ]
  },
  {
   "cell_type": "markdown",
   "metadata": {},
   "source": [
    "No missing values in `CustomerId`."
   ]
  },
  {
   "cell_type": "code",
   "execution_count": 16,
   "metadata": {},
   "outputs": [
    {
     "data": {
      "text/plain": [
       "15615096    2\n",
       "15645766    2\n",
       "15591980    2\n",
       "15794266    2\n",
       "15761487    2\n",
       "           ..\n",
       "15654292    1\n",
       "15648320    1\n",
       "15726747    1\n",
       "15694510    1\n",
       "15628319    1\n",
       "Name: CustomerId, Length: 10000, dtype: int64"
      ]
     },
     "execution_count": 16,
     "metadata": {},
     "output_type": "execute_result"
    }
   ],
   "source": [
    "df_bank.CustomerId.value_counts(dropna = False)"
   ]
  },
  {
   "cell_type": "code",
   "execution_count": 17,
   "metadata": {},
   "outputs": [
    {
     "data": {
      "text/html": [
       "<div>\n",
       "<style scoped>\n",
       "    .dataframe tbody tr th:only-of-type {\n",
       "        vertical-align: middle;\n",
       "    }\n",
       "\n",
       "    .dataframe tbody tr th {\n",
       "        vertical-align: top;\n",
       "    }\n",
       "\n",
       "    .dataframe thead th {\n",
       "        text-align: right;\n",
       "    }\n",
       "</style>\n",
       "<table border=\"1\" class=\"dataframe\">\n",
       "  <thead>\n",
       "    <tr style=\"text-align: right;\">\n",
       "      <th></th>\n",
       "      <th>RowNumber</th>\n",
       "      <th>CustomerId</th>\n",
       "      <th>Surname</th>\n",
       "      <th>CreditScore</th>\n",
       "      <th>Geography</th>\n",
       "      <th>Gender</th>\n",
       "      <th>Age</th>\n",
       "      <th>Tenure</th>\n",
       "      <th>Balance</th>\n",
       "      <th>NumOfProducts</th>\n",
       "      <th>HasCrCard</th>\n",
       "      <th>IsActiveMember</th>\n",
       "      <th>EstimatedSalary</th>\n",
       "      <th>Exited</th>\n",
       "    </tr>\n",
       "  </thead>\n",
       "  <tbody>\n",
       "    <tr>\n",
       "      <th>9430</th>\n",
       "      <td>9431</td>\n",
       "      <td>15591980</td>\n",
       "      <td>Hill</td>\n",
       "      <td>753.0</td>\n",
       "      <td>France</td>\n",
       "      <td>Male</td>\n",
       "      <td>33.0</td>\n",
       "      <td>5.0</td>\n",
       "      <td>122568.05</td>\n",
       "      <td>2.0</td>\n",
       "      <td>1.0</td>\n",
       "      <td>1.0</td>\n",
       "      <td>82820.85</td>\n",
       "      <td>0</td>\n",
       "    </tr>\n",
       "    <tr>\n",
       "      <th>9430</th>\n",
       "      <td>9431</td>\n",
       "      <td>15591980</td>\n",
       "      <td>Hill</td>\n",
       "      <td>753.0</td>\n",
       "      <td>France</td>\n",
       "      <td>Male</td>\n",
       "      <td>NaN</td>\n",
       "      <td>5.0</td>\n",
       "      <td>122568.05</td>\n",
       "      <td>2.0</td>\n",
       "      <td>1.0</td>\n",
       "      <td>1.0</td>\n",
       "      <td>82820.85</td>\n",
       "      <td>0</td>\n",
       "    </tr>\n",
       "    <tr>\n",
       "      <th>2105</th>\n",
       "      <td>2106</td>\n",
       "      <td>15615096</td>\n",
       "      <td>Costa</td>\n",
       "      <td>492.0</td>\n",
       "      <td>France</td>\n",
       "      <td>Female</td>\n",
       "      <td>NaN</td>\n",
       "      <td>7.0</td>\n",
       "      <td>0.00</td>\n",
       "      <td>2.0</td>\n",
       "      <td>1.0</td>\n",
       "      <td>1.0</td>\n",
       "      <td>49463.44</td>\n",
       "      <td>0</td>\n",
       "    </tr>\n",
       "    <tr>\n",
       "      <th>2105</th>\n",
       "      <td>2106</td>\n",
       "      <td>15615096</td>\n",
       "      <td>Costa</td>\n",
       "      <td>492.0</td>\n",
       "      <td>France</td>\n",
       "      <td>Female</td>\n",
       "      <td>31.0</td>\n",
       "      <td>7.0</td>\n",
       "      <td>NaN</td>\n",
       "      <td>2.0</td>\n",
       "      <td>1.0</td>\n",
       "      <td>1.0</td>\n",
       "      <td>49463.44</td>\n",
       "      <td>0</td>\n",
       "    </tr>\n",
       "    <tr>\n",
       "      <th>5303</th>\n",
       "      <td>5304</td>\n",
       "      <td>15645766</td>\n",
       "      <td>Kosisochukwu</td>\n",
       "      <td>634.0</td>\n",
       "      <td>Spain</td>\n",
       "      <td>Male</td>\n",
       "      <td>25.0</td>\n",
       "      <td>9.0</td>\n",
       "      <td>0.00</td>\n",
       "      <td>2.0</td>\n",
       "      <td>1.0</td>\n",
       "      <td>1.0</td>\n",
       "      <td>8227.91</td>\n",
       "      <td>0</td>\n",
       "    </tr>\n",
       "    <tr>\n",
       "      <th>5303</th>\n",
       "      <td>5304</td>\n",
       "      <td>15645766</td>\n",
       "      <td>Kosisochukwu</td>\n",
       "      <td>634.0</td>\n",
       "      <td>Spain</td>\n",
       "      <td>Male</td>\n",
       "      <td>25.0</td>\n",
       "      <td>9.0</td>\n",
       "      <td>0.00</td>\n",
       "      <td>NaN</td>\n",
       "      <td>1.0</td>\n",
       "      <td>1.0</td>\n",
       "      <td>8227.91</td>\n",
       "      <td>0</td>\n",
       "    </tr>\n",
       "    <tr>\n",
       "      <th>8931</th>\n",
       "      <td>8932</td>\n",
       "      <td>15761487</td>\n",
       "      <td>Yefimova</td>\n",
       "      <td>678.0</td>\n",
       "      <td>NaN</td>\n",
       "      <td>Female</td>\n",
       "      <td>55.0</td>\n",
       "      <td>5.0</td>\n",
       "      <td>0.00</td>\n",
       "      <td>1.0</td>\n",
       "      <td>0.0</td>\n",
       "      <td>1.0</td>\n",
       "      <td>196794.11</td>\n",
       "      <td>1</td>\n",
       "    </tr>\n",
       "    <tr>\n",
       "      <th>8931</th>\n",
       "      <td>8932</td>\n",
       "      <td>15761487</td>\n",
       "      <td>Yefimova</td>\n",
       "      <td>678.0</td>\n",
       "      <td>France</td>\n",
       "      <td>Female</td>\n",
       "      <td>55.0</td>\n",
       "      <td>5.0</td>\n",
       "      <td>0.00</td>\n",
       "      <td>1.0</td>\n",
       "      <td>0.0</td>\n",
       "      <td>1.0</td>\n",
       "      <td>196794.11</td>\n",
       "      <td>1</td>\n",
       "    </tr>\n",
       "  </tbody>\n",
       "</table>\n",
       "</div>"
      ],
      "text/plain": [
       "      RowNumber  CustomerId       Surname  CreditScore Geography  Gender  \\\n",
       "9430       9431    15591980          Hill        753.0    France    Male   \n",
       "9430       9431    15591980          Hill        753.0    France    Male   \n",
       "2105       2106    15615096         Costa        492.0    France  Female   \n",
       "2105       2106    15615096         Costa        492.0    France  Female   \n",
       "5303       5304    15645766  Kosisochukwu        634.0     Spain    Male   \n",
       "5303       5304    15645766  Kosisochukwu        634.0     Spain    Male   \n",
       "8931       8932    15761487      Yefimova        678.0       NaN  Female   \n",
       "8931       8932    15761487      Yefimova        678.0    France  Female   \n",
       "\n",
       "       Age  Tenure    Balance  NumOfProducts  HasCrCard  IsActiveMember  \\\n",
       "9430  33.0     5.0  122568.05            2.0        1.0             1.0   \n",
       "9430   NaN     5.0  122568.05            2.0        1.0             1.0   \n",
       "2105   NaN     7.0       0.00            2.0        1.0             1.0   \n",
       "2105  31.0     7.0        NaN            2.0        1.0             1.0   \n",
       "5303  25.0     9.0       0.00            2.0        1.0             1.0   \n",
       "5303  25.0     9.0       0.00            NaN        1.0             1.0   \n",
       "8931  55.0     5.0       0.00            1.0        0.0             1.0   \n",
       "8931  55.0     5.0       0.00            1.0        0.0             1.0   \n",
       "\n",
       "      EstimatedSalary  Exited  \n",
       "9430         82820.85       0  \n",
       "9430         82820.85       0  \n",
       "2105         49463.44       0  \n",
       "2105         49463.44       0  \n",
       "5303          8227.91       0  \n",
       "5303          8227.91       0  \n",
       "8931        196794.11       1  \n",
       "8931        196794.11       1  "
      ]
     },
     "execution_count": 17,
     "metadata": {},
     "output_type": "execute_result"
    }
   ],
   "source": [
    "# checking some of these duplicated entries\n",
    "df_bank.loc[df_bank[\"CustomerId\"].isin([15615096, 15645766, 15591980, 15761487])].sort_values(by = \"CustomerId\")"
   ]
  },
  {
   "cell_type": "markdown",
   "metadata": {},
   "source": [
    "It seems that we are facing the same issue as with `RowNumber` and we are getting the same duplicates. So we can use `CustomerId` as we want to remove the `RowNumber` column"
   ]
  },
  {
   "cell_type": "code",
   "execution_count": 18,
   "metadata": {},
   "outputs": [
    {
     "data": {
      "text/html": [
       "<div>\n",
       "<style scoped>\n",
       "    .dataframe tbody tr th:only-of-type {\n",
       "        vertical-align: middle;\n",
       "    }\n",
       "\n",
       "    .dataframe tbody tr th {\n",
       "        vertical-align: top;\n",
       "    }\n",
       "\n",
       "    .dataframe thead th {\n",
       "        text-align: right;\n",
       "    }\n",
       "</style>\n",
       "<table border=\"1\" class=\"dataframe\">\n",
       "  <thead>\n",
       "    <tr style=\"text-align: right;\">\n",
       "      <th></th>\n",
       "      <th>CustomerId</th>\n",
       "      <th>RowNumber</th>\n",
       "      <th>Surname</th>\n",
       "      <th>CreditScore</th>\n",
       "      <th>Geography</th>\n",
       "      <th>Gender</th>\n",
       "      <th>Age</th>\n",
       "      <th>Tenure</th>\n",
       "      <th>Balance</th>\n",
       "      <th>NumOfProducts</th>\n",
       "      <th>HasCrCard</th>\n",
       "      <th>IsActiveMember</th>\n",
       "      <th>EstimatedSalary</th>\n",
       "      <th>Exited</th>\n",
       "    </tr>\n",
       "  </thead>\n",
       "  <tbody>\n",
       "    <tr>\n",
       "      <th>8045</th>\n",
       "      <td>15615096</td>\n",
       "      <td>2106</td>\n",
       "      <td>Costa</td>\n",
       "      <td>492.0</td>\n",
       "      <td>France</td>\n",
       "      <td>Female</td>\n",
       "      <td>31.0</td>\n",
       "      <td>7.0</td>\n",
       "      <td>0.00</td>\n",
       "      <td>2.0</td>\n",
       "      <td>1.0</td>\n",
       "      <td>1.0</td>\n",
       "      <td>49463.44</td>\n",
       "      <td>0</td>\n",
       "    </tr>\n",
       "    <tr>\n",
       "      <th>6806</th>\n",
       "      <td>15645766</td>\n",
       "      <td>5304</td>\n",
       "      <td>Kosisochukwu</td>\n",
       "      <td>634.0</td>\n",
       "      <td>Spain</td>\n",
       "      <td>Male</td>\n",
       "      <td>25.0</td>\n",
       "      <td>9.0</td>\n",
       "      <td>0.00</td>\n",
       "      <td>2.0</td>\n",
       "      <td>1.0</td>\n",
       "      <td>1.0</td>\n",
       "      <td>8227.91</td>\n",
       "      <td>0</td>\n",
       "    </tr>\n",
       "    <tr>\n",
       "      <th>850</th>\n",
       "      <td>15794266</td>\n",
       "      <td>5830</td>\n",
       "      <td>Cross</td>\n",
       "      <td>559.0</td>\n",
       "      <td>France</td>\n",
       "      <td>Male</td>\n",
       "      <td>32.0</td>\n",
       "      <td>9.0</td>\n",
       "      <td>145303.52</td>\n",
       "      <td>1.0</td>\n",
       "      <td>1.0</td>\n",
       "      <td>0.0</td>\n",
       "      <td>103560.98</td>\n",
       "      <td>0</td>\n",
       "    </tr>\n",
       "    <tr>\n",
       "      <th>2179</th>\n",
       "      <td>15761487</td>\n",
       "      <td>8932</td>\n",
       "      <td>Yefimova</td>\n",
       "      <td>678.0</td>\n",
       "      <td>France</td>\n",
       "      <td>Female</td>\n",
       "      <td>55.0</td>\n",
       "      <td>5.0</td>\n",
       "      <td>0.00</td>\n",
       "      <td>1.0</td>\n",
       "      <td>0.0</td>\n",
       "      <td>1.0</td>\n",
       "      <td>196794.11</td>\n",
       "      <td>1</td>\n",
       "    </tr>\n",
       "    <tr>\n",
       "      <th>8968</th>\n",
       "      <td>15591980</td>\n",
       "      <td>9431</td>\n",
       "      <td>Hill</td>\n",
       "      <td>753.0</td>\n",
       "      <td>France</td>\n",
       "      <td>Male</td>\n",
       "      <td>33.0</td>\n",
       "      <td>5.0</td>\n",
       "      <td>122568.05</td>\n",
       "      <td>2.0</td>\n",
       "      <td>1.0</td>\n",
       "      <td>1.0</td>\n",
       "      <td>82820.85</td>\n",
       "      <td>0</td>\n",
       "    </tr>\n",
       "  </tbody>\n",
       "</table>\n",
       "</div>"
      ],
      "text/plain": [
       "      CustomerId  RowNumber       Surname  CreditScore Geography  Gender  \\\n",
       "8045    15615096       2106         Costa        492.0    France  Female   \n",
       "6806    15645766       5304  Kosisochukwu        634.0     Spain    Male   \n",
       "850     15794266       5830         Cross        559.0    France    Male   \n",
       "2179    15761487       8932      Yefimova        678.0    France  Female   \n",
       "8968    15591980       9431          Hill        753.0    France    Male   \n",
       "\n",
       "       Age  Tenure    Balance  NumOfProducts  HasCrCard  IsActiveMember  \\\n",
       "8045  31.0     7.0       0.00            2.0        1.0             1.0   \n",
       "6806  25.0     9.0       0.00            2.0        1.0             1.0   \n",
       "850   32.0     9.0  145303.52            1.0        1.0             0.0   \n",
       "2179  55.0     5.0       0.00            1.0        0.0             1.0   \n",
       "8968  33.0     5.0  122568.05            2.0        1.0             1.0   \n",
       "\n",
       "      EstimatedSalary  Exited  \n",
       "8045         49463.44       0  \n",
       "6806          8227.91       0  \n",
       "850         103560.98       0  \n",
       "2179        196794.11       1  \n",
       "8968         82820.85       0  "
      ]
     },
     "execution_count": 18,
     "metadata": {},
     "output_type": "execute_result"
    }
   ],
   "source": [
    "# merging values from both rows and keeping only the filled in values and reseting the indices\n",
    "# grouping by customerId as it is the unique identifier per each bank client\n",
    "df_bank = df_bank.groupby(\"CustomerId\").first().sort_values(by = \"CustomerId\", ascending = False).reset_index()\n",
    "df_bank.loc[df_bank[\"RowNumber\"].isin([2106, 5304, 9431, 5830, 8932])].sort_values(by = \"RowNumber\")"
   ]
  },
  {
   "cell_type": "markdown",
   "metadata": {},
   "source": [
    "We can see that the previous pseudo-duplicates have been merged into one single entry with no NaN's"
   ]
  },
  {
   "cell_type": "code",
   "execution_count": 19,
   "metadata": {},
   "outputs": [
    {
     "data": {
      "text/plain": [
       "(10000, 14)"
      ]
     },
     "execution_count": 19,
     "metadata": {},
     "output_type": "execute_result"
    }
   ],
   "source": [
    "df_bank.shape"
   ]
  },
  {
   "cell_type": "markdown",
   "metadata": {},
   "source": [
    "The dataframe has been reduced to 10000 (around 1.47% reduction of entries after these issues have been resolved)"
   ]
  },
  {
   "cell_type": "code",
   "execution_count": 20,
   "metadata": {},
   "outputs": [
    {
     "data": {
      "text/html": [
       "<div>\n",
       "<style scoped>\n",
       "    .dataframe tbody tr th:only-of-type {\n",
       "        vertical-align: middle;\n",
       "    }\n",
       "\n",
       "    .dataframe tbody tr th {\n",
       "        vertical-align: top;\n",
       "    }\n",
       "\n",
       "    .dataframe thead th {\n",
       "        text-align: right;\n",
       "    }\n",
       "</style>\n",
       "<table border=\"1\" class=\"dataframe\">\n",
       "  <thead>\n",
       "    <tr style=\"text-align: right;\">\n",
       "      <th></th>\n",
       "      <th>CustomerId</th>\n",
       "      <th>Surname</th>\n",
       "      <th>CreditScore</th>\n",
       "      <th>Geography</th>\n",
       "      <th>Gender</th>\n",
       "      <th>Age</th>\n",
       "      <th>Tenure</th>\n",
       "      <th>Balance</th>\n",
       "      <th>NumOfProducts</th>\n",
       "      <th>HasCrCard</th>\n",
       "      <th>IsActiveMember</th>\n",
       "      <th>EstimatedSalary</th>\n",
       "      <th>Exited</th>\n",
       "    </tr>\n",
       "  </thead>\n",
       "  <tbody>\n",
       "    <tr>\n",
       "      <th>0</th>\n",
       "      <td>15815690</td>\n",
       "      <td>Akabueze</td>\n",
       "      <td>614.0</td>\n",
       "      <td>Spain</td>\n",
       "      <td>Female</td>\n",
       "      <td>40.0</td>\n",
       "      <td>3.0</td>\n",
       "      <td>113348.50</td>\n",
       "      <td>1.0</td>\n",
       "      <td>1.0</td>\n",
       "      <td>1.0</td>\n",
       "      <td>77789.01</td>\n",
       "      <td>0</td>\n",
       "    </tr>\n",
       "    <tr>\n",
       "      <th>1</th>\n",
       "      <td>15815660</td>\n",
       "      <td>Mazzi</td>\n",
       "      <td>758.0</td>\n",
       "      <td>France</td>\n",
       "      <td>Female</td>\n",
       "      <td>34.0</td>\n",
       "      <td>1.0</td>\n",
       "      <td>154139.45</td>\n",
       "      <td>1.0</td>\n",
       "      <td>1.0</td>\n",
       "      <td>1.0</td>\n",
       "      <td>60728.89</td>\n",
       "      <td>0</td>\n",
       "    </tr>\n",
       "    <tr>\n",
       "      <th>2</th>\n",
       "      <td>15815656</td>\n",
       "      <td>Hopkins</td>\n",
       "      <td>541.0</td>\n",
       "      <td>Germany</td>\n",
       "      <td>Female</td>\n",
       "      <td>39.0</td>\n",
       "      <td>9.0</td>\n",
       "      <td>100116.67</td>\n",
       "      <td>1.0</td>\n",
       "      <td>1.0</td>\n",
       "      <td>1.0</td>\n",
       "      <td>199808.10</td>\n",
       "      <td>1</td>\n",
       "    </tr>\n",
       "    <tr>\n",
       "      <th>3</th>\n",
       "      <td>15815645</td>\n",
       "      <td>Akhtar</td>\n",
       "      <td>481.0</td>\n",
       "      <td>France</td>\n",
       "      <td>None</td>\n",
       "      <td>37.0</td>\n",
       "      <td>8.0</td>\n",
       "      <td>152303.66</td>\n",
       "      <td>2.0</td>\n",
       "      <td>1.0</td>\n",
       "      <td>1.0</td>\n",
       "      <td>175082.20</td>\n",
       "      <td>0</td>\n",
       "    </tr>\n",
       "    <tr>\n",
       "      <th>4</th>\n",
       "      <td>15815628</td>\n",
       "      <td>Moysey</td>\n",
       "      <td>711.0</td>\n",
       "      <td>France</td>\n",
       "      <td>Female</td>\n",
       "      <td>37.0</td>\n",
       "      <td>8.0</td>\n",
       "      <td>113899.92</td>\n",
       "      <td>1.0</td>\n",
       "      <td>0.0</td>\n",
       "      <td>0.0</td>\n",
       "      <td>80215.20</td>\n",
       "      <td>0</td>\n",
       "    </tr>\n",
       "    <tr>\n",
       "      <th>...</th>\n",
       "      <td>...</td>\n",
       "      <td>...</td>\n",
       "      <td>...</td>\n",
       "      <td>...</td>\n",
       "      <td>...</td>\n",
       "      <td>...</td>\n",
       "      <td>...</td>\n",
       "      <td>...</td>\n",
       "      <td>...</td>\n",
       "      <td>...</td>\n",
       "      <td>...</td>\n",
       "      <td>...</td>\n",
       "      <td>...</td>\n",
       "    </tr>\n",
       "    <tr>\n",
       "      <th>9995</th>\n",
       "      <td>15565796</td>\n",
       "      <td>Docherty</td>\n",
       "      <td>745.0</td>\n",
       "      <td>Germany</td>\n",
       "      <td>Male</td>\n",
       "      <td>48.0</td>\n",
       "      <td>10.0</td>\n",
       "      <td>96048.55</td>\n",
       "      <td>1.0</td>\n",
       "      <td>1.0</td>\n",
       "      <td>0.0</td>\n",
       "      <td>74510.65</td>\n",
       "      <td>0</td>\n",
       "    </tr>\n",
       "    <tr>\n",
       "      <th>9996</th>\n",
       "      <td>15565779</td>\n",
       "      <td>Kent</td>\n",
       "      <td>627.0</td>\n",
       "      <td>Germany</td>\n",
       "      <td>Female</td>\n",
       "      <td>30.0</td>\n",
       "      <td>6.0</td>\n",
       "      <td>57809.32</td>\n",
       "      <td>1.0</td>\n",
       "      <td>1.0</td>\n",
       "      <td>0.0</td>\n",
       "      <td>188258.49</td>\n",
       "      <td>0</td>\n",
       "    </tr>\n",
       "    <tr>\n",
       "      <th>9997</th>\n",
       "      <td>15565714</td>\n",
       "      <td>Cattaneo</td>\n",
       "      <td>601.0</td>\n",
       "      <td>France</td>\n",
       "      <td>Male</td>\n",
       "      <td>47.0</td>\n",
       "      <td>1.0</td>\n",
       "      <td>64430.06</td>\n",
       "      <td>2.0</td>\n",
       "      <td>0.0</td>\n",
       "      <td>1.0</td>\n",
       "      <td>96517.97</td>\n",
       "      <td>0</td>\n",
       "    </tr>\n",
       "    <tr>\n",
       "      <th>9998</th>\n",
       "      <td>15565706</td>\n",
       "      <td>Akobundu</td>\n",
       "      <td>612.0</td>\n",
       "      <td>Spain</td>\n",
       "      <td>Male</td>\n",
       "      <td>35.0</td>\n",
       "      <td>1.0</td>\n",
       "      <td>0.00</td>\n",
       "      <td>1.0</td>\n",
       "      <td>1.0</td>\n",
       "      <td>1.0</td>\n",
       "      <td>83256.26</td>\n",
       "      <td>1</td>\n",
       "    </tr>\n",
       "    <tr>\n",
       "      <th>9999</th>\n",
       "      <td>15565701</td>\n",
       "      <td>Ferri</td>\n",
       "      <td>698.0</td>\n",
       "      <td>Spain</td>\n",
       "      <td>None</td>\n",
       "      <td>39.0</td>\n",
       "      <td>9.0</td>\n",
       "      <td>161993.89</td>\n",
       "      <td>1.0</td>\n",
       "      <td>0.0</td>\n",
       "      <td>0.0</td>\n",
       "      <td>90212.38</td>\n",
       "      <td>0</td>\n",
       "    </tr>\n",
       "  </tbody>\n",
       "</table>\n",
       "<p>10000 rows × 13 columns</p>\n",
       "</div>"
      ],
      "text/plain": [
       "      CustomerId   Surname  CreditScore Geography  Gender   Age  Tenure  \\\n",
       "0       15815690  Akabueze        614.0     Spain  Female  40.0     3.0   \n",
       "1       15815660     Mazzi        758.0    France  Female  34.0     1.0   \n",
       "2       15815656   Hopkins        541.0   Germany  Female  39.0     9.0   \n",
       "3       15815645    Akhtar        481.0    France    None  37.0     8.0   \n",
       "4       15815628    Moysey        711.0    France  Female  37.0     8.0   \n",
       "...          ...       ...          ...       ...     ...   ...     ...   \n",
       "9995    15565796  Docherty        745.0   Germany    Male  48.0    10.0   \n",
       "9996    15565779      Kent        627.0   Germany  Female  30.0     6.0   \n",
       "9997    15565714  Cattaneo        601.0    France    Male  47.0     1.0   \n",
       "9998    15565706  Akobundu        612.0     Spain    Male  35.0     1.0   \n",
       "9999    15565701     Ferri        698.0     Spain    None  39.0     9.0   \n",
       "\n",
       "        Balance  NumOfProducts  HasCrCard  IsActiveMember  EstimatedSalary  \\\n",
       "0     113348.50            1.0        1.0             1.0         77789.01   \n",
       "1     154139.45            1.0        1.0             1.0         60728.89   \n",
       "2     100116.67            1.0        1.0             1.0        199808.10   \n",
       "3     152303.66            2.0        1.0             1.0        175082.20   \n",
       "4     113899.92            1.0        0.0             0.0         80215.20   \n",
       "...         ...            ...        ...             ...              ...   \n",
       "9995   96048.55            1.0        1.0             0.0         74510.65   \n",
       "9996   57809.32            1.0        1.0             0.0        188258.49   \n",
       "9997   64430.06            2.0        0.0             1.0         96517.97   \n",
       "9998       0.00            1.0        1.0             1.0         83256.26   \n",
       "9999  161993.89            1.0        0.0             0.0         90212.38   \n",
       "\n",
       "      Exited  \n",
       "0          0  \n",
       "1          0  \n",
       "2          1  \n",
       "3          0  \n",
       "4          0  \n",
       "...      ...  \n",
       "9995       0  \n",
       "9996       0  \n",
       "9997       0  \n",
       "9998       1  \n",
       "9999       0  \n",
       "\n",
       "[10000 rows x 13 columns]"
      ]
     },
     "execution_count": 20,
     "metadata": {},
     "output_type": "execute_result"
    }
   ],
   "source": [
    "# dropping RowNumber as a column\n",
    "df_bank.drop(columns = [\"RowNumber\"], inplace = True)\n",
    "df_bank"
   ]
  },
  {
   "cell_type": "markdown",
   "metadata": {},
   "source": [
    "#### Column `CustomerId`"
   ]
  },
  {
   "cell_type": "markdown",
   "metadata": {},
   "source": [
    "##### Analysis and missing values\n",
    "\n",
    "As seen before, `CustomerId` is the unique bank customer identifier unequivocally within the dataset."
   ]
  },
  {
   "cell_type": "code",
   "execution_count": 21,
   "metadata": {},
   "outputs": [
    {
     "data": {
      "text/plain": [
       "False"
      ]
     },
     "execution_count": 21,
     "metadata": {},
     "output_type": "execute_result"
    }
   ],
   "source": [
    "df_bank.CustomerId.isna().any()"
   ]
  },
  {
   "cell_type": "markdown",
   "metadata": {},
   "source": [
    "There are no missing values in `CustomerId`, as we have seen before."
   ]
  },
  {
   "cell_type": "code",
   "execution_count": 22,
   "metadata": {},
   "outputs": [
    {
     "data": {
      "text/plain": [
       "15815690    1\n",
       "15649211    1\n",
       "15649379    1\n",
       "15649359    1\n",
       "15649354    1\n",
       "           ..\n",
       "15732265    1\n",
       "15732235    1\n",
       "15732202    1\n",
       "15732199    1\n",
       "15565701    1\n",
       "Name: CustomerId, Length: 10000, dtype: int64"
      ]
     },
     "execution_count": 22,
     "metadata": {},
     "output_type": "execute_result"
    }
   ],
   "source": [
    "df_bank.CustomerId.value_counts(dropna = False)"
   ]
  },
  {
   "cell_type": "code",
   "execution_count": 23,
   "metadata": {},
   "outputs": [
    {
     "data": {
      "text/plain": [
       "True"
      ]
     },
     "execution_count": 23,
     "metadata": {},
     "output_type": "execute_result"
    }
   ],
   "source": [
    "df_bank.CustomerId.is_unique"
   ]
  },
  {
   "cell_type": "markdown",
   "metadata": {},
   "source": [
    "All values are unique now, after the merge we did before."
   ]
  },
  {
   "cell_type": "markdown",
   "metadata": {},
   "source": [
    "##### Outliers\n",
    "\n",
    "As it's an internal ID in a database, it doesn't require the analysis of any outliers."
   ]
  },
  {
   "cell_type": "markdown",
   "metadata": {},
   "source": [
    "#### Column `Surname`"
   ]
  },
  {
   "cell_type": "markdown",
   "metadata": {},
   "source": [
    "##### Analysis and missing values\n",
    "\n",
    "`Surname` identifies the last name of the bank customer. It is of type object (even though it's referring to a string in this case) and it can have repeated values as Last Names can be repeated between different people. It can be interpreted of categorical as there are several repeated last names that can be grouped together."
   ]
  },
  {
   "cell_type": "code",
   "execution_count": 24,
   "metadata": {},
   "outputs": [
    {
     "data": {
      "text/plain": [
       "0       Akabueze\n",
       "1          Mazzi\n",
       "2        Hopkins\n",
       "3         Akhtar\n",
       "4         Moysey\n",
       "          ...   \n",
       "9995    Docherty\n",
       "9996        Kent\n",
       "9997    Cattaneo\n",
       "9998    Akobundu\n",
       "9999       Ferri\n",
       "Name: Surname, Length: 10000, dtype: object"
      ]
     },
     "execution_count": 24,
     "metadata": {},
     "output_type": "execute_result"
    }
   ],
   "source": [
    "df_bank.Surname"
   ]
  },
  {
   "cell_type": "code",
   "execution_count": 25,
   "metadata": {},
   "outputs": [
    {
     "data": {
      "text/plain": [
       "NaN         92\n",
       "Smith       32\n",
       "Martin      29\n",
       "Scott       29\n",
       "Walker      28\n",
       "            ..\n",
       "Whiddon      1\n",
       "Streeton     1\n",
       "Morey        1\n",
       "Mosman       1\n",
       "Toosey       1\n",
       "Name: Surname, Length: 2926, dtype: int64"
      ]
     },
     "execution_count": 25,
     "metadata": {},
     "output_type": "execute_result"
    }
   ],
   "source": [
    "df_bank.Surname.value_counts(dropna = False)"
   ]
  },
  {
   "cell_type": "code",
   "execution_count": 26,
   "metadata": {},
   "outputs": [
    {
     "data": {
      "text/html": [
       "<div>\n",
       "<style scoped>\n",
       "    .dataframe tbody tr th:only-of-type {\n",
       "        vertical-align: middle;\n",
       "    }\n",
       "\n",
       "    .dataframe tbody tr th {\n",
       "        vertical-align: top;\n",
       "    }\n",
       "\n",
       "    .dataframe thead th {\n",
       "        text-align: right;\n",
       "    }\n",
       "</style>\n",
       "<table border=\"1\" class=\"dataframe\">\n",
       "  <thead>\n",
       "    <tr style=\"text-align: right;\">\n",
       "      <th></th>\n",
       "      <th>CustomerId</th>\n",
       "      <th>Surname</th>\n",
       "      <th>CreditScore</th>\n",
       "      <th>Geography</th>\n",
       "      <th>Gender</th>\n",
       "      <th>Age</th>\n",
       "      <th>Tenure</th>\n",
       "      <th>Balance</th>\n",
       "      <th>NumOfProducts</th>\n",
       "      <th>HasCrCard</th>\n",
       "      <th>IsActiveMember</th>\n",
       "      <th>EstimatedSalary</th>\n",
       "      <th>Exited</th>\n",
       "    </tr>\n",
       "  </thead>\n",
       "  <tbody>\n",
       "    <tr>\n",
       "      <th>68</th>\n",
       "      <td>15813871</td>\n",
       "      <td>None</td>\n",
       "      <td>690.0</td>\n",
       "      <td>France</td>\n",
       "      <td>Male</td>\n",
       "      <td>47.0</td>\n",
       "      <td>2.0</td>\n",
       "      <td>0.00</td>\n",
       "      <td>2.0</td>\n",
       "      <td>1.0</td>\n",
       "      <td>0.0</td>\n",
       "      <td>151375.73</td>\n",
       "      <td>0</td>\n",
       "    </tr>\n",
       "    <tr>\n",
       "      <th>176</th>\n",
       "      <td>15811314</td>\n",
       "      <td>None</td>\n",
       "      <td>589.0</td>\n",
       "      <td>Germany</td>\n",
       "      <td>Female</td>\n",
       "      <td>36.0</td>\n",
       "      <td>9.0</td>\n",
       "      <td>140355.56</td>\n",
       "      <td>NaN</td>\n",
       "      <td>1.0</td>\n",
       "      <td>0.0</td>\n",
       "      <td>136329.96</td>\n",
       "      <td>0</td>\n",
       "    </tr>\n",
       "    <tr>\n",
       "      <th>248</th>\n",
       "      <td>15809585</td>\n",
       "      <td>None</td>\n",
       "      <td>646.0</td>\n",
       "      <td>France</td>\n",
       "      <td>Male</td>\n",
       "      <td>38.0</td>\n",
       "      <td>7.0</td>\n",
       "      <td>0.00</td>\n",
       "      <td>2.0</td>\n",
       "      <td>1.0</td>\n",
       "      <td>0.0</td>\n",
       "      <td>1528.40</td>\n",
       "      <td>0</td>\n",
       "    </tr>\n",
       "    <tr>\n",
       "      <th>260</th>\n",
       "      <td>15809263</td>\n",
       "      <td>None</td>\n",
       "      <td>729.0</td>\n",
       "      <td>Germany</td>\n",
       "      <td>Male</td>\n",
       "      <td>29.0</td>\n",
       "      <td>5.0</td>\n",
       "      <td>109676.52</td>\n",
       "      <td>1.0</td>\n",
       "      <td>1.0</td>\n",
       "      <td>1.0</td>\n",
       "      <td>25548.47</td>\n",
       "      <td>0</td>\n",
       "    </tr>\n",
       "    <tr>\n",
       "      <th>288</th>\n",
       "      <td>15808566</td>\n",
       "      <td>None</td>\n",
       "      <td>516.0</td>\n",
       "      <td>France</td>\n",
       "      <td>Male</td>\n",
       "      <td>46.0</td>\n",
       "      <td>2.0</td>\n",
       "      <td>0.00</td>\n",
       "      <td>2.0</td>\n",
       "      <td>1.0</td>\n",
       "      <td>1.0</td>\n",
       "      <td>169122.54</td>\n",
       "      <td>0</td>\n",
       "    </tr>\n",
       "    <tr>\n",
       "      <th>...</th>\n",
       "      <td>...</td>\n",
       "      <td>...</td>\n",
       "      <td>...</td>\n",
       "      <td>...</td>\n",
       "      <td>...</td>\n",
       "      <td>...</td>\n",
       "      <td>...</td>\n",
       "      <td>...</td>\n",
       "      <td>...</td>\n",
       "      <td>...</td>\n",
       "      <td>...</td>\n",
       "      <td>...</td>\n",
       "      <td>...</td>\n",
       "    </tr>\n",
       "    <tr>\n",
       "      <th>9400</th>\n",
       "      <td>15581388</td>\n",
       "      <td>None</td>\n",
       "      <td>487.0</td>\n",
       "      <td>Spain</td>\n",
       "      <td>Male</td>\n",
       "      <td>33.0</td>\n",
       "      <td>8.0</td>\n",
       "      <td>145729.71</td>\n",
       "      <td>1.0</td>\n",
       "      <td>1.0</td>\n",
       "      <td>0.0</td>\n",
       "      <td>41365.85</td>\n",
       "      <td>0</td>\n",
       "    </tr>\n",
       "    <tr>\n",
       "      <th>9491</th>\n",
       "      <td>15579040</td>\n",
       "      <td>None</td>\n",
       "      <td>556.0</td>\n",
       "      <td>France</td>\n",
       "      <td>Female</td>\n",
       "      <td>46.0</td>\n",
       "      <td>10.0</td>\n",
       "      <td>0.00</td>\n",
       "      <td>2.0</td>\n",
       "      <td>0.0</td>\n",
       "      <td>0.0</td>\n",
       "      <td>109184.24</td>\n",
       "      <td>0</td>\n",
       "    </tr>\n",
       "    <tr>\n",
       "      <th>9514</th>\n",
       "      <td>15578462</td>\n",
       "      <td>None</td>\n",
       "      <td>596.0</td>\n",
       "      <td>Spain</td>\n",
       "      <td>Female</td>\n",
       "      <td>76.0</td>\n",
       "      <td>9.0</td>\n",
       "      <td>134208.25</td>\n",
       "      <td>1.0</td>\n",
       "      <td>1.0</td>\n",
       "      <td>1.0</td>\n",
       "      <td>13455.43</td>\n",
       "      <td>0</td>\n",
       "    </tr>\n",
       "    <tr>\n",
       "      <th>9728</th>\n",
       "      <td>15572657</td>\n",
       "      <td>None</td>\n",
       "      <td>472.0</td>\n",
       "      <td>France</td>\n",
       "      <td>Male</td>\n",
       "      <td>29.0</td>\n",
       "      <td>8.0</td>\n",
       "      <td>102490.27</td>\n",
       "      <td>1.0</td>\n",
       "      <td>0.0</td>\n",
       "      <td>1.0</td>\n",
       "      <td>181224.56</td>\n",
       "      <td>0</td>\n",
       "    </tr>\n",
       "    <tr>\n",
       "      <th>9912</th>\n",
       "      <td>15568106</td>\n",
       "      <td>None</td>\n",
       "      <td>592.0</td>\n",
       "      <td>France</td>\n",
       "      <td>Female</td>\n",
       "      <td>38.0</td>\n",
       "      <td>8.0</td>\n",
       "      <td>119278.01</td>\n",
       "      <td>2.0</td>\n",
       "      <td>0.0</td>\n",
       "      <td>1.0</td>\n",
       "      <td>19370.73</td>\n",
       "      <td>0</td>\n",
       "    </tr>\n",
       "  </tbody>\n",
       "</table>\n",
       "<p>92 rows × 13 columns</p>\n",
       "</div>"
      ],
      "text/plain": [
       "      CustomerId Surname  CreditScore Geography  Gender   Age  Tenure  \\\n",
       "68      15813871    None        690.0    France    Male  47.0     2.0   \n",
       "176     15811314    None        589.0   Germany  Female  36.0     9.0   \n",
       "248     15809585    None        646.0    France    Male  38.0     7.0   \n",
       "260     15809263    None        729.0   Germany    Male  29.0     5.0   \n",
       "288     15808566    None        516.0    France    Male  46.0     2.0   \n",
       "...          ...     ...          ...       ...     ...   ...     ...   \n",
       "9400    15581388    None        487.0     Spain    Male  33.0     8.0   \n",
       "9491    15579040    None        556.0    France  Female  46.0    10.0   \n",
       "9514    15578462    None        596.0     Spain  Female  76.0     9.0   \n",
       "9728    15572657    None        472.0    France    Male  29.0     8.0   \n",
       "9912    15568106    None        592.0    France  Female  38.0     8.0   \n",
       "\n",
       "        Balance  NumOfProducts  HasCrCard  IsActiveMember  EstimatedSalary  \\\n",
       "68         0.00            2.0        1.0             0.0        151375.73   \n",
       "176   140355.56            NaN        1.0             0.0        136329.96   \n",
       "248        0.00            2.0        1.0             0.0          1528.40   \n",
       "260   109676.52            1.0        1.0             1.0         25548.47   \n",
       "288        0.00            2.0        1.0             1.0        169122.54   \n",
       "...         ...            ...        ...             ...              ...   \n",
       "9400  145729.71            1.0        1.0             0.0         41365.85   \n",
       "9491       0.00            2.0        0.0             0.0        109184.24   \n",
       "9514  134208.25            1.0        1.0             1.0         13455.43   \n",
       "9728  102490.27            1.0        0.0             1.0        181224.56   \n",
       "9912  119278.01            2.0        0.0             1.0         19370.73   \n",
       "\n",
       "      Exited  \n",
       "68         0  \n",
       "176        0  \n",
       "248        0  \n",
       "260        0  \n",
       "288        0  \n",
       "...      ...  \n",
       "9400       0  \n",
       "9491       0  \n",
       "9514       0  \n",
       "9728       0  \n",
       "9912       0  \n",
       "\n",
       "[92 rows x 13 columns]"
      ]
     },
     "execution_count": 26,
     "metadata": {},
     "output_type": "execute_result"
    }
   ],
   "source": [
    "# checking NaN\n",
    "df_bank[df_bank.Surname.isna()]"
   ]
  },
  {
   "cell_type": "markdown",
   "metadata": {},
   "source": [
    "Nulls represent different customers as these are identified by its unique `CustomerId`. \n",
    "\n",
    "We have 2 options here:\n",
    "- Fill in those null values with an empty string\n",
    "- Remove the column \n",
    "\n",
    "We have decided to finally keep the column and fill in the nulls, to see if a model can provide us something back from the origin of those surnames. The nulls will be filled with `NotReported`."
   ]
  },
  {
   "cell_type": "code",
   "execution_count": 27,
   "metadata": {},
   "outputs": [],
   "source": [
    "# filling in Surname NaN's\n",
    "df_bank.loc[df_bank.Surname.isna(), \"Surname\"] = \"NotReported\""
   ]
  },
  {
   "cell_type": "code",
   "execution_count": 28,
   "metadata": {},
   "outputs": [
    {
     "data": {
      "text/plain": [
       "0"
      ]
     },
     "execution_count": 28,
     "metadata": {},
     "output_type": "execute_result"
    }
   ],
   "source": [
    "df_bank.Surname.isna().sum()"
   ]
  },
  {
   "cell_type": "markdown",
   "metadata": {},
   "source": [
    "##### Outliers\n",
    "\n",
    "No need to analyse outliers with categorical variables"
   ]
  },
  {
   "cell_type": "markdown",
   "metadata": {},
   "source": [
    "#### Column `CreditScore`"
   ]
  },
  {
   "cell_type": "markdown",
   "metadata": {},
   "source": [
    "##### Analysis and missing values\n",
    "\n",
    "`CreditScore` is a continuous numerical value between 300 - 850 that depicts a customer's creditworthiness. The higher the score, the better a borrower looks to potential lenders.\n",
    "\n",
    "[More information on credit score](https://www.investopedia.com/terms/c/credit_score.asp)\n"
   ]
  },
  {
   "cell_type": "code",
   "execution_count": 29,
   "metadata": {},
   "outputs": [
    {
     "data": {
      "text/plain": [
       "count    9982.000000\n",
       "mean      650.902076\n",
       "std       100.409554\n",
       "min       350.000000\n",
       "25%       584.000000\n",
       "50%       652.000000\n",
       "75%       718.000000\n",
       "max      2924.008649\n",
       "Name: CreditScore, dtype: float64"
      ]
     },
     "execution_count": 29,
     "metadata": {},
     "output_type": "execute_result"
    }
   ],
   "source": [
    "# mean, median and quartiles\n",
    "df_bank.CreditScore.describe()"
   ]
  },
  {
   "cell_type": "markdown",
   "metadata": {},
   "source": [
    "From the description, we see that the minimum (350) is inside the 300 - 850 range, but the maximum 2924 is not (the decimal places also make it look erroneous), so we may have some outliers we'll analyze later. Nothing else looks weird by looking into the general data description."
   ]
  },
  {
   "cell_type": "code",
   "execution_count": 30,
   "metadata": {},
   "outputs": [
    {
     "data": {
      "text/plain": [
       "True"
      ]
     },
     "execution_count": 30,
     "metadata": {},
     "output_type": "execute_result"
    }
   ],
   "source": [
    "# checking if there are any null values to transform\n",
    "df_bank.CreditScore.isna().any()"
   ]
  },
  {
   "cell_type": "code",
   "execution_count": 31,
   "metadata": {},
   "outputs": [
    {
     "name": "stdout",
     "output_type": "stream",
     "text": [
      "There are 18 NaN entries\n"
     ]
    }
   ],
   "source": [
    "print(\"There are\", df_bank.CreditScore.isna().sum(), \"NaN entries\")"
   ]
  },
  {
   "cell_type": "code",
   "execution_count": 32,
   "metadata": {},
   "outputs": [
    {
     "data": {
      "text/html": [
       "<div>\n",
       "<style scoped>\n",
       "    .dataframe tbody tr th:only-of-type {\n",
       "        vertical-align: middle;\n",
       "    }\n",
       "\n",
       "    .dataframe tbody tr th {\n",
       "        vertical-align: top;\n",
       "    }\n",
       "\n",
       "    .dataframe thead th {\n",
       "        text-align: right;\n",
       "    }\n",
       "</style>\n",
       "<table border=\"1\" class=\"dataframe\">\n",
       "  <thead>\n",
       "    <tr style=\"text-align: right;\">\n",
       "      <th></th>\n",
       "      <th>CustomerId</th>\n",
       "      <th>Surname</th>\n",
       "      <th>CreditScore</th>\n",
       "      <th>Geography</th>\n",
       "      <th>Gender</th>\n",
       "      <th>Age</th>\n",
       "      <th>Tenure</th>\n",
       "      <th>Balance</th>\n",
       "      <th>NumOfProducts</th>\n",
       "      <th>HasCrCard</th>\n",
       "      <th>IsActiveMember</th>\n",
       "      <th>EstimatedSalary</th>\n",
       "      <th>Exited</th>\n",
       "    </tr>\n",
       "  </thead>\n",
       "  <tbody>\n",
       "    <tr>\n",
       "      <th>553</th>\n",
       "      <td>15801559</td>\n",
       "      <td>Chiang</td>\n",
       "      <td>NaN</td>\n",
       "      <td>Germany</td>\n",
       "      <td>Female</td>\n",
       "      <td>41.0</td>\n",
       "      <td>9.0</td>\n",
       "      <td>181461.48</td>\n",
       "      <td>3.0</td>\n",
       "      <td>1.0</td>\n",
       "      <td>1.0</td>\n",
       "      <td>NaN</td>\n",
       "      <td>1</td>\n",
       "    </tr>\n",
       "    <tr>\n",
       "      <th>604</th>\n",
       "      <td>15800482</td>\n",
       "      <td>Bradshaw</td>\n",
       "      <td>NaN</td>\n",
       "      <td>Spain</td>\n",
       "      <td>Female</td>\n",
       "      <td>33.0</td>\n",
       "      <td>7.0</td>\n",
       "      <td>0.00</td>\n",
       "      <td>2.0</td>\n",
       "      <td>1.0</td>\n",
       "      <td>1.0</td>\n",
       "      <td>168261.40</td>\n",
       "      <td>0</td>\n",
       "    </tr>\n",
       "    <tr>\n",
       "      <th>727</th>\n",
       "      <td>15797293</td>\n",
       "      <td>Sopuluchukwu</td>\n",
       "      <td>NaN</td>\n",
       "      <td>France</td>\n",
       "      <td>Female</td>\n",
       "      <td>25.0</td>\n",
       "      <td>3.0</td>\n",
       "      <td>0.00</td>\n",
       "      <td>2.0</td>\n",
       "      <td>1.0</td>\n",
       "      <td>0.0</td>\n",
       "      <td>179608.96</td>\n",
       "      <td>0</td>\n",
       "    </tr>\n",
       "    <tr>\n",
       "      <th>1088</th>\n",
       "      <td>15788556</td>\n",
       "      <td>Trouette</td>\n",
       "      <td>NaN</td>\n",
       "      <td>France</td>\n",
       "      <td>Female</td>\n",
       "      <td>42.0</td>\n",
       "      <td>4.0</td>\n",
       "      <td>148283.94</td>\n",
       "      <td>1.0</td>\n",
       "      <td>1.0</td>\n",
       "      <td>1.0</td>\n",
       "      <td>44692.63</td>\n",
       "      <td>1</td>\n",
       "    </tr>\n",
       "    <tr>\n",
       "      <th>1190</th>\n",
       "      <td>15785815</td>\n",
       "      <td>Toscano</td>\n",
       "      <td>NaN</td>\n",
       "      <td>Germany</td>\n",
       "      <td>Male</td>\n",
       "      <td>NaN</td>\n",
       "      <td>1.0</td>\n",
       "      <td>142631.54</td>\n",
       "      <td>2.0</td>\n",
       "      <td>1.0</td>\n",
       "      <td>1.0</td>\n",
       "      <td>175894.24</td>\n",
       "      <td>0</td>\n",
       "    </tr>\n",
       "    <tr>\n",
       "      <th>4087</th>\n",
       "      <td>15713608</td>\n",
       "      <td>Tuan</td>\n",
       "      <td>NaN</td>\n",
       "      <td>France</td>\n",
       "      <td>Female</td>\n",
       "      <td>41.0</td>\n",
       "      <td>5.0</td>\n",
       "      <td>0.00</td>\n",
       "      <td>2.0</td>\n",
       "      <td>1.0</td>\n",
       "      <td>1.0</td>\n",
       "      <td>34827.43</td>\n",
       "      <td>0</td>\n",
       "    </tr>\n",
       "    <tr>\n",
       "      <th>4385</th>\n",
       "      <td>15706021</td>\n",
       "      <td>Buley</td>\n",
       "      <td>NaN</td>\n",
       "      <td>France</td>\n",
       "      <td>Female</td>\n",
       "      <td>34.0</td>\n",
       "      <td>1.0</td>\n",
       "      <td>96645.54</td>\n",
       "      <td>2.0</td>\n",
       "      <td>0.0</td>\n",
       "      <td>0.0</td>\n",
       "      <td>171413.66</td>\n",
       "      <td>0</td>\n",
       "    </tr>\n",
       "    <tr>\n",
       "      <th>5056</th>\n",
       "      <td>15689425</td>\n",
       "      <td>Olejuru</td>\n",
       "      <td>NaN</td>\n",
       "      <td>Spain</td>\n",
       "      <td>Male</td>\n",
       "      <td>35.0</td>\n",
       "      <td>8.0</td>\n",
       "      <td>100988.39</td>\n",
       "      <td>2.0</td>\n",
       "      <td>1.0</td>\n",
       "      <td>0.0</td>\n",
       "      <td>22247.27</td>\n",
       "      <td>0</td>\n",
       "    </tr>\n",
       "    <tr>\n",
       "      <th>5717</th>\n",
       "      <td>15672640</td>\n",
       "      <td>Kambinachi</td>\n",
       "      <td>NaN</td>\n",
       "      <td>Spain</td>\n",
       "      <td>Female</td>\n",
       "      <td>45.0</td>\n",
       "      <td>4.0</td>\n",
       "      <td>114347.85</td>\n",
       "      <td>2.0</td>\n",
       "      <td>1.0</td>\n",
       "      <td>1.0</td>\n",
       "      <td>109089.04</td>\n",
       "      <td>0</td>\n",
       "    </tr>\n",
       "    <tr>\n",
       "      <th>5840</th>\n",
       "      <td>15669945</td>\n",
       "      <td>Jackson</td>\n",
       "      <td>NaN</td>\n",
       "      <td>France</td>\n",
       "      <td>Male</td>\n",
       "      <td>35.0</td>\n",
       "      <td>4.0</td>\n",
       "      <td>141359.37</td>\n",
       "      <td>NaN</td>\n",
       "      <td>1.0</td>\n",
       "      <td>0.0</td>\n",
       "      <td>NaN</td>\n",
       "      <td>0</td>\n",
       "    </tr>\n",
       "    <tr>\n",
       "      <th>6819</th>\n",
       "      <td>15645511</td>\n",
       "      <td>Chukwudi</td>\n",
       "      <td>NaN</td>\n",
       "      <td>Spain</td>\n",
       "      <td>Male</td>\n",
       "      <td>43.0</td>\n",
       "      <td>2.0</td>\n",
       "      <td>97403.18</td>\n",
       "      <td>1.0</td>\n",
       "      <td>1.0</td>\n",
       "      <td>1.0</td>\n",
       "      <td>107415.02</td>\n",
       "      <td>1</td>\n",
       "    </tr>\n",
       "    <tr>\n",
       "      <th>8001</th>\n",
       "      <td>15616365</td>\n",
       "      <td>Obiuto</td>\n",
       "      <td>NaN</td>\n",
       "      <td>France</td>\n",
       "      <td>Female</td>\n",
       "      <td>53.0</td>\n",
       "      <td>2.0</td>\n",
       "      <td>0.00</td>\n",
       "      <td>2.0</td>\n",
       "      <td>1.0</td>\n",
       "      <td>0.0</td>\n",
       "      <td>28045.77</td>\n",
       "      <td>0</td>\n",
       "    </tr>\n",
       "    <tr>\n",
       "      <th>8424</th>\n",
       "      <td>15605684</td>\n",
       "      <td>Phelan</td>\n",
       "      <td>NaN</td>\n",
       "      <td>France</td>\n",
       "      <td>Female</td>\n",
       "      <td>31.0</td>\n",
       "      <td>7.0</td>\n",
       "      <td>104158.84</td>\n",
       "      <td>1.0</td>\n",
       "      <td>1.0</td>\n",
       "      <td>0.0</td>\n",
       "      <td>134169.85</td>\n",
       "      <td>0</td>\n",
       "    </tr>\n",
       "    <tr>\n",
       "      <th>8822</th>\n",
       "      <td>15595350</td>\n",
       "      <td>Fermin</td>\n",
       "      <td>NaN</td>\n",
       "      <td>France</td>\n",
       "      <td>None</td>\n",
       "      <td>31.0</td>\n",
       "      <td>3.0</td>\n",
       "      <td>136067.82</td>\n",
       "      <td>2.0</td>\n",
       "      <td>1.0</td>\n",
       "      <td>0.0</td>\n",
       "      <td>65567.91</td>\n",
       "      <td>0</td>\n",
       "    </tr>\n",
       "    <tr>\n",
       "      <th>9574</th>\n",
       "      <td>15576683</td>\n",
       "      <td>Yin</td>\n",
       "      <td>NaN</td>\n",
       "      <td>Spain</td>\n",
       "      <td>Female</td>\n",
       "      <td>43.0</td>\n",
       "      <td>9.0</td>\n",
       "      <td>0.00</td>\n",
       "      <td>1.0</td>\n",
       "      <td>1.0</td>\n",
       "      <td>0.0</td>\n",
       "      <td>125870.79</td>\n",
       "      <td>1</td>\n",
       "    </tr>\n",
       "    <tr>\n",
       "      <th>9625</th>\n",
       "      <td>15575498</td>\n",
       "      <td>Gould</td>\n",
       "      <td>NaN</td>\n",
       "      <td>France</td>\n",
       "      <td>Female</td>\n",
       "      <td>39.0</td>\n",
       "      <td>5.0</td>\n",
       "      <td>149379.66</td>\n",
       "      <td>2.0</td>\n",
       "      <td>1.0</td>\n",
       "      <td>0.0</td>\n",
       "      <td>96075.55</td>\n",
       "      <td>0</td>\n",
       "    </tr>\n",
       "    <tr>\n",
       "      <th>9692</th>\n",
       "      <td>15573888</td>\n",
       "      <td>Ponomaryov</td>\n",
       "      <td>NaN</td>\n",
       "      <td>Germany</td>\n",
       "      <td>Female</td>\n",
       "      <td>43.0</td>\n",
       "      <td>1.0</td>\n",
       "      <td>107963.38</td>\n",
       "      <td>1.0</td>\n",
       "      <td>0.0</td>\n",
       "      <td>0.0</td>\n",
       "      <td>186438.86</td>\n",
       "      <td>1</td>\n",
       "    </tr>\n",
       "    <tr>\n",
       "      <th>9932</th>\n",
       "      <td>15567802</td>\n",
       "      <td>Childs</td>\n",
       "      <td>NaN</td>\n",
       "      <td>Spain</td>\n",
       "      <td>Female</td>\n",
       "      <td>NaN</td>\n",
       "      <td>2.0</td>\n",
       "      <td>0.00</td>\n",
       "      <td>2.0</td>\n",
       "      <td>1.0</td>\n",
       "      <td>0.0</td>\n",
       "      <td>175480.93</td>\n",
       "      <td>0</td>\n",
       "    </tr>\n",
       "  </tbody>\n",
       "</table>\n",
       "</div>"
      ],
      "text/plain": [
       "      CustomerId       Surname  CreditScore Geography  Gender   Age  Tenure  \\\n",
       "553     15801559        Chiang          NaN   Germany  Female  41.0     9.0   \n",
       "604     15800482      Bradshaw          NaN     Spain  Female  33.0     7.0   \n",
       "727     15797293  Sopuluchukwu          NaN    France  Female  25.0     3.0   \n",
       "1088    15788556      Trouette          NaN    France  Female  42.0     4.0   \n",
       "1190    15785815       Toscano          NaN   Germany    Male   NaN     1.0   \n",
       "4087    15713608          Tuan          NaN    France  Female  41.0     5.0   \n",
       "4385    15706021         Buley          NaN    France  Female  34.0     1.0   \n",
       "5056    15689425       Olejuru          NaN     Spain    Male  35.0     8.0   \n",
       "5717    15672640    Kambinachi          NaN     Spain  Female  45.0     4.0   \n",
       "5840    15669945       Jackson          NaN    France    Male  35.0     4.0   \n",
       "6819    15645511      Chukwudi          NaN     Spain    Male  43.0     2.0   \n",
       "8001    15616365        Obiuto          NaN    France  Female  53.0     2.0   \n",
       "8424    15605684        Phelan          NaN    France  Female  31.0     7.0   \n",
       "8822    15595350        Fermin          NaN    France    None  31.0     3.0   \n",
       "9574    15576683           Yin          NaN     Spain  Female  43.0     9.0   \n",
       "9625    15575498         Gould          NaN    France  Female  39.0     5.0   \n",
       "9692    15573888    Ponomaryov          NaN   Germany  Female  43.0     1.0   \n",
       "9932    15567802        Childs          NaN     Spain  Female   NaN     2.0   \n",
       "\n",
       "        Balance  NumOfProducts  HasCrCard  IsActiveMember  EstimatedSalary  \\\n",
       "553   181461.48            3.0        1.0             1.0              NaN   \n",
       "604        0.00            2.0        1.0             1.0        168261.40   \n",
       "727        0.00            2.0        1.0             0.0        179608.96   \n",
       "1088  148283.94            1.0        1.0             1.0         44692.63   \n",
       "1190  142631.54            2.0        1.0             1.0        175894.24   \n",
       "4087       0.00            2.0        1.0             1.0         34827.43   \n",
       "4385   96645.54            2.0        0.0             0.0        171413.66   \n",
       "5056  100988.39            2.0        1.0             0.0         22247.27   \n",
       "5717  114347.85            2.0        1.0             1.0        109089.04   \n",
       "5840  141359.37            NaN        1.0             0.0              NaN   \n",
       "6819   97403.18            1.0        1.0             1.0        107415.02   \n",
       "8001       0.00            2.0        1.0             0.0         28045.77   \n",
       "8424  104158.84            1.0        1.0             0.0        134169.85   \n",
       "8822  136067.82            2.0        1.0             0.0         65567.91   \n",
       "9574       0.00            1.0        1.0             0.0        125870.79   \n",
       "9625  149379.66            2.0        1.0             0.0         96075.55   \n",
       "9692  107963.38            1.0        0.0             0.0        186438.86   \n",
       "9932       0.00            2.0        1.0             0.0        175480.93   \n",
       "\n",
       "      Exited  \n",
       "553        1  \n",
       "604        0  \n",
       "727        0  \n",
       "1088       1  \n",
       "1190       0  \n",
       "4087       0  \n",
       "4385       0  \n",
       "5056       0  \n",
       "5717       0  \n",
       "5840       0  \n",
       "6819       1  \n",
       "8001       0  \n",
       "8424       0  \n",
       "8822       0  \n",
       "9574       1  \n",
       "9625       0  \n",
       "9692       1  \n",
       "9932       0  "
      ]
     },
     "execution_count": 32,
     "metadata": {},
     "output_type": "execute_result"
    }
   ],
   "source": [
    "df_bank[df_bank.CreditScore.isna()]"
   ]
  },
  {
   "cell_type": "markdown",
   "metadata": {},
   "source": [
    "Before filling in these values, we will check any outstanding outliers so we can get a proper mean or average to fill in.\n",
    "\n",
    "Additionally, something interesting we've noticed is that, even though the CreditScore is defined as a float, all entries that are not NaN's have 0s in the decimal positions. So we are dealing with integers instead of floats, as it seems that the data source doesn't have a decimal resolution. This makes this variable a discrete numerical value instead of a continuous float number as we imagined at the beginning."
   ]
  },
  {
   "cell_type": "code",
   "execution_count": 33,
   "metadata": {},
   "outputs": [
    {
     "data": {
      "text/plain": [
       ".0    9980\n",
       "52       1\n",
       "72       1\n",
       "Name: CreditScore, dtype: int64"
      ]
     },
     "execution_count": 33,
     "metadata": {},
     "output_type": "execute_result"
    }
   ],
   "source": [
    "df_bank.loc[df_bank.CreditScore.notnull(), \"CreditScore\"].astype(\"str\").str[-2:].value_counts()"
   ]
  },
  {
   "cell_type": "markdown",
   "metadata": {},
   "source": [
    "We'll convert the type to an integer as soon as we finish our data processing"
   ]
  },
  {
   "cell_type": "markdown",
   "metadata": {},
   "source": [
    "##### Outliers\n",
    "\n",
    "From the description, anything below 300 and above 850 is incorrect and corresponds to an outlier, as it's incorrect. However, let's check how these look within the whole data set."
   ]
  },
  {
   "cell_type": "code",
   "execution_count": 34,
   "metadata": {},
   "outputs": [
    {
     "data": {
      "text/plain": [
       "<AxesSubplot:>"
      ]
     },
     "execution_count": 34,
     "metadata": {},
     "output_type": "execute_result"
    },
    {
     "data": {
      "image/png": "[encoded data removed]",
      "text/plain": [
       "<Figure size 432x288 with 1 Axes>"
      ]
     },
     "metadata": {
      "needs_background": "light"
     },
     "output_type": "display_data"
    }
   ],
   "source": [
    "df_bank.CreditScore.hist()"
   ]
  },
  {
   "cell_type": "markdown",
   "metadata": {},
   "source": [
    "Outliers can't be properly seen as there aren't many. Let's use a boxplot to better identify them."
   ]
  },
  {
   "cell_type": "code",
   "execution_count": 35,
   "metadata": {},
   "outputs": [
    {
     "data": {
      "text/plain": [
       "<AxesSubplot:>"
      ]
     },
     "execution_count": 35,
     "metadata": {},
     "output_type": "execute_result"
    },
    {
     "data": {
      "image/png": "[encoded data removed]",
      "text/plain": [
       "<Figure size 432x288 with 1 Axes>"
      ]
     },
     "metadata": {
      "needs_background": "light"
     },
     "output_type": "display_data"
    }
   ],
   "source": [
    "df_bank.CreditScore.plot(kind = \"box\")"
   ]
  },
  {
   "cell_type": "code",
   "execution_count": 36,
   "metadata": {},
   "outputs": [
    {
     "data": {
      "text/html": [
       "<div>\n",
       "<style scoped>\n",
       "    .dataframe tbody tr th:only-of-type {\n",
       "        vertical-align: middle;\n",
       "    }\n",
       "\n",
       "    .dataframe tbody tr th {\n",
       "        vertical-align: top;\n",
       "    }\n",
       "\n",
       "    .dataframe thead th {\n",
       "        text-align: right;\n",
       "    }\n",
       "</style>\n",
       "<table border=\"1\" class=\"dataframe\">\n",
       "  <thead>\n",
       "    <tr style=\"text-align: right;\">\n",
       "      <th></th>\n",
       "      <th>CustomerId</th>\n",
       "      <th>Surname</th>\n",
       "      <th>CreditScore</th>\n",
       "      <th>Geography</th>\n",
       "      <th>Gender</th>\n",
       "      <th>Age</th>\n",
       "      <th>Tenure</th>\n",
       "      <th>Balance</th>\n",
       "      <th>NumOfProducts</th>\n",
       "      <th>HasCrCard</th>\n",
       "      <th>IsActiveMember</th>\n",
       "      <th>EstimatedSalary</th>\n",
       "      <th>Exited</th>\n",
       "    </tr>\n",
       "  </thead>\n",
       "  <tbody>\n",
       "    <tr>\n",
       "      <th>1553</th>\n",
       "      <td>15776631</td>\n",
       "      <td>Ma</td>\n",
       "      <td>2158.510025</td>\n",
       "      <td>France</td>\n",
       "      <td>Female</td>\n",
       "      <td>36.0</td>\n",
       "      <td>5.0</td>\n",
       "      <td>119540.15</td>\n",
       "      <td>1.0</td>\n",
       "      <td>0.0</td>\n",
       "      <td>1.0</td>\n",
       "      <td>80603.99</td>\n",
       "      <td>0</td>\n",
       "    </tr>\n",
       "    <tr>\n",
       "      <th>3502</th>\n",
       "      <td>15727619</td>\n",
       "      <td>Lock</td>\n",
       "      <td>2924.008649</td>\n",
       "      <td>Germany</td>\n",
       "      <td>Female</td>\n",
       "      <td>46.0</td>\n",
       "      <td>9.0</td>\n",
       "      <td>113909.69</td>\n",
       "      <td>3.0</td>\n",
       "      <td>1.0</td>\n",
       "      <td>0.0</td>\n",
       "      <td>92320.37</td>\n",
       "      <td>1</td>\n",
       "    </tr>\n",
       "  </tbody>\n",
       "</table>\n",
       "</div>"
      ],
      "text/plain": [
       "      CustomerId Surname  CreditScore Geography  Gender   Age  Tenure  \\\n",
       "1553    15776631      Ma  2158.510025    France  Female  36.0     5.0   \n",
       "3502    15727619    Lock  2924.008649   Germany  Female  46.0     9.0   \n",
       "\n",
       "        Balance  NumOfProducts  HasCrCard  IsActiveMember  EstimatedSalary  \\\n",
       "1553  119540.15            1.0        0.0             1.0         80603.99   \n",
       "3502  113909.69            3.0        1.0             0.0         92320.37   \n",
       "\n",
       "      Exited  \n",
       "1553       0  \n",
       "3502       1  "
      ]
     },
     "execution_count": 36,
     "metadata": {},
     "output_type": "execute_result"
    }
   ],
   "source": [
    "df_bank[(df_bank.CreditScore > 850) | (df_bank.CreditScore < 300)]"
   ]
  },
  {
   "cell_type": "markdown",
   "metadata": {},
   "source": [
    "These 2 outliers seem to have other valuable data that we could use. We will fill the outliers and the nulls with the mean values of the other correct values within the interval. We will assign the mean (rather than median or other) as the distribution of correct values is reasonably symmetrical."
   ]
  },
  {
   "cell_type": "code",
   "execution_count": 37,
   "metadata": {},
   "outputs": [],
   "source": [
    "# filling NaN's\n",
    "creditScore_mean = round(df_bank[df_bank.CreditScore.between(300, 850)].CreditScore.mean())\n",
    "df_bank.CreditScore.fillna(creditScore_mean, inplace = True)"
   ]
  },
  {
   "cell_type": "code",
   "execution_count": 38,
   "metadata": {},
   "outputs": [],
   "source": [
    "# removing outliers by filling in the mean of the creditScore entries with the right values (300, 850)\n",
    "df_bank.loc[(df_bank.CreditScore > 850) | (df_bank.CreditScore < 300), \"CreditScore\"] = creditScore_mean"
   ]
  },
  {
   "cell_type": "code",
   "execution_count": 39,
   "metadata": {},
   "outputs": [
    {
     "data": {
      "text/plain": [
       "<AxesSubplot:>"
      ]
     },
     "execution_count": 39,
     "metadata": {},
     "output_type": "execute_result"
    },
    {
     "data": {
      "image/png": "[encoded data removed]",
      "text/plain": [
       "<Figure size 432x288 with 1 Axes>"
      ]
     },
     "metadata": {
      "needs_background": "light"
     },
     "output_type": "display_data"
    }
   ],
   "source": [
    "# checking data after outlier removal\n",
    "df_bank.CreditScore.hist()"
   ]
  },
  {
   "cell_type": "code",
   "execution_count": 40,
   "metadata": {},
   "outputs": [
    {
     "data": {
      "text/plain": [
       "<AxesSubplot:>"
      ]
     },
     "execution_count": 40,
     "metadata": {},
     "output_type": "execute_result"
    },
    {
     "data": {
      "image/png": "[encoded data removed]",
      "text/plain": [
       "<Figure size 432x288 with 1 Axes>"
      ]
     },
     "metadata": {
      "needs_background": "light"
     },
     "output_type": "display_data"
    }
   ],
   "source": [
    "df_bank.CreditScore.plot(kind = \"box\")"
   ]
  },
  {
   "cell_type": "markdown",
   "metadata": {},
   "source": [
    "According to the box plot, we may have some suspected outliers below 400 now:"
   ]
  },
  {
   "cell_type": "code",
   "execution_count": 41,
   "metadata": {},
   "outputs": [
    {
     "data": {
      "text/plain": [
       "(19, 13)"
      ]
     },
     "execution_count": 41,
     "metadata": {},
     "output_type": "execute_result"
    }
   ],
   "source": [
    "df_bank[df_bank.CreditScore < 400].shape"
   ]
  },
  {
   "cell_type": "code",
   "execution_count": 42,
   "metadata": {},
   "outputs": [
    {
     "data": {
      "text/plain": [
       "350.0"
      ]
     },
     "execution_count": 42,
     "metadata": {},
     "output_type": "execute_result"
    }
   ],
   "source": [
    "df_bank.CreditScore[df_bank.CreditScore < 400].min()"
   ]
  },
  {
   "cell_type": "markdown",
   "metadata": {},
   "source": [
    "There are only 19 entries and also only 50 units below 400. For the time being, we will keep these suspected outliers as they are also fulfilling the definition of Credit Score that we've seen before. \n",
    "\n",
    "Now, we will transform the variable type into an integer."
   ]
  },
  {
   "cell_type": "code",
   "execution_count": 43,
   "metadata": {},
   "outputs": [],
   "source": [
    "df_bank.CreditScore = df_bank.CreditScore.astype(\"int\")"
   ]
  },
  {
   "cell_type": "code",
   "execution_count": 44,
   "metadata": {},
   "outputs": [
    {
     "data": {
      "text/plain": [
       "850    231\n",
       "651     70\n",
       "678     63\n",
       "655     54\n",
       "667     53\n",
       "      ... \n",
       "373      1\n",
       "363      1\n",
       "367      1\n",
       "401      1\n",
       "412      1\n",
       "Name: CreditScore, Length: 460, dtype: int64"
      ]
     },
     "execution_count": 44,
     "metadata": {},
     "output_type": "execute_result"
    }
   ],
   "source": [
    "# checking that we converted the values to integers\n",
    "df_bank.CreditScore.value_counts()"
   ]
  },
  {
   "cell_type": "markdown",
   "metadata": {},
   "source": [
    "#### Column `Geography`"
   ]
  },
  {
   "cell_type": "markdown",
   "metadata": {},
   "source": [
    "##### Analysis and missing values\n",
    "\n",
    "`Geography` determines the country where the user lives in. It's a categorical variable with a set of fixed names for each country existing in the world."
   ]
  },
  {
   "cell_type": "code",
   "execution_count": 45,
   "metadata": {},
   "outputs": [
    {
     "data": {
      "text/plain": [
       "France     4924\n",
       "Germany    2453\n",
       "Spain      2432\n",
       "NaN         191\n",
       "Name: Geography, dtype: int64"
      ]
     },
     "execution_count": 45,
     "metadata": {},
     "output_type": "execute_result"
    }
   ],
   "source": [
    "df_bank.Geography.value_counts(dropna = False)"
   ]
  },
  {
   "cell_type": "code",
   "execution_count": 46,
   "metadata": {},
   "outputs": [
    {
     "data": {
      "text/plain": [
       "<AxesSubplot:>"
      ]
     },
     "execution_count": 46,
     "metadata": {},
     "output_type": "execute_result"
    },
    {
     "data": {
      "image/png": "[encoded data removed]",
      "text/plain": [
       "<Figure size 432x288 with 1 Axes>"
      ]
     },
     "metadata": {
      "needs_background": "light"
     },
     "output_type": "display_data"
    }
   ],
   "source": [
    "df_bank.Geography.hist()"
   ]
  },
  {
   "cell_type": "markdown",
   "metadata": {},
   "source": [
    "The data set looks OK for countries France, Germany and Spain. Everything is grouped as it should. However, there are 191 NaN entries.\n",
    "\n",
    "As there is no way we can input a user to a specific country, we will add a new category for non-reported countries as `\"NotReported\"`, so we can remove these NaN's, but use other data for analysis."
   ]
  },
  {
   "cell_type": "code",
   "execution_count": 47,
   "metadata": {},
   "outputs": [],
   "source": [
    "# filling in Geographical NaN\n",
    "df_bank.loc[df_bank.Geography.isna(), \"Geography\"] = \"NotReported\""
   ]
  },
  {
   "cell_type": "code",
   "execution_count": 48,
   "metadata": {},
   "outputs": [
    {
     "data": {
      "text/plain": [
       "France         4924\n",
       "Germany        2453\n",
       "Spain          2432\n",
       "NotReported     191\n",
       "Name: Geography, dtype: int64"
      ]
     },
     "execution_count": 48,
     "metadata": {},
     "output_type": "execute_result"
    }
   ],
   "source": [
    "df_bank.Geography.value_counts(dropna = False)"
   ]
  },
  {
   "cell_type": "code",
   "execution_count": 49,
   "metadata": {},
   "outputs": [
    {
     "data": {
      "text/plain": [
       "<AxesSubplot:>"
      ]
     },
     "execution_count": 49,
     "metadata": {},
     "output_type": "execute_result"
    },
    {
     "data": {
      "image/png": "[encoded data removed]",
      "text/plain": [
       "<Figure size 432x288 with 1 Axes>"
      ]
     },
     "metadata": {
      "needs_background": "light"
     },
     "output_type": "display_data"
    }
   ],
   "source": [
    "df_bank.Geography.hist()"
   ]
  },
  {
   "cell_type": "markdown",
   "metadata": {},
   "source": [
    "##### Outliers\n",
    "\n",
    "No need to review outliers from this categorical variable\n"
   ]
  },
  {
   "cell_type": "markdown",
   "metadata": {},
   "source": [
    "#### Column `Gender`"
   ]
  },
  {
   "cell_type": "markdown",
   "metadata": {},
   "source": [
    "##### Analysis and missing values\n",
    "\n",
    "`Gender` identifies the gender of the bank customer. It should be a categorical variable with either `Male` or `Female`"
   ]
  },
  {
   "cell_type": "code",
   "execution_count": 50,
   "metadata": {},
   "outputs": [
    {
     "data": {
      "text/plain": [
       "Male      5307\n",
       "Female    4419\n",
       "NaN        274\n",
       "Name: Gender, dtype: int64"
      ]
     },
     "execution_count": 50,
     "metadata": {},
     "output_type": "execute_result"
    }
   ],
   "source": [
    "df_bank.Gender.value_counts(dropna = False)"
   ]
  },
  {
   "cell_type": "code",
   "execution_count": 51,
   "metadata": {},
   "outputs": [
    {
     "data": {
      "text/plain": [
       "<AxesSubplot:>"
      ]
     },
     "execution_count": 51,
     "metadata": {},
     "output_type": "execute_result"
    },
    {
     "data": {
      "image/png": "[encoded data removed]",
      "text/plain": [
       "<Figure size 432x288 with 1 Axes>"
      ]
     },
     "metadata": {
      "needs_background": "light"
     },
     "output_type": "display_data"
    }
   ],
   "source": [
    "df_bank.Gender.hist()"
   ]
  },
  {
   "cell_type": "markdown",
   "metadata": {},
   "source": [
    "Same as before, the 2 main categories, `Male` and `Female` are correctly tagged. However, we have several NaN that we can't fill a value in as we don't know the reason behind that. Maybe the customers don't identify themselves with that particular gender, they didn't want to specify it, or in fact, there's been an error when storing the values in the database. We will create a 3rd category calling it `NotSpecified` and fill all NaN's with it."
   ]
  },
  {
   "cell_type": "code",
   "execution_count": 52,
   "metadata": {},
   "outputs": [
    {
     "data": {
      "text/plain": [
       "Male            5307\n",
       "Female          4419\n",
       "NotSpecified     274\n",
       "Name: Gender, dtype: int64"
      ]
     },
     "execution_count": 52,
     "metadata": {},
     "output_type": "execute_result"
    }
   ],
   "source": [
    "df_bank.loc[df_bank.Gender.isna(), \"Gender\"] = \"NotSpecified\"\n",
    "df_bank.Gender.value_counts(dropna = False)"
   ]
  },
  {
   "cell_type": "code",
   "execution_count": 53,
   "metadata": {},
   "outputs": [
    {
     "data": {
      "text/plain": [
       "<AxesSubplot:>"
      ]
     },
     "execution_count": 53,
     "metadata": {},
     "output_type": "execute_result"
    },
    {
     "data": {
      "image/png": "[encoded data removed]",
      "text/plain": [
       "<Figure size 432x288 with 1 Axes>"
      ]
     },
     "metadata": {
      "needs_background": "light"
     },
     "output_type": "display_data"
    }
   ],
   "source": [
    "df_bank.Gender.hist()"
   ]
  },
  {
   "cell_type": "markdown",
   "metadata": {},
   "source": [
    "The not specified Gender is a small category but it can't be ignored."
   ]
  },
  {
   "cell_type": "markdown",
   "metadata": {},
   "source": [
    "##### Outliers\n",
    "\n",
    "No need to review outliers from this categorical variable"
   ]
  },
  {
   "cell_type": "markdown",
   "metadata": {},
   "source": [
    "#### Column `Age`"
   ]
  },
  {
   "cell_type": "markdown",
   "metadata": {},
   "source": [
    "##### Analysis and missing values\n",
    "\n",
    "`Age` identifies how old the bank customer is. When inspecting the data it seems to be a continuous float variable."
   ]
  },
  {
   "cell_type": "code",
   "execution_count": 54,
   "metadata": {},
   "outputs": [
    {
     "data": {
      "text/plain": [
       "count    9746.000000\n",
       "mean       38.945208\n",
       "std        10.559595\n",
       "min       -49.000000\n",
       "25%        32.000000\n",
       "50%        37.000000\n",
       "75%        44.000000\n",
       "max        92.000000\n",
       "Name: Age, dtype: float64"
      ]
     },
     "execution_count": 54,
     "metadata": {},
     "output_type": "execute_result"
    }
   ],
   "source": [
    "df_bank.Age.describe()"
   ]
  },
  {
   "cell_type": "markdown",
   "metadata": {},
   "source": [
    "There are negative values in `Age` as specified in the minimum. The max looks quite high too but possible (as people can even live longer than 100 years), we'll know more when analysing the outliers."
   ]
  },
  {
   "cell_type": "code",
   "execution_count": 55,
   "metadata": {},
   "outputs": [
    {
     "data": {
      "text/plain": [
       "True"
      ]
     },
     "execution_count": 55,
     "metadata": {},
     "output_type": "execute_result"
    }
   ],
   "source": [
    "# checking for NaN values\n",
    "df_bank.Age.isna().any()"
   ]
  },
  {
   "cell_type": "code",
   "execution_count": 56,
   "metadata": {},
   "outputs": [
    {
     "name": "stdout",
     "output_type": "stream",
     "text": [
      "There are 254 NaN values\n"
     ]
    }
   ],
   "source": [
    "print(\"There are\", df_bank.Age.isna().sum(), \"NaN values\")"
   ]
  },
  {
   "cell_type": "markdown",
   "metadata": {},
   "source": [
    "We'll decide what to do with the values as soon as we check the outliers (which we suspect there are as we have negative values).\n",
    "\n",
    "Additionally, in the same way as we identified with the `CreditScore`, even though the age is defined as a float, all entries that are not NaN's have 0s in the decimal positions. So we are dealing with integers instead of floats, as it seems that the data source doesn't have a \"less than a year\" resolution. This makes this variable a discrete numerical value instead of a continuous float number as we imagined at the beginning.\n",
    "\n",
    "This has its advantages too as we are cleaning the data to train a model for churn analysis because we would expect to analyse churn in bins of ages, for example. ([More info](https://stackoverflow.com/questions/67329095/when-should-you-convert-age-column-in-float-or-int))"
   ]
  },
  {
   "cell_type": "code",
   "execution_count": 57,
   "metadata": {},
   "outputs": [
    {
     "data": {
      "text/plain": [
       " 37.0    467\n",
       " 38.0    464\n",
       " 35.0    463\n",
       " 36.0    442\n",
       " 34.0    430\n",
       "        ... \n",
       " 83.0      1\n",
       " 88.0      1\n",
       "-23.0      1\n",
       " 82.0      1\n",
       " 85.0      1\n",
       "Name: Age, Length: 73, dtype: int64"
      ]
     },
     "execution_count": 57,
     "metadata": {},
     "output_type": "execute_result"
    }
   ],
   "source": [
    "df_bank.Age.value_counts(dropna = False)"
   ]
  },
  {
   "cell_type": "code",
   "execution_count": 58,
   "metadata": {},
   "outputs": [
    {
     "data": {
      "text/plain": [
       ".0    9746\n",
       "Name: Age, dtype: int64"
      ]
     },
     "execution_count": 58,
     "metadata": {},
     "output_type": "execute_result"
    }
   ],
   "source": [
    "# checking that all ages end up with '.0'\n",
    "df_bank.loc[df_bank.Age.notnull(), \"Age\"].astype(\"str\").str[-2:].value_counts()"
   ]
  },
  {
   "cell_type": "markdown",
   "metadata": {},
   "source": [
    "##### Outliers"
   ]
  },
  {
   "cell_type": "markdown",
   "metadata": {},
   "source": [
    "Before doing any data transformations, we will check the outliers"
   ]
  },
  {
   "cell_type": "code",
   "execution_count": 59,
   "metadata": {},
   "outputs": [
    {
     "data": {
      "text/plain": [
       "<AxesSubplot:>"
      ]
     },
     "execution_count": 59,
     "metadata": {},
     "output_type": "execute_result"
    },
    {
     "data": {
      "image/png": "[encoded data removed]",
      "text/plain": [
       "<Figure size 432x288 with 1 Axes>"
      ]
     },
     "metadata": {
      "needs_background": "light"
     },
     "output_type": "display_data"
    }
   ],
   "source": [
    "df_bank.Age.plot(kind = \"box\")"
   ]
  },
  {
   "cell_type": "code",
   "execution_count": 60,
   "metadata": {},
   "outputs": [],
   "source": [
    "# function to check min and max limits from Q1 - 1.5 * IQR and Q2 + 1.5 * IQR \n",
    "def outlier_limits(df, col):\n",
    "  iqr = df_bank[col].quantile(.75) - df_bank[col].quantile(.25)\n",
    "  lower_limit = df_bank[col].quantile(.25) - 1.5 * iqr\n",
    "  higher_limit = df_bank[col].quantile(.75) + 1.5 * iqr\n",
    "  return (lower_limit, higher_limit)"
   ]
  },
  {
   "cell_type": "code",
   "execution_count": 61,
   "metadata": {},
   "outputs": [
    {
     "data": {
      "text/plain": [
       "(14.0, 62.0)"
      ]
     },
     "execution_count": 61,
     "metadata": {},
     "output_type": "execute_result"
    }
   ],
   "source": [
    "outlier_limits(df_bank, 'Age')"
   ]
  },
  {
   "cell_type": "markdown",
   "metadata": {},
   "source": [
    "There are 2 clear ranges of outliers, the negative values (below 14) and the ones beyond 62. As we can see, the IQR is pretty thin and values go quite beyond that age, starting at 62. These can be dangerous as they can affect a model and need to be removed. At the same time these are realistic ages and there is a chance that they could be valuable to further analysis. For this task we will directly apply our calculated outlier limits, and replace all ages that exceed this range. We will use the age median to replace outliers due to the asymmetrical distribution."
   ]
  },
  {
   "cell_type": "code",
   "execution_count": 62,
   "metadata": {},
   "outputs": [
    {
     "data": {
      "text/plain": [
       "37.0"
      ]
     },
     "execution_count": 62,
     "metadata": {},
     "output_type": "execute_result"
    }
   ],
   "source": [
    "age_median = df_bank.Age[(df_bank.Age >= 14) & (df_bank.Age <= 63)].median() # rounding median as we will convert it to integers instead of floats\n",
    "age_median"
   ]
  },
  {
   "cell_type": "code",
   "execution_count": 63,
   "metadata": {},
   "outputs": [],
   "source": [
    "# filling outliers\n",
    "df_bank.loc[((df_bank.Age < 14) | (df_bank.Age > 63)), \"Age\"] = age_median"
   ]
  },
  {
   "cell_type": "code",
   "execution_count": 64,
   "metadata": {},
   "outputs": [],
   "source": [
    "# filling in null values\n",
    "df_bank.Age.fillna(age_median, inplace = True)"
   ]
  },
  {
   "cell_type": "code",
   "execution_count": 65,
   "metadata": {},
   "outputs": [
    {
     "data": {
      "text/plain": [
       "False"
      ]
     },
     "execution_count": 65,
     "metadata": {},
     "output_type": "execute_result"
    }
   ],
   "source": [
    "df_bank.Age.isna().any()"
   ]
  },
  {
   "cell_type": "markdown",
   "metadata": {},
   "source": [
    "No null values left"
   ]
  },
  {
   "cell_type": "code",
   "execution_count": 66,
   "metadata": {},
   "outputs": [
    {
     "data": {
      "text/plain": [
       "<AxesSubplot:>"
      ]
     },
     "execution_count": 66,
     "metadata": {},
     "output_type": "execute_result"
    },
    {
     "data": {
      "image/png": "[encoded data removed]",
      "text/plain": [
       "<Figure size 432x288 with 1 Axes>"
      ]
     },
     "metadata": {
      "needs_background": "light"
     },
     "output_type": "display_data"
    }
   ],
   "source": [
    "df_bank.Age.plot(kind = \"box\")"
   ]
  },
  {
   "cell_type": "code",
   "execution_count": 67,
   "metadata": {},
   "outputs": [
    {
     "data": {
      "text/plain": [
       "(15.5, 59.5)"
      ]
     },
     "execution_count": 67,
     "metadata": {},
     "output_type": "execute_result"
    }
   ],
   "source": [
    "outlier_limits(df_bank, 'Age')"
   ]
  },
  {
   "cell_type": "code",
   "execution_count": 68,
   "metadata": {},
   "outputs": [
    {
     "data": {
      "text/plain": [
       "205"
      ]
     },
     "execution_count": 68,
     "metadata": {},
     "output_type": "execute_result"
    }
   ],
   "source": [
    "len(df_bank.Age[df_bank.Age > 59.5])"
   ]
  },
  {
   "cell_type": "markdown",
   "metadata": {},
   "source": [
    "After applying the correction, the 1.5 * IQR range has been modified and new outliers appeared above 59.5. However, the gain we have to correct those will lead us to reducing the IQR and produce new outliers. In this case, we believe that since these are pretty close to the 1.5 IQR range, we can keep them. In case these affected a model we would deal with those later. Plus these are only 205 / 10000 samples, which represent a ~2% of the sample size."
   ]
  },
  {
   "cell_type": "markdown",
   "metadata": {},
   "source": [
    "Now we will convert the float64 values into integers as discussed before. Moreover, we will also convert them to the type `int8` so we can save memory usage too.\n",
    "\n",
    "The max value for `int8` is `127` which covers all possible ages for a human being, so it's safe to use it (the oldest person ever until year 2021 has been [Jeanne Calment, living up to 122 years](https://en.wikipedia.org/wiki/List_of_the_verified_oldest_people))."
   ]
  },
  {
   "cell_type": "code",
   "execution_count": 69,
   "metadata": {},
   "outputs": [],
   "source": [
    "df_bank.Age = df_bank.Age.astype(\"int8\")"
   ]
  },
  {
   "cell_type": "code",
   "execution_count": 70,
   "metadata": {},
   "outputs": [
    {
     "data": {
      "text/plain": [
       "0    40\n",
       "1    34\n",
       "2    39\n",
       "3    37\n",
       "4    37\n",
       "Name: Age, dtype: int8"
      ]
     },
     "execution_count": 70,
     "metadata": {},
     "output_type": "execute_result"
    }
   ],
   "source": [
    "df_bank.Age.head(5)"
   ]
  },
  {
   "cell_type": "markdown",
   "metadata": {},
   "source": [
    "#### Column `Tenure`"
   ]
  },
  {
   "cell_type": "markdown",
   "metadata": {},
   "source": [
    "##### Analysis and missing values\n",
    "\n",
    "A loan `Tenure`, in banking, is a numerical value that represents the length of time that will be taken by the borrower to repay the loan along with the interest. Depending on the kind of loan, the tenure can vary. For example, in Spain a house mortgage or loan can max up to 30 years.\n",
    "\n",
    "[More info on Tenures](https://www.mvorganizing.org/what-does-tenure-mean-in-banking/)"
   ]
  },
  {
   "cell_type": "code",
   "execution_count": 71,
   "metadata": {},
   "outputs": [
    {
     "data": {
      "text/plain": [
       " 2.000000     1039\n",
       " 1.000000     1024\n",
       " 7.000000     1022\n",
       " 8.000000     1017\n",
       " 3.000000     1006\n",
       " 5.000000     1002\n",
       " 4.000000      981\n",
       " 9.000000      975\n",
       " 6.000000      959\n",
       " 10.000000     486\n",
       " 0.000000      410\n",
       " NaN            77\n",
       " 32.044103       1\n",
       "-5.000000        1\n",
       "Name: Tenure, dtype: int64"
      ]
     },
     "execution_count": 71,
     "metadata": {},
     "output_type": "execute_result"
    }
   ],
   "source": [
    "df_bank.Tenure.value_counts(dropna = False)"
   ]
  },
  {
   "cell_type": "code",
   "execution_count": 72,
   "metadata": {},
   "outputs": [
    {
     "data": {
      "text/plain": [
       "count    9923.000000\n",
       "mean        5.014617\n",
       "std         2.905646\n",
       "min        -5.000000\n",
       "25%         3.000000\n",
       "50%         5.000000\n",
       "75%         7.000000\n",
       "max        32.044103\n",
       "Name: Tenure, dtype: float64"
      ]
     },
     "execution_count": 72,
     "metadata": {},
     "output_type": "execute_result"
    }
   ],
   "source": [
    "df_bank.Tenure.describe()"
   ]
  },
  {
   "cell_type": "markdown",
   "metadata": {},
   "source": [
    "By inspecting the data, it seems that the measurement unit is in years. Plus, we have some nulls that will require pre-processing and some outliers due to negative values and very high values.\n",
    "\n",
    "We will deal with the NaN's once we remove the outliers and get a proper mean or median."
   ]
  },
  {
   "cell_type": "markdown",
   "metadata": {},
   "source": [
    "##### Outliers\n",
    "\n",
    "From the previous, we identified some outliers that will be removed using similar techniques as before"
   ]
  },
  {
   "cell_type": "code",
   "execution_count": 73,
   "metadata": {},
   "outputs": [
    {
     "data": {
      "text/plain": [
       "<AxesSubplot:>"
      ]
     },
     "execution_count": 73,
     "metadata": {},
     "output_type": "execute_result"
    },
    {
     "data": {
      "image/png": "[encoded data removed]",
      "text/plain": [
       "<Figure size 432x288 with 1 Axes>"
      ]
     },
     "metadata": {
      "needs_background": "light"
     },
     "output_type": "display_data"
    }
   ],
   "source": [
    "df_bank.Tenure.plot(kind = \"box\")"
   ]
  },
  {
   "cell_type": "code",
   "execution_count": 74,
   "metadata": {},
   "outputs": [
    {
     "data": {
      "text/plain": [
       ".0    9922\n",
       "33       1\n",
       "Name: Tenure, dtype: int64"
      ]
     },
     "execution_count": 74,
     "metadata": {},
     "output_type": "execute_result"
    }
   ],
   "source": [
    "df_bank.loc[df_bank.Tenure.notnull(), \"Tenure\"].astype(\"str\").str[-2:].value_counts()"
   ]
  },
  {
   "cell_type": "markdown",
   "metadata": {},
   "source": [
    "Additionally, we face the same issue as with the age, using floats to identify integer based numbers that will be solved too (the `33` are the decimals from the max value identified as the outlier)"
   ]
  },
  {
   "cell_type": "code",
   "execution_count": 75,
   "metadata": {},
   "outputs": [
    {
     "data": {
      "text/plain": [
       "5"
      ]
     },
     "execution_count": 75,
     "metadata": {},
     "output_type": "execute_result"
    }
   ],
   "source": [
    "# removing negative and very high values with the mean\n",
    "tenure_mean = round(df_bank.Tenure[(df_bank.Tenure > 0) & (df_bank.Tenure < 30)].mean()) # rounding so we can later convert to int\n",
    "tenure_mean"
   ]
  },
  {
   "cell_type": "code",
   "execution_count": 76,
   "metadata": {},
   "outputs": [],
   "source": [
    "# filling null values with the mean\n",
    "df_bank.Tenure.fillna(tenure_mean, inplace = True)"
   ]
  },
  {
   "cell_type": "code",
   "execution_count": 77,
   "metadata": {},
   "outputs": [],
   "source": [
    "# filling outliers\n",
    "df_bank.loc[(df_bank.Tenure > 15) | (df_bank.Tenure < 0), \"Tenure\"] = tenure_mean"
   ]
  },
  {
   "cell_type": "code",
   "execution_count": 78,
   "metadata": {},
   "outputs": [
    {
     "data": {
      "text/plain": [
       "<AxesSubplot:>"
      ]
     },
     "execution_count": 78,
     "metadata": {},
     "output_type": "execute_result"
    },
    {
     "data": {
      "image/png": "[encoded data removed]",
      "text/plain": [
       "<Figure size 432x288 with 1 Axes>"
      ]
     },
     "metadata": {
      "needs_background": "light"
     },
     "output_type": "display_data"
    }
   ],
   "source": [
    "df_bank.Tenure.plot(kind = \"box\")"
   ]
  },
  {
   "cell_type": "code",
   "execution_count": 79,
   "metadata": {},
   "outputs": [
    {
     "data": {
      "text/plain": [
       "<AxesSubplot:>"
      ]
     },
     "execution_count": 79,
     "metadata": {},
     "output_type": "execute_result"
    },
    {
     "data": {
      "image/png": "[encoded data removed]",
      "text/plain": [
       "<Figure size 432x288 with 1 Axes>"
      ]
     },
     "metadata": {
      "needs_background": "light"
     },
     "output_type": "display_data"
    }
   ],
   "source": [
    "df_bank.Tenure.hist(bins = 11) # using 11 beans to see the values that range from 0 - 10"
   ]
  },
  {
   "cell_type": "code",
   "execution_count": 80,
   "metadata": {},
   "outputs": [
    {
     "data": {
      "text/plain": [
       "5.0     1081\n",
       "2.0     1039\n",
       "1.0     1024\n",
       "7.0     1022\n",
       "8.0     1017\n",
       "3.0     1006\n",
       "4.0      981\n",
       "9.0      975\n",
       "6.0      959\n",
       "10.0     486\n",
       "0.0      410\n",
       "Name: Tenure, dtype: int64"
      ]
     },
     "execution_count": 80,
     "metadata": {},
     "output_type": "execute_result"
    }
   ],
   "source": [
    "df_bank.Tenure.value_counts(dropna = False)"
   ]
  },
  {
   "cell_type": "code",
   "execution_count": 81,
   "metadata": {},
   "outputs": [
    {
     "data": {
      "text/plain": [
       "5     1081\n",
       "2     1039\n",
       "1     1024\n",
       "7     1022\n",
       "8     1017\n",
       "3     1006\n",
       "4      981\n",
       "9      975\n",
       "6      959\n",
       "10     486\n",
       "0      410\n",
       "Name: Tenure, dtype: int64"
      ]
     },
     "execution_count": 81,
     "metadata": {},
     "output_type": "execute_result"
    }
   ],
   "source": [
    "# converting data type to int8\n",
    "df_bank.Tenure = df_bank.Tenure.astype(\"int8\")\n",
    "df_bank.Tenure.value_counts(dropna = False)"
   ]
  },
  {
   "cell_type": "markdown",
   "metadata": {},
   "source": [
    "In the end, `Tenure` only has 11 possible values, Even if we have integers, these could be treated as a category if we wanted to use ranges of years. However, in this case, we will be treating it as a continuous discrete value."
   ]
  },
  {
   "cell_type": "markdown",
   "metadata": {},
   "source": [
    "#### Column `Balance`"
   ]
  },
  {
   "cell_type": "markdown",
   "metadata": {},
   "source": [
    "##### Analysis and missing values\n",
    "\n",
    "`Balance` is the amount of money that the customer has in the bank or that they got from a loan. In the end, this is a continous variable."
   ]
  },
  {
   "cell_type": "code",
   "execution_count": 82,
   "metadata": {},
   "outputs": [
    {
     "data": {
      "text/plain": [
       "count    9.850000e+03\n",
       "mean     7.672267e+04\n",
       "std      6.372769e+04\n",
       "min      0.000000e+00\n",
       "25%      0.000000e+00\n",
       "50%      9.724599e+04\n",
       "75%      1.276414e+05\n",
       "max      1.036826e+06\n",
       "Name: Balance, dtype: float64"
      ]
     },
     "execution_count": 82,
     "metadata": {},
     "output_type": "execute_result"
    }
   ],
   "source": [
    "df_bank.Balance.describe()"
   ]
  },
  {
   "cell_type": "code",
   "execution_count": 83,
   "metadata": {},
   "outputs": [
    {
     "data": {
      "text/plain": [
       "0.00         3555\n",
       "NaN           150\n",
       "105473.74       2\n",
       "130170.82       2\n",
       "116969.35       1\n",
       "             ... \n",
       "100471.34       1\n",
       "95900.04        1\n",
       "105301.50       1\n",
       "87842.98        1\n",
       "161993.89       1\n",
       "Name: Balance, Length: 6295, dtype: int64"
      ]
     },
     "execution_count": 83,
     "metadata": {},
     "output_type": "execute_result"
    }
   ],
   "source": [
    "df_bank.Balance.value_counts(dropna = False)"
   ]
  },
  {
   "cell_type": "code",
   "execution_count": 84,
   "metadata": {},
   "outputs": [
    {
     "data": {
      "text/plain": [
       "<AxesSubplot:>"
      ]
     },
     "execution_count": 84,
     "metadata": {},
     "output_type": "execute_result"
    },
    {
     "data": {
      "image/png": "[encoded data removed]",
      "text/plain": [
       "<Figure size 432x288 with 1 Axes>"
      ]
     },
     "metadata": {
      "needs_background": "light"
     },
     "output_type": "display_data"
    }
   ],
   "source": [
    "df_bank.Balance.hist()"
   ]
  },
  {
   "cell_type": "code",
   "execution_count": 85,
   "metadata": {},
   "outputs": [
    {
     "data": {
      "text/plain": [
       "<AxesSubplot:>"
      ]
     },
     "execution_count": 85,
     "metadata": {},
     "output_type": "execute_result"
    },
    {
     "data": {
      "image/png": "[encoded data removed]",
      "text/plain": [
       "<Figure size 432x288 with 1 Axes>"
      ]
     },
     "metadata": {
      "needs_background": "light"
     },
     "output_type": "display_data"
    }
   ],
   "source": [
    "df_bank.Balance[df_bank.Balance < 0.4e6].hist()"
   ]
  },
  {
   "cell_type": "markdown",
   "metadata": {},
   "source": [
    "By inspecting the histograms we see that there may be quite huge outliers, as in the first histogram, it ranges up to 1.0e6, but all values concentrate below 0.4e6. Plus, we see a lot of values concentrated in the first bin, mainly around 0.0 ((the minimum and the fact that we have 3555 entries with 0.00). Nonetheless, until we use a boxplot to inspect the outliers we won't have more info to go on with what to do with Nulls."
   ]
  },
  {
   "cell_type": "markdown",
   "metadata": {},
   "source": [
    "##### Outliers"
   ]
  },
  {
   "cell_type": "code",
   "execution_count": 86,
   "metadata": {},
   "outputs": [
    {
     "data": {
      "text/plain": [
       "<AxesSubplot:>"
      ]
     },
     "execution_count": 86,
     "metadata": {},
     "output_type": "execute_result"
    },
    {
     "data": {
      "image/png": "[encoded data removed]",
      "text/plain": [
       "<Figure size 432x288 with 1 Axes>"
      ]
     },
     "metadata": {
      "needs_background": "light"
     },
     "output_type": "display_data"
    }
   ],
   "source": [
    "df_bank.Balance.plot(kind = \"box\")"
   ]
  },
  {
   "cell_type": "markdown",
   "metadata": {},
   "source": [
    "There are pretty high values that twist the histogram and the boxplot, but the quantities could be right if we inspected both entries (around 1 million). Compared with the other customers these seem to be very rich (or that they owe a lot of money). If we inspect the data further:"
   ]
  },
  {
   "cell_type": "code",
   "execution_count": 87,
   "metadata": {},
   "outputs": [
    {
     "data": {
      "text/html": [
       "<div>\n",
       "<style scoped>\n",
       "    .dataframe tbody tr th:only-of-type {\n",
       "        vertical-align: middle;\n",
       "    }\n",
       "\n",
       "    .dataframe tbody tr th {\n",
       "        vertical-align: top;\n",
       "    }\n",
       "\n",
       "    .dataframe thead th {\n",
       "        text-align: right;\n",
       "    }\n",
       "</style>\n",
       "<table border=\"1\" class=\"dataframe\">\n",
       "  <thead>\n",
       "    <tr style=\"text-align: right;\">\n",
       "      <th></th>\n",
       "      <th>CustomerId</th>\n",
       "      <th>Surname</th>\n",
       "      <th>CreditScore</th>\n",
       "      <th>Geography</th>\n",
       "      <th>Gender</th>\n",
       "      <th>Age</th>\n",
       "      <th>Tenure</th>\n",
       "      <th>Balance</th>\n",
       "      <th>NumOfProducts</th>\n",
       "      <th>HasCrCard</th>\n",
       "      <th>IsActiveMember</th>\n",
       "      <th>EstimatedSalary</th>\n",
       "      <th>Exited</th>\n",
       "    </tr>\n",
       "  </thead>\n",
       "  <tbody>\n",
       "    <tr>\n",
       "      <th>797</th>\n",
       "      <td>15795540</td>\n",
       "      <td>Reye</td>\n",
       "      <td>556</td>\n",
       "      <td>France</td>\n",
       "      <td>Female</td>\n",
       "      <td>36</td>\n",
       "      <td>2</td>\n",
       "      <td>1.036826e+06</td>\n",
       "      <td>1.0</td>\n",
       "      <td>0.0</td>\n",
       "      <td>1.0</td>\n",
       "      <td>177670.57</td>\n",
       "      <td>0</td>\n",
       "    </tr>\n",
       "    <tr>\n",
       "      <th>4456</th>\n",
       "      <td>15704284</td>\n",
       "      <td>Ekechukwu</td>\n",
       "      <td>736</td>\n",
       "      <td>Germany</td>\n",
       "      <td>Male</td>\n",
       "      <td>57</td>\n",
       "      <td>9</td>\n",
       "      <td>9.697802e+05</td>\n",
       "      <td>1.0</td>\n",
       "      <td>1.0</td>\n",
       "      <td>0.0</td>\n",
       "      <td>28434.44</td>\n",
       "      <td>1</td>\n",
       "    </tr>\n",
       "  </tbody>\n",
       "</table>\n",
       "</div>"
      ],
      "text/plain": [
       "      CustomerId    Surname  CreditScore Geography  Gender  Age  Tenure  \\\n",
       "797     15795540       Reye          556    France  Female   36       2   \n",
       "4456    15704284  Ekechukwu          736   Germany    Male   57       9   \n",
       "\n",
       "           Balance  NumOfProducts  HasCrCard  IsActiveMember  EstimatedSalary  \\\n",
       "797   1.036826e+06            1.0        0.0             1.0        177670.57   \n",
       "4456  9.697802e+05            1.0        1.0             0.0         28434.44   \n",
       "\n",
       "      Exited  \n",
       "797        0  \n",
       "4456       1  "
      ]
     },
     "execution_count": 87,
     "metadata": {},
     "output_type": "execute_result"
    }
   ],
   "source": [
    "df_bank[df_bank.Balance > 0.4e6]"
   ]
  },
  {
   "cell_type": "markdown",
   "metadata": {},
   "source": [
    "These huge outliers can affect any model we want to train, so these need to be removed."
   ]
  },
  {
   "cell_type": "code",
   "execution_count": 88,
   "metadata": {},
   "outputs": [
    {
     "data": {
      "text/plain": [
       "(-191462.12625000003, 319103.54375000007)"
      ]
     },
     "execution_count": 88,
     "metadata": {},
     "output_type": "execute_result"
    }
   ],
   "source": [
    "outlier_limits(df_bank, \"Balance\")"
   ]
  },
  {
   "cell_type": "code",
   "execution_count": 89,
   "metadata": {},
   "outputs": [
    {
     "data": {
      "text/plain": [
       "76534.49540312735"
      ]
     },
     "execution_count": 89,
     "metadata": {},
     "output_type": "execute_result"
    }
   ],
   "source": [
    "balance_mean = df_bank.Balance[df_bank.Balance < 319103.54].mean()\n",
    "balance_mean"
   ]
  },
  {
   "cell_type": "code",
   "execution_count": 90,
   "metadata": {},
   "outputs": [],
   "source": [
    "df_bank.loc[df_bank.Balance > 319103.54, \"Balance\"] = balance_mean"
   ]
  },
  {
   "cell_type": "code",
   "execution_count": 91,
   "metadata": {},
   "outputs": [],
   "source": [
    "df_bank.Balance.fillna(balance_mean, inplace = True)"
   ]
  },
  {
   "cell_type": "code",
   "execution_count": 92,
   "metadata": {},
   "outputs": [
    {
     "data": {
      "text/plain": [
       "<AxesSubplot:>"
      ]
     },
     "execution_count": 92,
     "metadata": {},
     "output_type": "execute_result"
    },
    {
     "data": {
      "image/png": "[encoded data removed]",
      "text/plain": [
       "<Figure size 432x288 with 1 Axes>"
      ]
     },
     "metadata": {
      "needs_background": "light"
     },
     "output_type": "display_data"
    }
   ],
   "source": [
    "df_bank.Balance.plot(kind = \"box\")"
   ]
  },
  {
   "cell_type": "markdown",
   "metadata": {},
   "source": [
    "#### Column `NumOfProducts`"
   ]
  },
  {
   "cell_type": "markdown",
   "metadata": {},
   "source": [
    "##### Analysis and missing values\n",
    "\n",
    "`NumOfProducts` refers to the amount of products that the bank customers have. It should be a cardinal integer variable, which, depending on the amount of values it has, it could be treated as categorical."
   ]
  },
  {
   "cell_type": "code",
   "execution_count": 93,
   "metadata": {},
   "outputs": [
    {
     "data": {
      "text/plain": [
       " 1.00000     4946\n",
       " 2.00000     4450\n",
       " NaN          285\n",
       " 3.00000      255\n",
       " 4.00000       58\n",
       "-2.00000        3\n",
       "-1.00000        2\n",
       " 11.17746       1\n",
       "Name: NumOfProducts, dtype: int64"
      ]
     },
     "execution_count": 93,
     "metadata": {},
     "output_type": "execute_result"
    }
   ],
   "source": [
    "df_bank.NumOfProducts.value_counts(dropna = False)"
   ]
  },
  {
   "cell_type": "markdown",
   "metadata": {},
   "source": [
    "We can see the following:\n",
    "- Values are stored as floats, even though we should be dealing with integers. These will need a conversion to an integer\n",
    "- Some suspected outliers with negative values\n",
    "- A suspected outlier in 11.17746, as it looks like an incorrect value when compared to the others\n",
    "- 285 nulls or missing values that will be treated once we detect and remove the outliers"
   ]
  },
  {
   "cell_type": "markdown",
   "metadata": {},
   "source": [
    "##### Outliers"
   ]
  },
  {
   "cell_type": "code",
   "execution_count": 94,
   "metadata": {},
   "outputs": [
    {
     "data": {
      "text/plain": [
       "<AxesSubplot:>"
      ]
     },
     "execution_count": 94,
     "metadata": {},
     "output_type": "execute_result"
    },
    {
     "data": {
      "image/png": "[encoded data removed]",
      "text/plain": [
       "<Figure size 432x288 with 1 Axes>"
      ]
     },
     "metadata": {
      "needs_background": "light"
     },
     "output_type": "display_data"
    }
   ],
   "source": [
    "df_bank.NumOfProducts.plot(kind = \"box\")"
   ]
  },
  {
   "cell_type": "markdown",
   "metadata": {},
   "source": [
    "Negative values are outliers for sure. The one beyond 10 also looks like one. The number 4 has few but entries so it could be correct, and for the time being we'll keep it"
   ]
  },
  {
   "cell_type": "code",
   "execution_count": 95,
   "metadata": {},
   "outputs": [
    {
     "data": {
      "text/plain": [
       "2"
      ]
     },
     "execution_count": 95,
     "metadata": {},
     "output_type": "execute_result"
    }
   ],
   "source": [
    "num_of_products_mean = round(df_bank.loc[(df_bank.NumOfProducts > 0) & (df_bank.NumOfProducts < 10), \"NumOfProducts\"].mean())\n",
    "num_of_products_mean"
   ]
  },
  {
   "cell_type": "code",
   "execution_count": 96,
   "metadata": {},
   "outputs": [],
   "source": [
    "# fill nulls\n",
    "df_bank.NumOfProducts.fillna(num_of_products_mean, inplace = True)"
   ]
  },
  {
   "cell_type": "code",
   "execution_count": 97,
   "metadata": {},
   "outputs": [],
   "source": [
    "# outlier removal\n",
    "df_bank.loc[(df_bank.NumOfProducts < 0) | (df_bank.NumOfProducts > 10), \"NumOfProducts\"] = num_of_products_mean"
   ]
  },
  {
   "cell_type": "code",
   "execution_count": 98,
   "metadata": {},
   "outputs": [
    {
     "data": {
      "text/plain": [
       "<AxesSubplot:>"
      ]
     },
     "execution_count": 98,
     "metadata": {},
     "output_type": "execute_result"
    },
    {
     "data": {
      "image/png": "[encoded data removed]",
      "text/plain": [
       "<Figure size 432x288 with 1 Axes>"
      ]
     },
     "metadata": {
      "needs_background": "light"
     },
     "output_type": "display_data"
    }
   ],
   "source": [
    "df_bank.NumOfProducts.plot(kind = \"box\")"
   ]
  },
  {
   "cell_type": "markdown",
   "metadata": {},
   "source": [
    "Even though there seems to be a suspected outlier in 4, the sample representation on the data set is less than 0.6% of the whole data sample."
   ]
  },
  {
   "cell_type": "code",
   "execution_count": 99,
   "metadata": {},
   "outputs": [],
   "source": [
    "# converting all values to int8\n",
    "df_bank.NumOfProducts = df_bank.NumOfProducts.astype(\"int8\")"
   ]
  },
  {
   "cell_type": "code",
   "execution_count": 100,
   "metadata": {},
   "outputs": [
    {
     "data": {
      "text/plain": [
       "1    4946\n",
       "2    4741\n",
       "3     255\n",
       "4      58\n",
       "Name: NumOfProducts, dtype: int64"
      ]
     },
     "execution_count": 100,
     "metadata": {},
     "output_type": "execute_result"
    }
   ],
   "source": [
    "df_bank.NumOfProducts.value_counts(dropna = False)"
   ]
  },
  {
   "cell_type": "markdown",
   "metadata": {},
   "source": [
    "We have from 1 up to 4 products contracted as categories, without the outliers and null values"
   ]
  },
  {
   "cell_type": "markdown",
   "metadata": {},
   "source": [
    "#### Column `HasCrCard`"
   ]
  },
  {
   "cell_type": "markdown",
   "metadata": {},
   "source": [
    "##### Analysis and missing values\n",
    "\n",
    "`HasCrCard` identifies if the bank customer has a credit card or not. It should be a categorical variable with 2 values, `True` and `False`."
   ]
  },
  {
   "cell_type": "code",
   "execution_count": 101,
   "metadata": {},
   "outputs": [
    {
     "data": {
      "text/plain": [
       "1.0    6997\n",
       "0.0    2924\n",
       "NaN      79\n",
       "Name: HasCrCard, dtype: int64"
      ]
     },
     "execution_count": 101,
     "metadata": {},
     "output_type": "execute_result"
    }
   ],
   "source": [
    "df_bank.HasCrCard.value_counts(dropna = False)"
   ]
  },
  {
   "cell_type": "markdown",
   "metadata": {},
   "source": [
    "Instead of getting booleans, we are getting integers instead. Plus, there are 79 Null records that don't allow us to set categories, as we may not be able to assign them to any of these as we can't get this info from anywhere in the DataFrame.\n",
    "\n",
    "Another option would be to drop those rows, but it seems interesting to analyse if the fact of having or not a credit card affects the possibility of customers leaving or not, so we'll keep it."
   ]
  },
  {
   "cell_type": "code",
   "execution_count": 102,
   "metadata": {},
   "outputs": [
    {
     "data": {
      "text/html": [
       "<div>\n",
       "<style scoped>\n",
       "    .dataframe tbody tr th:only-of-type {\n",
       "        vertical-align: middle;\n",
       "    }\n",
       "\n",
       "    .dataframe tbody tr th {\n",
       "        vertical-align: top;\n",
       "    }\n",
       "\n",
       "    .dataframe thead th {\n",
       "        text-align: right;\n",
       "    }\n",
       "</style>\n",
       "<table border=\"1\" class=\"dataframe\">\n",
       "  <thead>\n",
       "    <tr style=\"text-align: right;\">\n",
       "      <th></th>\n",
       "      <th>CustomerId</th>\n",
       "      <th>Surname</th>\n",
       "      <th>CreditScore</th>\n",
       "      <th>Geography</th>\n",
       "      <th>Gender</th>\n",
       "      <th>Age</th>\n",
       "      <th>Tenure</th>\n",
       "      <th>Balance</th>\n",
       "      <th>NumOfProducts</th>\n",
       "      <th>HasCrCard</th>\n",
       "      <th>IsActiveMember</th>\n",
       "      <th>EstimatedSalary</th>\n",
       "      <th>Exited</th>\n",
       "    </tr>\n",
       "  </thead>\n",
       "  <tbody>\n",
       "    <tr>\n",
       "      <th>338</th>\n",
       "      <td>15807245</td>\n",
       "      <td>McKay</td>\n",
       "      <td>699</td>\n",
       "      <td>Germany</td>\n",
       "      <td>Female</td>\n",
       "      <td>41</td>\n",
       "      <td>1</td>\n",
       "      <td>200117.76</td>\n",
       "      <td>2</td>\n",
       "      <td>NaN</td>\n",
       "      <td>0.0</td>\n",
       "      <td>94142.35</td>\n",
       "      <td>0</td>\n",
       "    </tr>\n",
       "    <tr>\n",
       "      <th>482</th>\n",
       "      <td>15803681</td>\n",
       "      <td>Sims</td>\n",
       "      <td>803</td>\n",
       "      <td>France</td>\n",
       "      <td>Female</td>\n",
       "      <td>26</td>\n",
       "      <td>4</td>\n",
       "      <td>0.00</td>\n",
       "      <td>2</td>\n",
       "      <td>NaN</td>\n",
       "      <td>1.0</td>\n",
       "      <td>181208.47</td>\n",
       "      <td>0</td>\n",
       "    </tr>\n",
       "    <tr>\n",
       "      <th>498</th>\n",
       "      <td>15803121</td>\n",
       "      <td>Chia</td>\n",
       "      <td>847</td>\n",
       "      <td>France</td>\n",
       "      <td>Male</td>\n",
       "      <td>51</td>\n",
       "      <td>5</td>\n",
       "      <td>97565.74</td>\n",
       "      <td>1</td>\n",
       "      <td>NaN</td>\n",
       "      <td>0.0</td>\n",
       "      <td>144184.06</td>\n",
       "      <td>1</td>\n",
       "    </tr>\n",
       "    <tr>\n",
       "      <th>806</th>\n",
       "      <td>15795290</td>\n",
       "      <td>Nikitina</td>\n",
       "      <td>767</td>\n",
       "      <td>France</td>\n",
       "      <td>Female</td>\n",
       "      <td>42</td>\n",
       "      <td>2</td>\n",
       "      <td>133616.39</td>\n",
       "      <td>1</td>\n",
       "      <td>NaN</td>\n",
       "      <td>0.0</td>\n",
       "      <td>28615.80</td>\n",
       "      <td>0</td>\n",
       "    </tr>\n",
       "    <tr>\n",
       "      <th>954</th>\n",
       "      <td>15791972</td>\n",
       "      <td>Bergamaschi</td>\n",
       "      <td>748</td>\n",
       "      <td>France</td>\n",
       "      <td>Female</td>\n",
       "      <td>20</td>\n",
       "      <td>7</td>\n",
       "      <td>0.00</td>\n",
       "      <td>2</td>\n",
       "      <td>NaN</td>\n",
       "      <td>0.0</td>\n",
       "      <td>10792.42</td>\n",
       "      <td>0</td>\n",
       "    </tr>\n",
       "    <tr>\n",
       "      <th>...</th>\n",
       "      <td>...</td>\n",
       "      <td>...</td>\n",
       "      <td>...</td>\n",
       "      <td>...</td>\n",
       "      <td>...</td>\n",
       "      <td>...</td>\n",
       "      <td>...</td>\n",
       "      <td>...</td>\n",
       "      <td>...</td>\n",
       "      <td>...</td>\n",
       "      <td>...</td>\n",
       "      <td>...</td>\n",
       "      <td>...</td>\n",
       "    </tr>\n",
       "    <tr>\n",
       "      <th>9446</th>\n",
       "      <td>15580134</td>\n",
       "      <td>Crawford</td>\n",
       "      <td>479</td>\n",
       "      <td>Spain</td>\n",
       "      <td>Male</td>\n",
       "      <td>27</td>\n",
       "      <td>2</td>\n",
       "      <td>172463.45</td>\n",
       "      <td>1</td>\n",
       "      <td>NaN</td>\n",
       "      <td>1.0</td>\n",
       "      <td>40315.27</td>\n",
       "      <td>0</td>\n",
       "    </tr>\n",
       "    <tr>\n",
       "      <th>9579</th>\n",
       "      <td>15576623</td>\n",
       "      <td>Outlaw</td>\n",
       "      <td>584</td>\n",
       "      <td>France</td>\n",
       "      <td>Male</td>\n",
       "      <td>31</td>\n",
       "      <td>5</td>\n",
       "      <td>0.00</td>\n",
       "      <td>2</td>\n",
       "      <td>NaN</td>\n",
       "      <td>0.0</td>\n",
       "      <td>31474.27</td>\n",
       "      <td>0</td>\n",
       "    </tr>\n",
       "    <tr>\n",
       "      <th>9608</th>\n",
       "      <td>15576022</td>\n",
       "      <td>Nwachinemelu</td>\n",
       "      <td>565</td>\n",
       "      <td>France</td>\n",
       "      <td>Male</td>\n",
       "      <td>38</td>\n",
       "      <td>5</td>\n",
       "      <td>0.00</td>\n",
       "      <td>2</td>\n",
       "      <td>NaN</td>\n",
       "      <td>1.0</td>\n",
       "      <td>80630.32</td>\n",
       "      <td>0</td>\n",
       "    </tr>\n",
       "    <tr>\n",
       "      <th>9676</th>\n",
       "      <td>15574206</td>\n",
       "      <td>Shillito</td>\n",
       "      <td>718</td>\n",
       "      <td>France</td>\n",
       "      <td>Female</td>\n",
       "      <td>37</td>\n",
       "      <td>7</td>\n",
       "      <td>0.00</td>\n",
       "      <td>2</td>\n",
       "      <td>NaN</td>\n",
       "      <td>1.0</td>\n",
       "      <td>55100.09</td>\n",
       "      <td>0</td>\n",
       "    </tr>\n",
       "    <tr>\n",
       "      <th>9861</th>\n",
       "      <td>15569438</td>\n",
       "      <td>Mai</td>\n",
       "      <td>607</td>\n",
       "      <td>Germany</td>\n",
       "      <td>Male</td>\n",
       "      <td>36</td>\n",
       "      <td>10</td>\n",
       "      <td>106702.94</td>\n",
       "      <td>2</td>\n",
       "      <td>NaN</td>\n",
       "      <td>0.0</td>\n",
       "      <td>198313.69</td>\n",
       "      <td>0</td>\n",
       "    </tr>\n",
       "  </tbody>\n",
       "</table>\n",
       "<p>79 rows × 13 columns</p>\n",
       "</div>"
      ],
      "text/plain": [
       "      CustomerId       Surname  CreditScore Geography  Gender  Age  Tenure  \\\n",
       "338     15807245         McKay          699   Germany  Female   41       1   \n",
       "482     15803681          Sims          803    France  Female   26       4   \n",
       "498     15803121          Chia          847    France    Male   51       5   \n",
       "806     15795290      Nikitina          767    France  Female   42       2   \n",
       "954     15791972   Bergamaschi          748    France  Female   20       7   \n",
       "...          ...           ...          ...       ...     ...  ...     ...   \n",
       "9446    15580134      Crawford          479     Spain    Male   27       2   \n",
       "9579    15576623        Outlaw          584    France    Male   31       5   \n",
       "9608    15576022  Nwachinemelu          565    France    Male   38       5   \n",
       "9676    15574206      Shillito          718    France  Female   37       7   \n",
       "9861    15569438           Mai          607   Germany    Male   36      10   \n",
       "\n",
       "        Balance  NumOfProducts  HasCrCard  IsActiveMember  EstimatedSalary  \\\n",
       "338   200117.76              2        NaN             0.0         94142.35   \n",
       "482        0.00              2        NaN             1.0        181208.47   \n",
       "498    97565.74              1        NaN             0.0        144184.06   \n",
       "806   133616.39              1        NaN             0.0         28615.80   \n",
       "954        0.00              2        NaN             0.0         10792.42   \n",
       "...         ...            ...        ...             ...              ...   \n",
       "9446  172463.45              1        NaN             1.0         40315.27   \n",
       "9579       0.00              2        NaN             0.0         31474.27   \n",
       "9608       0.00              2        NaN             1.0         80630.32   \n",
       "9676       0.00              2        NaN             1.0         55100.09   \n",
       "9861  106702.94              2        NaN             0.0        198313.69   \n",
       "\n",
       "      Exited  \n",
       "338        0  \n",
       "482        0  \n",
       "498        1  \n",
       "806        0  \n",
       "954        0  \n",
       "...      ...  \n",
       "9446       0  \n",
       "9579       0  \n",
       "9608       0  \n",
       "9676       0  \n",
       "9861       0  \n",
       "\n",
       "[79 rows x 13 columns]"
      ]
     },
     "execution_count": 102,
     "metadata": {},
     "output_type": "execute_result"
    }
   ],
   "source": [
    "df_bank.loc[df_bank.HasCrCard.isna()]"
   ]
  },
  {
   "cell_type": "markdown",
   "metadata": {},
   "source": [
    "Can't remove these 79 entries as they contain other valuable fields. Since we can't infer what should be in the null values, we will create a third category with a Number 2.0, that will represent that we don't know if the customer has a credit card or not. Using a number instead of a string reduces memory usage and makes easier to manipulate data."
   ]
  },
  {
   "cell_type": "code",
   "execution_count": 103,
   "metadata": {},
   "outputs": [
    {
     "data": {
      "text/plain": [
       "1.0    6997\n",
       "0.0    2924\n",
       "2.0      79\n",
       "Name: HasCrCard, dtype: int64"
      ]
     },
     "execution_count": 103,
     "metadata": {},
     "output_type": "execute_result"
    }
   ],
   "source": [
    "df_bank.loc[df_bank.HasCrCard.isna(), \"HasCrCard\"] = 2.0\n",
    "df_bank.HasCrCard.value_counts(dropna = False)"
   ]
  },
  {
   "cell_type": "code",
   "execution_count": 104,
   "metadata": {},
   "outputs": [
    {
     "data": {
      "text/plain": [
       "0    1\n",
       "1    1\n",
       "2    1\n",
       "3    1\n",
       "4    0\n",
       "Name: HasCrCard, dtype: int8"
      ]
     },
     "execution_count": 104,
     "metadata": {},
     "output_type": "execute_result"
    }
   ],
   "source": [
    "# transforming floats to integers\n",
    "df_bank.HasCrCard = df_bank.HasCrCard.astype(\"int8\")\n",
    "df_bank.HasCrCard.head()"
   ]
  },
  {
   "cell_type": "code",
   "execution_count": 105,
   "metadata": {},
   "outputs": [
    {
     "data": {
      "text/plain": [
       "<AxesSubplot:>"
      ]
     },
     "execution_count": 105,
     "metadata": {},
     "output_type": "execute_result"
    },
    {
     "data": {
      "image/png": "[encoded data removed]",
      "text/plain": [
       "<Figure size 432x288 with 1 Axes>"
      ]
     },
     "metadata": {
      "needs_background": "light"
     },
     "output_type": "display_data"
    }
   ],
   "source": [
    "df_bank.HasCrCard.hist()"
   ]
  },
  {
   "cell_type": "markdown",
   "metadata": {},
   "source": [
    "##### Outliers\n",
    "\n",
    "No need to analyse outliers for a categorical value"
   ]
  },
  {
   "cell_type": "markdown",
   "metadata": {},
   "source": [
    "#### Column `IsActiveMember`"
   ]
  },
  {
   "cell_type": "markdown",
   "metadata": {},
   "source": [
    "##### Analysis and missing values\n",
    "\n",
    "`IsActiveMember` is a categorical variable that identifies if a member is active or not. We should need to understand a little bit more what the bank understands as active, but this is something we can't infer from the data. We suspected that this could be related to the fact that the customer was still a customer in the bank, but we believe that the `Exited` field will provide this kind of information, so we can identify churn."
   ]
  },
  {
   "cell_type": "code",
   "execution_count": 106,
   "metadata": {},
   "outputs": [
    {
     "data": {
      "text/plain": [
       "1.0    5105\n",
       "0.0    4812\n",
       "NaN      83\n",
       "Name: IsActiveMember, dtype: int64"
      ]
     },
     "execution_count": 106,
     "metadata": {},
     "output_type": "execute_result"
    }
   ],
   "source": [
    "df_bank.IsActiveMember.value_counts(dropna = False)"
   ]
  },
  {
   "cell_type": "code",
   "execution_count": 107,
   "metadata": {},
   "outputs": [
    {
     "data": {
      "text/html": [
       "<div>\n",
       "<style scoped>\n",
       "    .dataframe tbody tr th:only-of-type {\n",
       "        vertical-align: middle;\n",
       "    }\n",
       "\n",
       "    .dataframe tbody tr th {\n",
       "        vertical-align: top;\n",
       "    }\n",
       "\n",
       "    .dataframe thead th {\n",
       "        text-align: right;\n",
       "    }\n",
       "</style>\n",
       "<table border=\"1\" class=\"dataframe\">\n",
       "  <thead>\n",
       "    <tr style=\"text-align: right;\">\n",
       "      <th></th>\n",
       "      <th>CustomerId</th>\n",
       "      <th>Surname</th>\n",
       "      <th>CreditScore</th>\n",
       "      <th>Geography</th>\n",
       "      <th>Gender</th>\n",
       "      <th>Age</th>\n",
       "      <th>Tenure</th>\n",
       "      <th>Balance</th>\n",
       "      <th>NumOfProducts</th>\n",
       "      <th>HasCrCard</th>\n",
       "      <th>IsActiveMember</th>\n",
       "      <th>EstimatedSalary</th>\n",
       "      <th>Exited</th>\n",
       "    </tr>\n",
       "  </thead>\n",
       "  <tbody>\n",
       "    <tr>\n",
       "      <th>109</th>\n",
       "      <td>15812917</td>\n",
       "      <td>Kosisochukwu</td>\n",
       "      <td>653</td>\n",
       "      <td>Spain</td>\n",
       "      <td>Male</td>\n",
       "      <td>35</td>\n",
       "      <td>6</td>\n",
       "      <td>116662.96</td>\n",
       "      <td>2</td>\n",
       "      <td>1</td>\n",
       "      <td>NaN</td>\n",
       "      <td>23864.21</td>\n",
       "      <td>0</td>\n",
       "    </tr>\n",
       "    <tr>\n",
       "      <th>131</th>\n",
       "      <td>15812470</td>\n",
       "      <td>Allan</td>\n",
       "      <td>719</td>\n",
       "      <td>France</td>\n",
       "      <td>Male</td>\n",
       "      <td>61</td>\n",
       "      <td>5</td>\n",
       "      <td>0.00</td>\n",
       "      <td>2</td>\n",
       "      <td>0</td>\n",
       "      <td>NaN</td>\n",
       "      <td>29132.43</td>\n",
       "      <td>0</td>\n",
       "    </tr>\n",
       "    <tr>\n",
       "      <th>520</th>\n",
       "      <td>15802390</td>\n",
       "      <td>Willoughby</td>\n",
       "      <td>724</td>\n",
       "      <td>France</td>\n",
       "      <td>Female</td>\n",
       "      <td>34</td>\n",
       "      <td>2</td>\n",
       "      <td>0.00</td>\n",
       "      <td>2</td>\n",
       "      <td>1</td>\n",
       "      <td>NaN</td>\n",
       "      <td>118863.38</td>\n",
       "      <td>0</td>\n",
       "    </tr>\n",
       "    <tr>\n",
       "      <th>565</th>\n",
       "      <td>15801395</td>\n",
       "      <td>Warren</td>\n",
       "      <td>790</td>\n",
       "      <td>France</td>\n",
       "      <td>Female</td>\n",
       "      <td>33</td>\n",
       "      <td>10</td>\n",
       "      <td>135120.72</td>\n",
       "      <td>1</td>\n",
       "      <td>0</td>\n",
       "      <td>NaN</td>\n",
       "      <td>195204.99</td>\n",
       "      <td>0</td>\n",
       "    </tr>\n",
       "    <tr>\n",
       "      <th>672</th>\n",
       "      <td>15798895</td>\n",
       "      <td>Okonkwo</td>\n",
       "      <td>525</td>\n",
       "      <td>France</td>\n",
       "      <td>Female</td>\n",
       "      <td>59</td>\n",
       "      <td>6</td>\n",
       "      <td>55328.40</td>\n",
       "      <td>1</td>\n",
       "      <td>1</td>\n",
       "      <td>NaN</td>\n",
       "      <td>83342.73</td>\n",
       "      <td>1</td>\n",
       "    </tr>\n",
       "    <tr>\n",
       "      <th>...</th>\n",
       "      <td>...</td>\n",
       "      <td>...</td>\n",
       "      <td>...</td>\n",
       "      <td>...</td>\n",
       "      <td>...</td>\n",
       "      <td>...</td>\n",
       "      <td>...</td>\n",
       "      <td>...</td>\n",
       "      <td>...</td>\n",
       "      <td>...</td>\n",
       "      <td>...</td>\n",
       "      <td>...</td>\n",
       "      <td>...</td>\n",
       "    </tr>\n",
       "    <tr>\n",
       "      <th>9346</th>\n",
       "      <td>15583026</td>\n",
       "      <td>Welch</td>\n",
       "      <td>535</td>\n",
       "      <td>France</td>\n",
       "      <td>Female</td>\n",
       "      <td>38</td>\n",
       "      <td>0</td>\n",
       "      <td>135919.33</td>\n",
       "      <td>1</td>\n",
       "      <td>1</td>\n",
       "      <td>NaN</td>\n",
       "      <td>80425.65</td>\n",
       "      <td>0</td>\n",
       "    </tr>\n",
       "    <tr>\n",
       "      <th>9368</th>\n",
       "      <td>15582259</td>\n",
       "      <td>Campbell</td>\n",
       "      <td>567</td>\n",
       "      <td>France</td>\n",
       "      <td>Female</td>\n",
       "      <td>37</td>\n",
       "      <td>7</td>\n",
       "      <td>0.00</td>\n",
       "      <td>2</td>\n",
       "      <td>1</td>\n",
       "      <td>NaN</td>\n",
       "      <td>28690.90</td>\n",
       "      <td>0</td>\n",
       "    </tr>\n",
       "    <tr>\n",
       "      <th>9672</th>\n",
       "      <td>15574296</td>\n",
       "      <td>Kambinachi</td>\n",
       "      <td>757</td>\n",
       "      <td>France</td>\n",
       "      <td>Male</td>\n",
       "      <td>23</td>\n",
       "      <td>2</td>\n",
       "      <td>80673.96</td>\n",
       "      <td>2</td>\n",
       "      <td>1</td>\n",
       "      <td>NaN</td>\n",
       "      <td>93991.65</td>\n",
       "      <td>0</td>\n",
       "    </tr>\n",
       "    <tr>\n",
       "      <th>9771</th>\n",
       "      <td>15571689</td>\n",
       "      <td>Kelechi</td>\n",
       "      <td>740</td>\n",
       "      <td>France</td>\n",
       "      <td>Female</td>\n",
       "      <td>37</td>\n",
       "      <td>5</td>\n",
       "      <td>0.00</td>\n",
       "      <td>2</td>\n",
       "      <td>1</td>\n",
       "      <td>NaN</td>\n",
       "      <td>27528.40</td>\n",
       "      <td>0</td>\n",
       "    </tr>\n",
       "    <tr>\n",
       "      <th>9854</th>\n",
       "      <td>15569572</td>\n",
       "      <td>Sopuluchi</td>\n",
       "      <td>778</td>\n",
       "      <td>France</td>\n",
       "      <td>Male</td>\n",
       "      <td>37</td>\n",
       "      <td>6</td>\n",
       "      <td>0.00</td>\n",
       "      <td>2</td>\n",
       "      <td>1</td>\n",
       "      <td>NaN</td>\n",
       "      <td>106197.44</td>\n",
       "      <td>0</td>\n",
       "    </tr>\n",
       "  </tbody>\n",
       "</table>\n",
       "<p>83 rows × 13 columns</p>\n",
       "</div>"
      ],
      "text/plain": [
       "      CustomerId       Surname  CreditScore Geography  Gender  Age  Tenure  \\\n",
       "109     15812917  Kosisochukwu          653     Spain    Male   35       6   \n",
       "131     15812470         Allan          719    France    Male   61       5   \n",
       "520     15802390    Willoughby          724    France  Female   34       2   \n",
       "565     15801395        Warren          790    France  Female   33      10   \n",
       "672     15798895       Okonkwo          525    France  Female   59       6   \n",
       "...          ...           ...          ...       ...     ...  ...     ...   \n",
       "9346    15583026         Welch          535    France  Female   38       0   \n",
       "9368    15582259      Campbell          567    France  Female   37       7   \n",
       "9672    15574296    Kambinachi          757    France    Male   23       2   \n",
       "9771    15571689       Kelechi          740    France  Female   37       5   \n",
       "9854    15569572     Sopuluchi          778    France    Male   37       6   \n",
       "\n",
       "        Balance  NumOfProducts  HasCrCard  IsActiveMember  EstimatedSalary  \\\n",
       "109   116662.96              2          1             NaN         23864.21   \n",
       "131        0.00              2          0             NaN         29132.43   \n",
       "520        0.00              2          1             NaN        118863.38   \n",
       "565   135120.72              1          0             NaN        195204.99   \n",
       "672    55328.40              1          1             NaN         83342.73   \n",
       "...         ...            ...        ...             ...              ...   \n",
       "9346  135919.33              1          1             NaN         80425.65   \n",
       "9368       0.00              2          1             NaN         28690.90   \n",
       "9672   80673.96              2          1             NaN         93991.65   \n",
       "9771       0.00              2          1             NaN         27528.40   \n",
       "9854       0.00              2          1             NaN        106197.44   \n",
       "\n",
       "      Exited  \n",
       "109        0  \n",
       "131        0  \n",
       "520        0  \n",
       "565        0  \n",
       "672        1  \n",
       "...      ...  \n",
       "9346       0  \n",
       "9368       0  \n",
       "9672       0  \n",
       "9771       0  \n",
       "9854       0  \n",
       "\n",
       "[83 rows x 13 columns]"
      ]
     },
     "execution_count": 107,
     "metadata": {},
     "output_type": "execute_result"
    }
   ],
   "source": [
    "df_bank.loc[df_bank.IsActiveMember.isna()]"
   ]
  },
  {
   "cell_type": "markdown",
   "metadata": {},
   "source": [
    "After inspecting the data, We will apply the same treatment that we applied to `HasCrCard` for the same reasons"
   ]
  },
  {
   "cell_type": "code",
   "execution_count": 108,
   "metadata": {},
   "outputs": [],
   "source": [
    "df_bank.loc[df_bank.IsActiveMember.isna(), \"IsActiveMember\"] = 2.0\n",
    "df_bank.IsActiveMember = df_bank.IsActiveMember.astype(\"int8\")"
   ]
  },
  {
   "cell_type": "code",
   "execution_count": 109,
   "metadata": {},
   "outputs": [
    {
     "data": {
      "text/plain": [
       "1    5105\n",
       "0    4812\n",
       "2      83\n",
       "Name: IsActiveMember, dtype: int64"
      ]
     },
     "execution_count": 109,
     "metadata": {},
     "output_type": "execute_result"
    }
   ],
   "source": [
    "df_bank.IsActiveMember.value_counts(dropna = False)"
   ]
  },
  {
   "cell_type": "code",
   "execution_count": 110,
   "metadata": {},
   "outputs": [
    {
     "data": {
      "text/plain": [
       "<AxesSubplot:>"
      ]
     },
     "execution_count": 110,
     "metadata": {},
     "output_type": "execute_result"
    },
    {
     "data": {
      "image/png": "[encoded data removed]",
      "text/plain": [
       "<Figure size 432x288 with 1 Axes>"
      ]
     },
     "metadata": {
      "needs_background": "light"
     },
     "output_type": "display_data"
    }
   ],
   "source": [
    "df_bank.IsActiveMember.hist()"
   ]
  },
  {
   "cell_type": "markdown",
   "metadata": {},
   "source": [
    "##### Outliers\n",
    "\n",
    "No need to analyse outliers"
   ]
  },
  {
   "cell_type": "markdown",
   "metadata": {},
   "source": [
    "#### Column `EstimatedSalary`"
   ]
  },
  {
   "cell_type": "markdown",
   "metadata": {},
   "source": [
    "##### Analysis and missing values\n",
    "\n",
    "`EstimatedSalary` is a continuous float variable identifying the estimated salary value of each bank customer"
   ]
  },
  {
   "cell_type": "code",
   "execution_count": 111,
   "metadata": {},
   "outputs": [
    {
     "data": {
      "text/plain": [
       "43"
      ]
     },
     "execution_count": 111,
     "metadata": {},
     "output_type": "execute_result"
    }
   ],
   "source": [
    "df_bank.EstimatedSalary.isna().sum()"
   ]
  },
  {
   "cell_type": "code",
   "execution_count": 112,
   "metadata": {},
   "outputs": [
    {
     "data": {
      "text/plain": [
       "count      9957.000000\n",
       "mean     100117.009341\n",
       "std       57496.773622\n",
       "min          11.580000\n",
       "25%       51099.560000\n",
       "50%      100240.200000\n",
       "75%      149399.700000\n",
       "max      199992.480000\n",
       "Name: EstimatedSalary, dtype: float64"
      ]
     },
     "execution_count": 112,
     "metadata": {},
     "output_type": "execute_result"
    }
   ],
   "source": [
    "df_bank.EstimatedSalary.describe()"
   ]
  },
  {
   "cell_type": "markdown",
   "metadata": {},
   "source": [
    "There are 43 null values that we will treat as soon as we review the outliers. From a first inspection to the values, we see a pretty small minimum (11.58) that is a suspected outlier, but nothing more."
   ]
  },
  {
   "cell_type": "markdown",
   "metadata": {},
   "source": [
    "##### Outliers"
   ]
  },
  {
   "cell_type": "code",
   "execution_count": 113,
   "metadata": {},
   "outputs": [
    {
     "data": {
      "text/plain": [
       "<AxesSubplot:>"
      ]
     },
     "execution_count": 113,
     "metadata": {},
     "output_type": "execute_result"
    },
    {
     "data": {
      "image/png": "[encoded data removed]",
      "text/plain": [
       "<Figure size 432x288 with 1 Axes>"
      ]
     },
     "metadata": {
      "needs_background": "light"
     },
     "output_type": "display_data"
    }
   ],
   "source": [
    "df_bank.EstimatedSalary.plot(kind = \"box\")"
   ]
  },
  {
   "cell_type": "markdown",
   "metadata": {},
   "source": [
    "From the boxplot, it seems that there are no outliers outside the range of 1.5 * IQR, so we won't be removing any values. However, we need to fill in the null values with the mean."
   ]
  },
  {
   "cell_type": "code",
   "execution_count": 114,
   "metadata": {},
   "outputs": [
    {
     "data": {
      "text/plain": [
       "100117.00934116713"
      ]
     },
     "execution_count": 114,
     "metadata": {},
     "output_type": "execute_result"
    }
   ],
   "source": [
    "estimated_salary_mean = df_bank.EstimatedSalary.mean()\n",
    "estimated_salary_mean"
   ]
  },
  {
   "cell_type": "code",
   "execution_count": 115,
   "metadata": {},
   "outputs": [],
   "source": [
    "df_bank.EstimatedSalary.fillna(estimated_salary_mean, inplace = True)"
   ]
  },
  {
   "cell_type": "markdown",
   "metadata": {},
   "source": [
    "#### Column `Exited`"
   ]
  },
  {
   "cell_type": "markdown",
   "metadata": {},
   "source": [
    "##### Analysis and missing values\n",
    "\n",
    "`Exited` is a boolean categorical value identifying if the bank customer has churned or not."
   ]
  },
  {
   "cell_type": "code",
   "execution_count": 116,
   "metadata": {},
   "outputs": [
    {
     "data": {
      "text/plain": [
       "0    7963\n",
       "1    2037\n",
       "Name: Exited, dtype: int64"
      ]
     },
     "execution_count": 116,
     "metadata": {},
     "output_type": "execute_result"
    }
   ],
   "source": [
    "df_bank.Exited.value_counts(dropna = False)"
   ]
  },
  {
   "cell_type": "code",
   "execution_count": 117,
   "metadata": {},
   "outputs": [
    {
     "data": {
      "text/plain": [
       "<AxesSubplot:>"
      ]
     },
     "execution_count": 117,
     "metadata": {},
     "output_type": "execute_result"
    },
    {
     "data": {
      "image/png": "[encoded data removed]",
      "text/plain": [
       "<Figure size 432x288 with 1 Axes>"
      ]
     },
     "metadata": {
      "needs_background": "light"
     },
     "output_type": "display_data"
    }
   ],
   "source": [
    "df_bank.Exited.hist()"
   ]
  },
  {
   "cell_type": "code",
   "execution_count": 118,
   "metadata": {},
   "outputs": [
    {
     "data": {
      "text/plain": [
       "0    0\n",
       "1    0\n",
       "2    1\n",
       "3    0\n",
       "4    0\n",
       "Name: Exited, dtype: int64"
      ]
     },
     "execution_count": 118,
     "metadata": {},
     "output_type": "execute_result"
    }
   ],
   "source": [
    "df_bank.Exited.head()"
   ]
  },
  {
   "cell_type": "markdown",
   "metadata": {},
   "source": [
    "No need to fill any null values, as they don't exist. \n",
    "\n",
    "Another thing to note down is that taking into account that it's a boolean value, they appear encoded as integers, this will be an advantage when transforming categorical values and we'll leave them as they are, but we'll make sure we reduce the memory used to encode them, converting them to int8."
   ]
  },
  {
   "cell_type": "code",
   "execution_count": 119,
   "metadata": {},
   "outputs": [
    {
     "data": {
      "text/plain": [
       "0    7963\n",
       "1    2037\n",
       "Name: Exited, dtype: int64"
      ]
     },
     "execution_count": 119,
     "metadata": {},
     "output_type": "execute_result"
    }
   ],
   "source": [
    "df_bank.Exited = df_bank.Exited.astype('int8')\n",
    "df_bank.Exited.value_counts(dropna = False)"
   ]
  },
  {
   "cell_type": "markdown",
   "metadata": {},
   "source": [
    "##### Outliers\n",
    "\n",
    "No need to analyse outliers in categorical values"
   ]
  },
  {
   "cell_type": "markdown",
   "metadata": {},
   "source": [
    "#### Final arrangements"
   ]
  },
  {
   "cell_type": "markdown",
   "metadata": {},
   "source": [
    "Before transforming categorical values and scaling the data set, we will do some reviewing and final checks"
   ]
  },
  {
   "cell_type": "code",
   "execution_count": 120,
   "metadata": {},
   "outputs": [
    {
     "data": {
      "text/plain": [
       "(10000, 13)"
      ]
     },
     "execution_count": 120,
     "metadata": {},
     "output_type": "execute_result"
    }
   ],
   "source": [
    "df_bank.shape"
   ]
  },
  {
   "cell_type": "code",
   "execution_count": 121,
   "metadata": {},
   "outputs": [
    {
     "data": {
      "text/plain": [
       "CustomerId         0\n",
       "Surname            0\n",
       "CreditScore        0\n",
       "Geography          0\n",
       "Gender             0\n",
       "Age                0\n",
       "Tenure             0\n",
       "Balance            0\n",
       "NumOfProducts      0\n",
       "HasCrCard          0\n",
       "IsActiveMember     0\n",
       "EstimatedSalary    0\n",
       "Exited             0\n",
       "dtype: int64"
      ]
     },
     "execution_count": 121,
     "metadata": {},
     "output_type": "execute_result"
    }
   ],
   "source": [
    "# confirming there are no nulls anywhere in the dataset\n",
    "df_bank.isna().sum()"
   ]
  },
  {
   "cell_type": "code",
   "execution_count": 122,
   "metadata": {},
   "outputs": [
    {
     "name": "stdout",
     "output_type": "stream",
     "text": [
      "<class 'pandas.core.frame.DataFrame'>\n",
      "RangeIndex: 10000 entries, 0 to 9999\n",
      "Data columns (total 13 columns):\n",
      " #   Column           Non-Null Count  Dtype  \n",
      "---  ------           --------------  -----  \n",
      " 0   CustomerId       10000 non-null  int64  \n",
      " 1   Surname          10000 non-null  object \n",
      " 2   CreditScore      10000 non-null  int64  \n",
      " 3   Geography        10000 non-null  object \n",
      " 4   Gender           10000 non-null  object \n",
      " 5   Age              10000 non-null  int8   \n",
      " 6   Tenure           10000 non-null  int8   \n",
      " 7   Balance          10000 non-null  float64\n",
      " 8   NumOfProducts    10000 non-null  int8   \n",
      " 9   HasCrCard        10000 non-null  int8   \n",
      " 10  IsActiveMember   10000 non-null  int8   \n",
      " 11  EstimatedSalary  10000 non-null  float64\n",
      " 12  Exited           10000 non-null  int8   \n",
      "dtypes: float64(2), int64(2), int8(6), object(3)\n",
      "memory usage: 605.6+ KB\n"
     ]
    }
   ],
   "source": [
    "# reviewing all variable transformations\n",
    "df_bank.info()"
   ]
  },
  {
   "cell_type": "code",
   "execution_count": 123,
   "metadata": {},
   "outputs": [],
   "source": [
    "# storing a pre-processed data set for visualization analysis\n",
    "df_bank.to_csv('./data/churn_data_processed.csv')"
   ]
  },
  {
   "cell_type": "markdown",
   "metadata": {},
   "source": [
    "### 3 - Categorical variables transformation"
   ]
  },
  {
   "cell_type": "markdown",
   "metadata": {},
   "source": [
    "A categorical variable is one which defines group membership and is typically arbitrary. For the dataset that we have, having in mind that we are transforming the data in order to use a ML model, we will transform the following categorical variables:\n",
    "- `CustomerId`: IDs of any kind are usually treated as categorical ([More info on how to treat IDs](https://www.quora.com/Is-ID-categorical-or-numerical))\n",
    "- `Surname`\n",
    "- `Geography`\n",
    "- `Gender`\n",
    "- `NumOfProducts`\n",
    "- `HasCrCard`\n",
    "- `IsActiveMember`\n",
    "- `Exited`"
   ]
  },
  {
   "cell_type": "markdown",
   "metadata": {},
   "source": [
    "The criteria we'll be using to transform categorical values are as follows:\n",
    "- **LabelEncoder** when there's a high-small relationship between the categories (big - medium -small)\n",
    "- **One Hot encoder** will be the standard unless the number of categories is big, as it will add a lot of columns to our DataFrame\n",
    "- **Mean Encoding** in case we have a big amount of categories\n",
    "\n",
    "[More info on why we took that decision](https://www.analyticsvidhya.com/blog/2020/03/one-hot-encoding-vs-label-encoding-using-scikit-learn/)"
   ]
  },
  {
   "cell_type": "code",
   "execution_count": 124,
   "metadata": {},
   "outputs": [],
   "source": [
    "from sklearn.preprocessing import OneHotEncoder"
   ]
  },
  {
   "cell_type": "markdown",
   "metadata": {},
   "source": [
    "#### `CustomerId`"
   ]
  },
  {
   "cell_type": "code",
   "execution_count": 125,
   "metadata": {},
   "outputs": [
    {
     "data": {
      "text/plain": [
       "10000"
      ]
     },
     "execution_count": 125,
     "metadata": {},
     "output_type": "execute_result"
    }
   ],
   "source": [
    "df_bank.CustomerId.nunique()"
   ]
  },
  {
   "cell_type": "markdown",
   "metadata": {},
   "source": [
    "Due to the high cardinality of the variable, and taking into account that it won't help in grouping several features together, it's been decided to drop this column for the model training ([More information on why using IDs is not a good idea for models](https://stats.stackexchange.com/questions/535931/encoding-id-variables-for-machine-learning/538383#538383?newreg=3c8ab422e8334dc996352ad31d8fc682)). \n",
    "\n",
    "IDs are useful for the backend but not for analysis as they are unique and don't allow us to group features together."
   ]
  },
  {
   "cell_type": "code",
   "execution_count": 126,
   "metadata": {},
   "outputs": [],
   "source": [
    "df_bank.drop(columns = ['CustomerId'], inplace = True)"
   ]
  },
  {
   "cell_type": "markdown",
   "metadata": {},
   "source": [
    "#### `Surname`"
   ]
  },
  {
   "cell_type": "code",
   "execution_count": 127,
   "metadata": {},
   "outputs": [
    {
     "data": {
      "text/plain": [
       "2926"
      ]
     },
     "execution_count": 127,
     "metadata": {},
     "output_type": "execute_result"
    }
   ],
   "source": [
    "df_bank.Surname.nunique()"
   ]
  },
  {
   "cell_type": "markdown",
   "metadata": {},
   "source": [
    "Surnames have a large amount of categories, in order to encode them, we need to use **mean encoding** as **one hot enconding** wouldn't work to the high amount of categories. By using the mean, we get the probability of exiting (`Exit = 1`) for each `Surname`, taking into account that `Exited` can only have 1s or 0s as values."
   ]
  },
  {
   "cell_type": "code",
   "execution_count": 128,
   "metadata": {},
   "outputs": [],
   "source": [
    "surnames_mean_encoded = df_bank.groupby(\"Surname\")['Exited'].mean().to_dict()"
   ]
  },
  {
   "cell_type": "code",
   "execution_count": 129,
   "metadata": {},
   "outputs": [
    {
     "data": {
      "text/html": [
       "<div>\n",
       "<style scoped>\n",
       "    .dataframe tbody tr th:only-of-type {\n",
       "        vertical-align: middle;\n",
       "    }\n",
       "\n",
       "    .dataframe tbody tr th {\n",
       "        vertical-align: top;\n",
       "    }\n",
       "\n",
       "    .dataframe thead th {\n",
       "        text-align: right;\n",
       "    }\n",
       "</style>\n",
       "<table border=\"1\" class=\"dataframe\">\n",
       "  <thead>\n",
       "    <tr style=\"text-align: right;\">\n",
       "      <th></th>\n",
       "      <th>Surname</th>\n",
       "      <th>CreditScore</th>\n",
       "      <th>Geography</th>\n",
       "      <th>Gender</th>\n",
       "      <th>Age</th>\n",
       "      <th>Tenure</th>\n",
       "      <th>Balance</th>\n",
       "      <th>NumOfProducts</th>\n",
       "      <th>HasCrCard</th>\n",
       "      <th>IsActiveMember</th>\n",
       "      <th>EstimatedSalary</th>\n",
       "      <th>Exited</th>\n",
       "    </tr>\n",
       "  </thead>\n",
       "  <tbody>\n",
       "    <tr>\n",
       "      <th>0</th>\n",
       "      <td>0.500000</td>\n",
       "      <td>614</td>\n",
       "      <td>Spain</td>\n",
       "      <td>Female</td>\n",
       "      <td>40</td>\n",
       "      <td>3</td>\n",
       "      <td>113348.50</td>\n",
       "      <td>1</td>\n",
       "      <td>1</td>\n",
       "      <td>1</td>\n",
       "      <td>77789.01</td>\n",
       "      <td>0</td>\n",
       "    </tr>\n",
       "    <tr>\n",
       "      <th>1</th>\n",
       "      <td>0.153846</td>\n",
       "      <td>758</td>\n",
       "      <td>France</td>\n",
       "      <td>Female</td>\n",
       "      <td>34</td>\n",
       "      <td>1</td>\n",
       "      <td>154139.45</td>\n",
       "      <td>1</td>\n",
       "      <td>1</td>\n",
       "      <td>1</td>\n",
       "      <td>60728.89</td>\n",
       "      <td>0</td>\n",
       "    </tr>\n",
       "    <tr>\n",
       "      <th>2</th>\n",
       "      <td>0.500000</td>\n",
       "      <td>541</td>\n",
       "      <td>Germany</td>\n",
       "      <td>Female</td>\n",
       "      <td>39</td>\n",
       "      <td>9</td>\n",
       "      <td>100116.67</td>\n",
       "      <td>1</td>\n",
       "      <td>1</td>\n",
       "      <td>1</td>\n",
       "      <td>199808.10</td>\n",
       "      <td>1</td>\n",
       "    </tr>\n",
       "    <tr>\n",
       "      <th>3</th>\n",
       "      <td>0.200000</td>\n",
       "      <td>481</td>\n",
       "      <td>France</td>\n",
       "      <td>NotSpecified</td>\n",
       "      <td>37</td>\n",
       "      <td>8</td>\n",
       "      <td>152303.66</td>\n",
       "      <td>2</td>\n",
       "      <td>1</td>\n",
       "      <td>1</td>\n",
       "      <td>175082.20</td>\n",
       "      <td>0</td>\n",
       "    </tr>\n",
       "    <tr>\n",
       "      <th>4</th>\n",
       "      <td>0.000000</td>\n",
       "      <td>711</td>\n",
       "      <td>France</td>\n",
       "      <td>Female</td>\n",
       "      <td>37</td>\n",
       "      <td>8</td>\n",
       "      <td>113899.92</td>\n",
       "      <td>1</td>\n",
       "      <td>0</td>\n",
       "      <td>0</td>\n",
       "      <td>80215.20</td>\n",
       "      <td>0</td>\n",
       "    </tr>\n",
       "    <tr>\n",
       "      <th>...</th>\n",
       "      <td>...</td>\n",
       "      <td>...</td>\n",
       "      <td>...</td>\n",
       "      <td>...</td>\n",
       "      <td>...</td>\n",
       "      <td>...</td>\n",
       "      <td>...</td>\n",
       "      <td>...</td>\n",
       "      <td>...</td>\n",
       "      <td>...</td>\n",
       "      <td>...</td>\n",
       "      <td>...</td>\n",
       "    </tr>\n",
       "    <tr>\n",
       "      <th>9995</th>\n",
       "      <td>0.125000</td>\n",
       "      <td>745</td>\n",
       "      <td>Germany</td>\n",
       "      <td>Male</td>\n",
       "      <td>48</td>\n",
       "      <td>10</td>\n",
       "      <td>96048.55</td>\n",
       "      <td>1</td>\n",
       "      <td>1</td>\n",
       "      <td>0</td>\n",
       "      <td>74510.65</td>\n",
       "      <td>0</td>\n",
       "    </tr>\n",
       "    <tr>\n",
       "      <th>9996</th>\n",
       "      <td>0.142857</td>\n",
       "      <td>627</td>\n",
       "      <td>Germany</td>\n",
       "      <td>Female</td>\n",
       "      <td>30</td>\n",
       "      <td>6</td>\n",
       "      <td>57809.32</td>\n",
       "      <td>1</td>\n",
       "      <td>1</td>\n",
       "      <td>0</td>\n",
       "      <td>188258.49</td>\n",
       "      <td>0</td>\n",
       "    </tr>\n",
       "    <tr>\n",
       "      <th>9997</th>\n",
       "      <td>0.133333</td>\n",
       "      <td>601</td>\n",
       "      <td>France</td>\n",
       "      <td>Male</td>\n",
       "      <td>47</td>\n",
       "      <td>1</td>\n",
       "      <td>64430.06</td>\n",
       "      <td>2</td>\n",
       "      <td>0</td>\n",
       "      <td>1</td>\n",
       "      <td>96517.97</td>\n",
       "      <td>0</td>\n",
       "    </tr>\n",
       "    <tr>\n",
       "      <th>9998</th>\n",
       "      <td>0.285714</td>\n",
       "      <td>612</td>\n",
       "      <td>Spain</td>\n",
       "      <td>Male</td>\n",
       "      <td>35</td>\n",
       "      <td>1</td>\n",
       "      <td>0.00</td>\n",
       "      <td>1</td>\n",
       "      <td>1</td>\n",
       "      <td>1</td>\n",
       "      <td>83256.26</td>\n",
       "      <td>1</td>\n",
       "    </tr>\n",
       "    <tr>\n",
       "      <th>9999</th>\n",
       "      <td>0.312500</td>\n",
       "      <td>698</td>\n",
       "      <td>Spain</td>\n",
       "      <td>NotSpecified</td>\n",
       "      <td>39</td>\n",
       "      <td>9</td>\n",
       "      <td>161993.89</td>\n",
       "      <td>1</td>\n",
       "      <td>0</td>\n",
       "      <td>0</td>\n",
       "      <td>90212.38</td>\n",
       "      <td>0</td>\n",
       "    </tr>\n",
       "  </tbody>\n",
       "</table>\n",
       "<p>10000 rows × 12 columns</p>\n",
       "</div>"
      ],
      "text/plain": [
       "       Surname  CreditScore Geography        Gender  Age  Tenure    Balance  \\\n",
       "0     0.500000          614     Spain        Female   40       3  113348.50   \n",
       "1     0.153846          758    France        Female   34       1  154139.45   \n",
       "2     0.500000          541   Germany        Female   39       9  100116.67   \n",
       "3     0.200000          481    France  NotSpecified   37       8  152303.66   \n",
       "4     0.000000          711    France        Female   37       8  113899.92   \n",
       "...        ...          ...       ...           ...  ...     ...        ...   \n",
       "9995  0.125000          745   Germany          Male   48      10   96048.55   \n",
       "9996  0.142857          627   Germany        Female   30       6   57809.32   \n",
       "9997  0.133333          601    France          Male   47       1   64430.06   \n",
       "9998  0.285714          612     Spain          Male   35       1       0.00   \n",
       "9999  0.312500          698     Spain  NotSpecified   39       9  161993.89   \n",
       "\n",
       "      NumOfProducts  HasCrCard  IsActiveMember  EstimatedSalary  Exited  \n",
       "0                 1          1               1         77789.01       0  \n",
       "1                 1          1               1         60728.89       0  \n",
       "2                 1          1               1        199808.10       1  \n",
       "3                 2          1               1        175082.20       0  \n",
       "4                 1          0               0         80215.20       0  \n",
       "...             ...        ...             ...              ...     ...  \n",
       "9995              1          1               0         74510.65       0  \n",
       "9996              1          1               0        188258.49       0  \n",
       "9997              2          0               1         96517.97       0  \n",
       "9998              1          1               1         83256.26       1  \n",
       "9999              1          0               0         90212.38       0  \n",
       "\n",
       "[10000 rows x 12 columns]"
      ]
     },
     "execution_count": 129,
     "metadata": {},
     "output_type": "execute_result"
    }
   ],
   "source": [
    "df_bank.Surname = df_bank.Surname.map(surnames_mean_encoded)\n",
    "df_bank"
   ]
  },
  {
   "cell_type": "code",
   "execution_count": 130,
   "metadata": {},
   "outputs": [
    {
     "data": {
      "text/plain": [
       "0.000000    2929\n",
       "0.250000     732\n",
       "0.333333     510\n",
       "0.500000     502\n",
       "0.200000     485\n",
       "            ... \n",
       "0.066667      15\n",
       "0.600000      15\n",
       "0.266667      15\n",
       "0.416667      12\n",
       "0.454545      11\n",
       "Name: Surname, Length: 72, dtype: int64"
      ]
     },
     "execution_count": 130,
     "metadata": {},
     "output_type": "execute_result"
    }
   ],
   "source": [
    "df_bank.Surname.value_counts(dropna = False)"
   ]
  },
  {
   "cell_type": "code",
   "execution_count": 131,
   "metadata": {},
   "outputs": [
    {
     "data": {
      "text/plain": [
       "<AxesSubplot:>"
      ]
     },
     "execution_count": 131,
     "metadata": {},
     "output_type": "execute_result"
    },
    {
     "data": {
      "image/png": "[encoded data removed]",
      "text/plain": [
       "<Figure size 432x288 with 1 Axes>"
      ]
     },
     "metadata": {
      "needs_background": "light"
     },
     "output_type": "display_data"
    }
   ],
   "source": [
    "df_bank.Surname.hist(bins = 20)"
   ]
  },
  {
   "cell_type": "markdown",
   "metadata": {},
   "source": [
    "Even though we used the mean encoding, we see there are 2929 values that map to 0 (around 30% of all the samples we have). Depending on the model used and how skewed the results are, we may need to either remove the rows or don't consider the column at all."
   ]
  },
  {
   "cell_type": "markdown",
   "metadata": {},
   "source": [
    "#### `Geography`"
   ]
  },
  {
   "cell_type": "code",
   "execution_count": 132,
   "metadata": {},
   "outputs": [
    {
     "data": {
      "text/plain": [
       "France         4924\n",
       "Germany        2453\n",
       "Spain          2432\n",
       "NotReported     191\n",
       "Name: Geography, dtype: int64"
      ]
     },
     "execution_count": 132,
     "metadata": {},
     "output_type": "execute_result"
    }
   ],
   "source": [
    "df_bank.Geography.value_counts()"
   ]
  },
  {
   "cell_type": "markdown",
   "metadata": {},
   "source": [
    "Using **One Hot Encoder** as there are only 4 columns with no relationship between them"
   ]
  },
  {
   "cell_type": "code",
   "execution_count": 133,
   "metadata": {},
   "outputs": [
    {
     "data": {
      "text/plain": [
       "array([['Spain'],\n",
       "       ['France'],\n",
       "       ['Germany'],\n",
       "       ...,\n",
       "       ['France'],\n",
       "       ['Spain'],\n",
       "       ['Spain']], dtype=object)"
      ]
     },
     "execution_count": 133,
     "metadata": {},
     "output_type": "execute_result"
    }
   ],
   "source": [
    "reshaped_geography = np.array(df_bank[\"Geography\"]).reshape(len(df_bank), 1)\n",
    "reshaped_geography"
   ]
  },
  {
   "cell_type": "code",
   "execution_count": 134,
   "metadata": {},
   "outputs": [
    {
     "data": {
      "text/plain": [
       "array([[0., 0., 0., 1.],\n",
       "       [1., 0., 0., 0.],\n",
       "       [0., 1., 0., 0.],\n",
       "       ...,\n",
       "       [1., 0., 0., 0.],\n",
       "       [0., 0., 0., 1.],\n",
       "       [0., 0., 0., 1.]])"
      ]
     },
     "execution_count": 134,
     "metadata": {},
     "output_type": "execute_result"
    }
   ],
   "source": [
    "# using One Hot Encoding as there's no relationship between the different values\n",
    "geography_encoder = OneHotEncoder(sparse = False)\n",
    "geography_encoder.fit_transform(reshaped_geography)"
   ]
  },
  {
   "cell_type": "code",
   "execution_count": 135,
   "metadata": {},
   "outputs": [
    {
     "data": {
      "text/plain": [
       "[array(['France', 'Germany', 'NotReported', 'Spain'], dtype=object)]"
      ]
     },
     "execution_count": 135,
     "metadata": {},
     "output_type": "execute_result"
    }
   ],
   "source": [
    "geography_encoder.categories_"
   ]
  },
  {
   "cell_type": "code",
   "execution_count": 136,
   "metadata": {},
   "outputs": [
    {
     "data": {
      "text/html": [
       "<div>\n",
       "<style scoped>\n",
       "    .dataframe tbody tr th:only-of-type {\n",
       "        vertical-align: middle;\n",
       "    }\n",
       "\n",
       "    .dataframe tbody tr th {\n",
       "        vertical-align: top;\n",
       "    }\n",
       "\n",
       "    .dataframe thead th {\n",
       "        text-align: right;\n",
       "    }\n",
       "</style>\n",
       "<table border=\"1\" class=\"dataframe\">\n",
       "  <thead>\n",
       "    <tr style=\"text-align: right;\">\n",
       "      <th></th>\n",
       "      <th>Geography_France</th>\n",
       "      <th>Geography_Germany</th>\n",
       "      <th>Geography_NotReported</th>\n",
       "      <th>Geography_Spain</th>\n",
       "    </tr>\n",
       "  </thead>\n",
       "  <tbody>\n",
       "    <tr>\n",
       "      <th>0</th>\n",
       "      <td>0.0</td>\n",
       "      <td>0.0</td>\n",
       "      <td>0.0</td>\n",
       "      <td>1.0</td>\n",
       "    </tr>\n",
       "    <tr>\n",
       "      <th>1</th>\n",
       "      <td>1.0</td>\n",
       "      <td>0.0</td>\n",
       "      <td>0.0</td>\n",
       "      <td>0.0</td>\n",
       "    </tr>\n",
       "    <tr>\n",
       "      <th>2</th>\n",
       "      <td>0.0</td>\n",
       "      <td>1.0</td>\n",
       "      <td>0.0</td>\n",
       "      <td>0.0</td>\n",
       "    </tr>\n",
       "    <tr>\n",
       "      <th>3</th>\n",
       "      <td>1.0</td>\n",
       "      <td>0.0</td>\n",
       "      <td>0.0</td>\n",
       "      <td>0.0</td>\n",
       "    </tr>\n",
       "    <tr>\n",
       "      <th>4</th>\n",
       "      <td>1.0</td>\n",
       "      <td>0.0</td>\n",
       "      <td>0.0</td>\n",
       "      <td>0.0</td>\n",
       "    </tr>\n",
       "  </tbody>\n",
       "</table>\n",
       "</div>"
      ],
      "text/plain": [
       "   Geography_France  Geography_Germany  Geography_NotReported  Geography_Spain\n",
       "0               0.0                0.0                    0.0              1.0\n",
       "1               1.0                0.0                    0.0              0.0\n",
       "2               0.0                1.0                    0.0              0.0\n",
       "3               1.0                0.0                    0.0              0.0\n",
       "4               1.0                0.0                    0.0              0.0"
      ]
     },
     "execution_count": 136,
     "metadata": {},
     "output_type": "execute_result"
    }
   ],
   "source": [
    "temp_df = pd.DataFrame(geography_encoder.fit_transform(reshaped_geography), columns = list(\"Geography_\" + geography_encoder.categories_[0]))\n",
    "temp_df.head()"
   ]
  },
  {
   "cell_type": "code",
   "execution_count": 137,
   "metadata": {},
   "outputs": [
    {
     "data": {
      "text/plain": [
       "Index(['Geography_France', 'Geography_Germany', 'Geography_NotReported',\n",
       "       'Geography_Spain'],\n",
       "      dtype='object')"
      ]
     },
     "execution_count": 137,
     "metadata": {},
     "output_type": "execute_result"
    }
   ],
   "source": [
    "temp_df.columns"
   ]
  },
  {
   "cell_type": "code",
   "execution_count": 138,
   "metadata": {},
   "outputs": [
    {
     "data": {
      "text/html": [
       "<div>\n",
       "<style scoped>\n",
       "    .dataframe tbody tr th:only-of-type {\n",
       "        vertical-align: middle;\n",
       "    }\n",
       "\n",
       "    .dataframe tbody tr th {\n",
       "        vertical-align: top;\n",
       "    }\n",
       "\n",
       "    .dataframe thead th {\n",
       "        text-align: right;\n",
       "    }\n",
       "</style>\n",
       "<table border=\"1\" class=\"dataframe\">\n",
       "  <thead>\n",
       "    <tr style=\"text-align: right;\">\n",
       "      <th></th>\n",
       "      <th>Surname</th>\n",
       "      <th>CreditScore</th>\n",
       "      <th>Geography</th>\n",
       "      <th>Gender</th>\n",
       "      <th>Age</th>\n",
       "      <th>Tenure</th>\n",
       "      <th>Balance</th>\n",
       "      <th>NumOfProducts</th>\n",
       "      <th>HasCrCard</th>\n",
       "      <th>IsActiveMember</th>\n",
       "      <th>EstimatedSalary</th>\n",
       "      <th>Exited</th>\n",
       "      <th>Geography_France</th>\n",
       "      <th>Geography_Germany</th>\n",
       "      <th>Geography_NotReported</th>\n",
       "      <th>Geography_Spain</th>\n",
       "    </tr>\n",
       "  </thead>\n",
       "  <tbody>\n",
       "    <tr>\n",
       "      <th>0</th>\n",
       "      <td>0.500000</td>\n",
       "      <td>614</td>\n",
       "      <td>Spain</td>\n",
       "      <td>Female</td>\n",
       "      <td>40</td>\n",
       "      <td>3</td>\n",
       "      <td>113348.50</td>\n",
       "      <td>1</td>\n",
       "      <td>1</td>\n",
       "      <td>1</td>\n",
       "      <td>77789.01</td>\n",
       "      <td>0</td>\n",
       "      <td>0.0</td>\n",
       "      <td>0.0</td>\n",
       "      <td>0.0</td>\n",
       "      <td>1.0</td>\n",
       "    </tr>\n",
       "    <tr>\n",
       "      <th>1</th>\n",
       "      <td>0.153846</td>\n",
       "      <td>758</td>\n",
       "      <td>France</td>\n",
       "      <td>Female</td>\n",
       "      <td>34</td>\n",
       "      <td>1</td>\n",
       "      <td>154139.45</td>\n",
       "      <td>1</td>\n",
       "      <td>1</td>\n",
       "      <td>1</td>\n",
       "      <td>60728.89</td>\n",
       "      <td>0</td>\n",
       "      <td>1.0</td>\n",
       "      <td>0.0</td>\n",
       "      <td>0.0</td>\n",
       "      <td>0.0</td>\n",
       "    </tr>\n",
       "    <tr>\n",
       "      <th>2</th>\n",
       "      <td>0.500000</td>\n",
       "      <td>541</td>\n",
       "      <td>Germany</td>\n",
       "      <td>Female</td>\n",
       "      <td>39</td>\n",
       "      <td>9</td>\n",
       "      <td>100116.67</td>\n",
       "      <td>1</td>\n",
       "      <td>1</td>\n",
       "      <td>1</td>\n",
       "      <td>199808.10</td>\n",
       "      <td>1</td>\n",
       "      <td>0.0</td>\n",
       "      <td>1.0</td>\n",
       "      <td>0.0</td>\n",
       "      <td>0.0</td>\n",
       "    </tr>\n",
       "    <tr>\n",
       "      <th>3</th>\n",
       "      <td>0.200000</td>\n",
       "      <td>481</td>\n",
       "      <td>France</td>\n",
       "      <td>NotSpecified</td>\n",
       "      <td>37</td>\n",
       "      <td>8</td>\n",
       "      <td>152303.66</td>\n",
       "      <td>2</td>\n",
       "      <td>1</td>\n",
       "      <td>1</td>\n",
       "      <td>175082.20</td>\n",
       "      <td>0</td>\n",
       "      <td>1.0</td>\n",
       "      <td>0.0</td>\n",
       "      <td>0.0</td>\n",
       "      <td>0.0</td>\n",
       "    </tr>\n",
       "    <tr>\n",
       "      <th>4</th>\n",
       "      <td>0.000000</td>\n",
       "      <td>711</td>\n",
       "      <td>France</td>\n",
       "      <td>Female</td>\n",
       "      <td>37</td>\n",
       "      <td>8</td>\n",
       "      <td>113899.92</td>\n",
       "      <td>1</td>\n",
       "      <td>0</td>\n",
       "      <td>0</td>\n",
       "      <td>80215.20</td>\n",
       "      <td>0</td>\n",
       "      <td>1.0</td>\n",
       "      <td>0.0</td>\n",
       "      <td>0.0</td>\n",
       "      <td>0.0</td>\n",
       "    </tr>\n",
       "    <tr>\n",
       "      <th>...</th>\n",
       "      <td>...</td>\n",
       "      <td>...</td>\n",
       "      <td>...</td>\n",
       "      <td>...</td>\n",
       "      <td>...</td>\n",
       "      <td>...</td>\n",
       "      <td>...</td>\n",
       "      <td>...</td>\n",
       "      <td>...</td>\n",
       "      <td>...</td>\n",
       "      <td>...</td>\n",
       "      <td>...</td>\n",
       "      <td>...</td>\n",
       "      <td>...</td>\n",
       "      <td>...</td>\n",
       "      <td>...</td>\n",
       "    </tr>\n",
       "    <tr>\n",
       "      <th>9995</th>\n",
       "      <td>0.125000</td>\n",
       "      <td>745</td>\n",
       "      <td>Germany</td>\n",
       "      <td>Male</td>\n",
       "      <td>48</td>\n",
       "      <td>10</td>\n",
       "      <td>96048.55</td>\n",
       "      <td>1</td>\n",
       "      <td>1</td>\n",
       "      <td>0</td>\n",
       "      <td>74510.65</td>\n",
       "      <td>0</td>\n",
       "      <td>0.0</td>\n",
       "      <td>1.0</td>\n",
       "      <td>0.0</td>\n",
       "      <td>0.0</td>\n",
       "    </tr>\n",
       "    <tr>\n",
       "      <th>9996</th>\n",
       "      <td>0.142857</td>\n",
       "      <td>627</td>\n",
       "      <td>Germany</td>\n",
       "      <td>Female</td>\n",
       "      <td>30</td>\n",
       "      <td>6</td>\n",
       "      <td>57809.32</td>\n",
       "      <td>1</td>\n",
       "      <td>1</td>\n",
       "      <td>0</td>\n",
       "      <td>188258.49</td>\n",
       "      <td>0</td>\n",
       "      <td>0.0</td>\n",
       "      <td>1.0</td>\n",
       "      <td>0.0</td>\n",
       "      <td>0.0</td>\n",
       "    </tr>\n",
       "    <tr>\n",
       "      <th>9997</th>\n",
       "      <td>0.133333</td>\n",
       "      <td>601</td>\n",
       "      <td>France</td>\n",
       "      <td>Male</td>\n",
       "      <td>47</td>\n",
       "      <td>1</td>\n",
       "      <td>64430.06</td>\n",
       "      <td>2</td>\n",
       "      <td>0</td>\n",
       "      <td>1</td>\n",
       "      <td>96517.97</td>\n",
       "      <td>0</td>\n",
       "      <td>1.0</td>\n",
       "      <td>0.0</td>\n",
       "      <td>0.0</td>\n",
       "      <td>0.0</td>\n",
       "    </tr>\n",
       "    <tr>\n",
       "      <th>9998</th>\n",
       "      <td>0.285714</td>\n",
       "      <td>612</td>\n",
       "      <td>Spain</td>\n",
       "      <td>Male</td>\n",
       "      <td>35</td>\n",
       "      <td>1</td>\n",
       "      <td>0.00</td>\n",
       "      <td>1</td>\n",
       "      <td>1</td>\n",
       "      <td>1</td>\n",
       "      <td>83256.26</td>\n",
       "      <td>1</td>\n",
       "      <td>0.0</td>\n",
       "      <td>0.0</td>\n",
       "      <td>0.0</td>\n",
       "      <td>1.0</td>\n",
       "    </tr>\n",
       "    <tr>\n",
       "      <th>9999</th>\n",
       "      <td>0.312500</td>\n",
       "      <td>698</td>\n",
       "      <td>Spain</td>\n",
       "      <td>NotSpecified</td>\n",
       "      <td>39</td>\n",
       "      <td>9</td>\n",
       "      <td>161993.89</td>\n",
       "      <td>1</td>\n",
       "      <td>0</td>\n",
       "      <td>0</td>\n",
       "      <td>90212.38</td>\n",
       "      <td>0</td>\n",
       "      <td>0.0</td>\n",
       "      <td>0.0</td>\n",
       "      <td>0.0</td>\n",
       "      <td>1.0</td>\n",
       "    </tr>\n",
       "  </tbody>\n",
       "</table>\n",
       "<p>10000 rows × 16 columns</p>\n",
       "</div>"
      ],
      "text/plain": [
       "       Surname  CreditScore Geography        Gender  Age  Tenure    Balance  \\\n",
       "0     0.500000          614     Spain        Female   40       3  113348.50   \n",
       "1     0.153846          758    France        Female   34       1  154139.45   \n",
       "2     0.500000          541   Germany        Female   39       9  100116.67   \n",
       "3     0.200000          481    France  NotSpecified   37       8  152303.66   \n",
       "4     0.000000          711    France        Female   37       8  113899.92   \n",
       "...        ...          ...       ...           ...  ...     ...        ...   \n",
       "9995  0.125000          745   Germany          Male   48      10   96048.55   \n",
       "9996  0.142857          627   Germany        Female   30       6   57809.32   \n",
       "9997  0.133333          601    France          Male   47       1   64430.06   \n",
       "9998  0.285714          612     Spain          Male   35       1       0.00   \n",
       "9999  0.312500          698     Spain  NotSpecified   39       9  161993.89   \n",
       "\n",
       "      NumOfProducts  HasCrCard  IsActiveMember  EstimatedSalary  Exited  \\\n",
       "0                 1          1               1         77789.01       0   \n",
       "1                 1          1               1         60728.89       0   \n",
       "2                 1          1               1        199808.10       1   \n",
       "3                 2          1               1        175082.20       0   \n",
       "4                 1          0               0         80215.20       0   \n",
       "...             ...        ...             ...              ...     ...   \n",
       "9995              1          1               0         74510.65       0   \n",
       "9996              1          1               0        188258.49       0   \n",
       "9997              2          0               1         96517.97       0   \n",
       "9998              1          1               1         83256.26       1   \n",
       "9999              1          0               0         90212.38       0   \n",
       "\n",
       "      Geography_France  Geography_Germany  Geography_NotReported  \\\n",
       "0                  0.0                0.0                    0.0   \n",
       "1                  1.0                0.0                    0.0   \n",
       "2                  0.0                1.0                    0.0   \n",
       "3                  1.0                0.0                    0.0   \n",
       "4                  1.0                0.0                    0.0   \n",
       "...                ...                ...                    ...   \n",
       "9995               0.0                1.0                    0.0   \n",
       "9996               0.0                1.0                    0.0   \n",
       "9997               1.0                0.0                    0.0   \n",
       "9998               0.0                0.0                    0.0   \n",
       "9999               0.0                0.0                    0.0   \n",
       "\n",
       "      Geography_Spain  \n",
       "0                 1.0  \n",
       "1                 0.0  \n",
       "2                 0.0  \n",
       "3                 0.0  \n",
       "4                 0.0  \n",
       "...               ...  \n",
       "9995              0.0  \n",
       "9996              0.0  \n",
       "9997              0.0  \n",
       "9998              1.0  \n",
       "9999              1.0  \n",
       "\n",
       "[10000 rows x 16 columns]"
      ]
     },
     "execution_count": 138,
     "metadata": {},
     "output_type": "execute_result"
    }
   ],
   "source": [
    "df_bank = df_bank.join(temp_df)\n",
    "df_bank"
   ]
  },
  {
   "cell_type": "code",
   "execution_count": 139,
   "metadata": {},
   "outputs": [],
   "source": [
    "# dropping Geography as it's not going to be useful anymore\n",
    "df_bank.drop(columns = \"Geography\", inplace = True)"
   ]
  },
  {
   "cell_type": "code",
   "execution_count": 140,
   "metadata": {},
   "outputs": [],
   "source": [
    "# defining a function to reshape arrays for one hot encoding\n",
    "def one_hot_reshape(df, col):\n",
    "  return np.array(df[col]).reshape(len(df), 1)\n",
    "\n",
    "# creating a function for future One Hot Encodings\n",
    "def one_hot_encode_and_join(df, target_col):\n",
    "  reshaped = one_hot_reshape(df, target_col)\n",
    "  encoder = OneHotEncoder(sparse = False)\n",
    "  encoder.fit_transform(reshaped)\n",
    "  temp_df = pd.DataFrame(encoder.fit_transform(reshaped),columns = list(target_col + \"_\" + encoder.categories_[0]))\n",
    "  return df.join(temp_df), encoder"
   ]
  },
  {
   "cell_type": "markdown",
   "metadata": {},
   "source": [
    "#### `Gender`"
   ]
  },
  {
   "cell_type": "code",
   "execution_count": 141,
   "metadata": {},
   "outputs": [
    {
     "data": {
      "text/plain": [
       "3"
      ]
     },
     "execution_count": 141,
     "metadata": {},
     "output_type": "execute_result"
    }
   ],
   "source": [
    "df_bank.Gender.nunique()"
   ]
  },
  {
   "cell_type": "code",
   "execution_count": 142,
   "metadata": {},
   "outputs": [
    {
     "data": {
      "text/plain": [
       "Male            5307\n",
       "Female          4419\n",
       "NotSpecified     274\n",
       "Name: Gender, dtype: int64"
      ]
     },
     "execution_count": 142,
     "metadata": {},
     "output_type": "execute_result"
    }
   ],
   "source": [
    "df_bank.Gender.value_counts(dropna = False)"
   ]
  },
  {
   "cell_type": "markdown",
   "metadata": {},
   "source": [
    "Again, 3 categories with no ordinal relationship between them, **One Hot Encoder** is the way to go"
   ]
  },
  {
   "cell_type": "code",
   "execution_count": 143,
   "metadata": {},
   "outputs": [],
   "source": [
    "df_bank, gender_encoder = one_hot_encode_and_join(df_bank, \"Gender\")"
   ]
  },
  {
   "cell_type": "code",
   "execution_count": 144,
   "metadata": {},
   "outputs": [],
   "source": [
    "df_bank.drop(columns = \"Gender\", inplace = True)"
   ]
  },
  {
   "cell_type": "code",
   "execution_count": 145,
   "metadata": {},
   "outputs": [
    {
     "data": {
      "text/html": [
       "<div>\n",
       "<style scoped>\n",
       "    .dataframe tbody tr th:only-of-type {\n",
       "        vertical-align: middle;\n",
       "    }\n",
       "\n",
       "    .dataframe tbody tr th {\n",
       "        vertical-align: top;\n",
       "    }\n",
       "\n",
       "    .dataframe thead th {\n",
       "        text-align: right;\n",
       "    }\n",
       "</style>\n",
       "<table border=\"1\" class=\"dataframe\">\n",
       "  <thead>\n",
       "    <tr style=\"text-align: right;\">\n",
       "      <th></th>\n",
       "      <th>Surname</th>\n",
       "      <th>CreditScore</th>\n",
       "      <th>Age</th>\n",
       "      <th>Tenure</th>\n",
       "      <th>Balance</th>\n",
       "      <th>NumOfProducts</th>\n",
       "      <th>HasCrCard</th>\n",
       "      <th>IsActiveMember</th>\n",
       "      <th>EstimatedSalary</th>\n",
       "      <th>Exited</th>\n",
       "      <th>Geography_France</th>\n",
       "      <th>Geography_Germany</th>\n",
       "      <th>Geography_NotReported</th>\n",
       "      <th>Geography_Spain</th>\n",
       "      <th>Gender_Female</th>\n",
       "      <th>Gender_Male</th>\n",
       "      <th>Gender_NotSpecified</th>\n",
       "    </tr>\n",
       "  </thead>\n",
       "  <tbody>\n",
       "    <tr>\n",
       "      <th>0</th>\n",
       "      <td>0.500000</td>\n",
       "      <td>614</td>\n",
       "      <td>40</td>\n",
       "      <td>3</td>\n",
       "      <td>113348.50</td>\n",
       "      <td>1</td>\n",
       "      <td>1</td>\n",
       "      <td>1</td>\n",
       "      <td>77789.01</td>\n",
       "      <td>0</td>\n",
       "      <td>0.0</td>\n",
       "      <td>0.0</td>\n",
       "      <td>0.0</td>\n",
       "      <td>1.0</td>\n",
       "      <td>1.0</td>\n",
       "      <td>0.0</td>\n",
       "      <td>0.0</td>\n",
       "    </tr>\n",
       "    <tr>\n",
       "      <th>1</th>\n",
       "      <td>0.153846</td>\n",
       "      <td>758</td>\n",
       "      <td>34</td>\n",
       "      <td>1</td>\n",
       "      <td>154139.45</td>\n",
       "      <td>1</td>\n",
       "      <td>1</td>\n",
       "      <td>1</td>\n",
       "      <td>60728.89</td>\n",
       "      <td>0</td>\n",
       "      <td>1.0</td>\n",
       "      <td>0.0</td>\n",
       "      <td>0.0</td>\n",
       "      <td>0.0</td>\n",
       "      <td>1.0</td>\n",
       "      <td>0.0</td>\n",
       "      <td>0.0</td>\n",
       "    </tr>\n",
       "    <tr>\n",
       "      <th>2</th>\n",
       "      <td>0.500000</td>\n",
       "      <td>541</td>\n",
       "      <td>39</td>\n",
       "      <td>9</td>\n",
       "      <td>100116.67</td>\n",
       "      <td>1</td>\n",
       "      <td>1</td>\n",
       "      <td>1</td>\n",
       "      <td>199808.10</td>\n",
       "      <td>1</td>\n",
       "      <td>0.0</td>\n",
       "      <td>1.0</td>\n",
       "      <td>0.0</td>\n",
       "      <td>0.0</td>\n",
       "      <td>1.0</td>\n",
       "      <td>0.0</td>\n",
       "      <td>0.0</td>\n",
       "    </tr>\n",
       "    <tr>\n",
       "      <th>3</th>\n",
       "      <td>0.200000</td>\n",
       "      <td>481</td>\n",
       "      <td>37</td>\n",
       "      <td>8</td>\n",
       "      <td>152303.66</td>\n",
       "      <td>2</td>\n",
       "      <td>1</td>\n",
       "      <td>1</td>\n",
       "      <td>175082.20</td>\n",
       "      <td>0</td>\n",
       "      <td>1.0</td>\n",
       "      <td>0.0</td>\n",
       "      <td>0.0</td>\n",
       "      <td>0.0</td>\n",
       "      <td>0.0</td>\n",
       "      <td>0.0</td>\n",
       "      <td>1.0</td>\n",
       "    </tr>\n",
       "    <tr>\n",
       "      <th>4</th>\n",
       "      <td>0.000000</td>\n",
       "      <td>711</td>\n",
       "      <td>37</td>\n",
       "      <td>8</td>\n",
       "      <td>113899.92</td>\n",
       "      <td>1</td>\n",
       "      <td>0</td>\n",
       "      <td>0</td>\n",
       "      <td>80215.20</td>\n",
       "      <td>0</td>\n",
       "      <td>1.0</td>\n",
       "      <td>0.0</td>\n",
       "      <td>0.0</td>\n",
       "      <td>0.0</td>\n",
       "      <td>1.0</td>\n",
       "      <td>0.0</td>\n",
       "      <td>0.0</td>\n",
       "    </tr>\n",
       "    <tr>\n",
       "      <th>...</th>\n",
       "      <td>...</td>\n",
       "      <td>...</td>\n",
       "      <td>...</td>\n",
       "      <td>...</td>\n",
       "      <td>...</td>\n",
       "      <td>...</td>\n",
       "      <td>...</td>\n",
       "      <td>...</td>\n",
       "      <td>...</td>\n",
       "      <td>...</td>\n",
       "      <td>...</td>\n",
       "      <td>...</td>\n",
       "      <td>...</td>\n",
       "      <td>...</td>\n",
       "      <td>...</td>\n",
       "      <td>...</td>\n",
       "      <td>...</td>\n",
       "    </tr>\n",
       "    <tr>\n",
       "      <th>9995</th>\n",
       "      <td>0.125000</td>\n",
       "      <td>745</td>\n",
       "      <td>48</td>\n",
       "      <td>10</td>\n",
       "      <td>96048.55</td>\n",
       "      <td>1</td>\n",
       "      <td>1</td>\n",
       "      <td>0</td>\n",
       "      <td>74510.65</td>\n",
       "      <td>0</td>\n",
       "      <td>0.0</td>\n",
       "      <td>1.0</td>\n",
       "      <td>0.0</td>\n",
       "      <td>0.0</td>\n",
       "      <td>0.0</td>\n",
       "      <td>1.0</td>\n",
       "      <td>0.0</td>\n",
       "    </tr>\n",
       "    <tr>\n",
       "      <th>9996</th>\n",
       "      <td>0.142857</td>\n",
       "      <td>627</td>\n",
       "      <td>30</td>\n",
       "      <td>6</td>\n",
       "      <td>57809.32</td>\n",
       "      <td>1</td>\n",
       "      <td>1</td>\n",
       "      <td>0</td>\n",
       "      <td>188258.49</td>\n",
       "      <td>0</td>\n",
       "      <td>0.0</td>\n",
       "      <td>1.0</td>\n",
       "      <td>0.0</td>\n",
       "      <td>0.0</td>\n",
       "      <td>1.0</td>\n",
       "      <td>0.0</td>\n",
       "      <td>0.0</td>\n",
       "    </tr>\n",
       "    <tr>\n",
       "      <th>9997</th>\n",
       "      <td>0.133333</td>\n",
       "      <td>601</td>\n",
       "      <td>47</td>\n",
       "      <td>1</td>\n",
       "      <td>64430.06</td>\n",
       "      <td>2</td>\n",
       "      <td>0</td>\n",
       "      <td>1</td>\n",
       "      <td>96517.97</td>\n",
       "      <td>0</td>\n",
       "      <td>1.0</td>\n",
       "      <td>0.0</td>\n",
       "      <td>0.0</td>\n",
       "      <td>0.0</td>\n",
       "      <td>0.0</td>\n",
       "      <td>1.0</td>\n",
       "      <td>0.0</td>\n",
       "    </tr>\n",
       "    <tr>\n",
       "      <th>9998</th>\n",
       "      <td>0.285714</td>\n",
       "      <td>612</td>\n",
       "      <td>35</td>\n",
       "      <td>1</td>\n",
       "      <td>0.00</td>\n",
       "      <td>1</td>\n",
       "      <td>1</td>\n",
       "      <td>1</td>\n",
       "      <td>83256.26</td>\n",
       "      <td>1</td>\n",
       "      <td>0.0</td>\n",
       "      <td>0.0</td>\n",
       "      <td>0.0</td>\n",
       "      <td>1.0</td>\n",
       "      <td>0.0</td>\n",
       "      <td>1.0</td>\n",
       "      <td>0.0</td>\n",
       "    </tr>\n",
       "    <tr>\n",
       "      <th>9999</th>\n",
       "      <td>0.312500</td>\n",
       "      <td>698</td>\n",
       "      <td>39</td>\n",
       "      <td>9</td>\n",
       "      <td>161993.89</td>\n",
       "      <td>1</td>\n",
       "      <td>0</td>\n",
       "      <td>0</td>\n",
       "      <td>90212.38</td>\n",
       "      <td>0</td>\n",
       "      <td>0.0</td>\n",
       "      <td>0.0</td>\n",
       "      <td>0.0</td>\n",
       "      <td>1.0</td>\n",
       "      <td>0.0</td>\n",
       "      <td>0.0</td>\n",
       "      <td>1.0</td>\n",
       "    </tr>\n",
       "  </tbody>\n",
       "</table>\n",
       "<p>10000 rows × 17 columns</p>\n",
       "</div>"
      ],
      "text/plain": [
       "       Surname  CreditScore  Age  Tenure    Balance  NumOfProducts  HasCrCard  \\\n",
       "0     0.500000          614   40       3  113348.50              1          1   \n",
       "1     0.153846          758   34       1  154139.45              1          1   \n",
       "2     0.500000          541   39       9  100116.67              1          1   \n",
       "3     0.200000          481   37       8  152303.66              2          1   \n",
       "4     0.000000          711   37       8  113899.92              1          0   \n",
       "...        ...          ...  ...     ...        ...            ...        ...   \n",
       "9995  0.125000          745   48      10   96048.55              1          1   \n",
       "9996  0.142857          627   30       6   57809.32              1          1   \n",
       "9997  0.133333          601   47       1   64430.06              2          0   \n",
       "9998  0.285714          612   35       1       0.00              1          1   \n",
       "9999  0.312500          698   39       9  161993.89              1          0   \n",
       "\n",
       "      IsActiveMember  EstimatedSalary  Exited  Geography_France  \\\n",
       "0                  1         77789.01       0               0.0   \n",
       "1                  1         60728.89       0               1.0   \n",
       "2                  1        199808.10       1               0.0   \n",
       "3                  1        175082.20       0               1.0   \n",
       "4                  0         80215.20       0               1.0   \n",
       "...              ...              ...     ...               ...   \n",
       "9995               0         74510.65       0               0.0   \n",
       "9996               0        188258.49       0               0.0   \n",
       "9997               1         96517.97       0               1.0   \n",
       "9998               1         83256.26       1               0.0   \n",
       "9999               0         90212.38       0               0.0   \n",
       "\n",
       "      Geography_Germany  Geography_NotReported  Geography_Spain  \\\n",
       "0                   0.0                    0.0              1.0   \n",
       "1                   0.0                    0.0              0.0   \n",
       "2                   1.0                    0.0              0.0   \n",
       "3                   0.0                    0.0              0.0   \n",
       "4                   0.0                    0.0              0.0   \n",
       "...                 ...                    ...              ...   \n",
       "9995                1.0                    0.0              0.0   \n",
       "9996                1.0                    0.0              0.0   \n",
       "9997                0.0                    0.0              0.0   \n",
       "9998                0.0                    0.0              1.0   \n",
       "9999                0.0                    0.0              1.0   \n",
       "\n",
       "      Gender_Female  Gender_Male  Gender_NotSpecified  \n",
       "0               1.0          0.0                  0.0  \n",
       "1               1.0          0.0                  0.0  \n",
       "2               1.0          0.0                  0.0  \n",
       "3               0.0          0.0                  1.0  \n",
       "4               1.0          0.0                  0.0  \n",
       "...             ...          ...                  ...  \n",
       "9995            0.0          1.0                  0.0  \n",
       "9996            1.0          0.0                  0.0  \n",
       "9997            0.0          1.0                  0.0  \n",
       "9998            0.0          1.0                  0.0  \n",
       "9999            0.0          0.0                  1.0  \n",
       "\n",
       "[10000 rows x 17 columns]"
      ]
     },
     "execution_count": 145,
     "metadata": {},
     "output_type": "execute_result"
    }
   ],
   "source": [
    "df_bank"
   ]
  },
  {
   "cell_type": "markdown",
   "metadata": {},
   "source": [
    "#### `NumOfProducts`"
   ]
  },
  {
   "cell_type": "code",
   "execution_count": 146,
   "metadata": {},
   "outputs": [
    {
     "data": {
      "text/plain": [
       "4"
      ]
     },
     "execution_count": 146,
     "metadata": {},
     "output_type": "execute_result"
    }
   ],
   "source": [
    "df_bank.NumOfProducts.nunique()"
   ]
  },
  {
   "cell_type": "code",
   "execution_count": 147,
   "metadata": {},
   "outputs": [
    {
     "data": {
      "text/plain": [
       "1    4946\n",
       "2    4741\n",
       "3     255\n",
       "4      58\n",
       "Name: NumOfProducts, dtype: int64"
      ]
     },
     "execution_count": 147,
     "metadata": {},
     "output_type": "execute_result"
    }
   ],
   "source": [
    "df_bank.NumOfProducts.value_counts(dropna = False)"
   ]
  },
  {
   "cell_type": "markdown",
   "metadata": {},
   "source": [
    "We have 4 categories, even though, in this case, there's an ordinal relationship between them. If a customer has 4 products, this means more than 3. And if it has 3, it indeed has more than 2. For this case, we will transform those values as categorical."
   ]
  },
  {
   "cell_type": "code",
   "execution_count": 148,
   "metadata": {},
   "outputs": [
    {
     "data": {
      "text/plain": [
       "CategoricalDtype(categories=[1, 2, 3, 4], ordered=True)"
      ]
     },
     "execution_count": 148,
     "metadata": {},
     "output_type": "execute_result"
    }
   ],
   "source": [
    "df_bank.NumOfProducts = df_bank.NumOfProducts.astype(pd.CategoricalDtype(ordered = True))\n",
    "df_bank.NumOfProducts.dtype"
   ]
  },
  {
   "cell_type": "markdown",
   "metadata": {},
   "source": [
    "#### `HasCrCard`"
   ]
  },
  {
   "cell_type": "code",
   "execution_count": 149,
   "metadata": {},
   "outputs": [
    {
     "data": {
      "text/plain": [
       "3"
      ]
     },
     "execution_count": 149,
     "metadata": {},
     "output_type": "execute_result"
    }
   ],
   "source": [
    "df_bank.HasCrCard.nunique()"
   ]
  },
  {
   "cell_type": "code",
   "execution_count": 150,
   "metadata": {},
   "outputs": [
    {
     "data": {
      "text/plain": [
       "1    6997\n",
       "0    2924\n",
       "2      79\n",
       "Name: HasCrCard, dtype: int64"
      ]
     },
     "execution_count": 150,
     "metadata": {},
     "output_type": "execute_result"
    }
   ],
   "source": [
    "df_bank.HasCrCard.value_counts(dropna = False)"
   ]
  },
  {
   "cell_type": "markdown",
   "metadata": {},
   "source": [
    "Since we transformed the values into integers in the previous step, we already transformed this field as a category. Since it doesn't have any order relationship we will transform these as categorical values but without any order"
   ]
  },
  {
   "cell_type": "code",
   "execution_count": 151,
   "metadata": {},
   "outputs": [
    {
     "data": {
      "text/plain": [
       "CategoricalDtype(categories=[0, 1, 2], ordered=False)"
      ]
     },
     "execution_count": 151,
     "metadata": {},
     "output_type": "execute_result"
    }
   ],
   "source": [
    "df_bank.HasCrCard = df_bank.HasCrCard.astype(pd.CategoricalDtype())\n",
    "df_bank.HasCrCard.dtypes"
   ]
  },
  {
   "cell_type": "markdown",
   "metadata": {},
   "source": [
    "#### `IsActiveMember`"
   ]
  },
  {
   "cell_type": "code",
   "execution_count": 152,
   "metadata": {},
   "outputs": [
    {
     "data": {
      "text/plain": [
       "3"
      ]
     },
     "execution_count": 152,
     "metadata": {},
     "output_type": "execute_result"
    }
   ],
   "source": [
    "df_bank.IsActiveMember.nunique()"
   ]
  },
  {
   "cell_type": "code",
   "execution_count": 153,
   "metadata": {},
   "outputs": [
    {
     "data": {
      "text/plain": [
       "1    5105\n",
       "0    4812\n",
       "2      83\n",
       "Name: IsActiveMember, dtype: int64"
      ]
     },
     "execution_count": 153,
     "metadata": {},
     "output_type": "execute_result"
    }
   ],
   "source": [
    "df_bank.IsActiveMember.value_counts(dropna = False)"
   ]
  },
  {
   "cell_type": "markdown",
   "metadata": {},
   "source": [
    "Same situation as with `HasCrCard`. Same solution"
   ]
  },
  {
   "cell_type": "code",
   "execution_count": 154,
   "metadata": {},
   "outputs": [
    {
     "data": {
      "text/plain": [
       "CategoricalDtype(categories=[0, 1, 2], ordered=False)"
      ]
     },
     "execution_count": 154,
     "metadata": {},
     "output_type": "execute_result"
    }
   ],
   "source": [
    "df_bank.IsActiveMember = df_bank.IsActiveMember.astype(pd.CategoricalDtype())\n",
    "df_bank.IsActiveMember.dtypes"
   ]
  },
  {
   "cell_type": "markdown",
   "metadata": {},
   "source": [
    "#### `Exited`"
   ]
  },
  {
   "cell_type": "code",
   "execution_count": 155,
   "metadata": {},
   "outputs": [
    {
     "data": {
      "text/plain": [
       "2"
      ]
     },
     "execution_count": 155,
     "metadata": {},
     "output_type": "execute_result"
    }
   ],
   "source": [
    "df_bank.Exited.nunique()"
   ]
  },
  {
   "cell_type": "code",
   "execution_count": 156,
   "metadata": {},
   "outputs": [
    {
     "data": {
      "text/plain": [
       "0    7963\n",
       "1    2037\n",
       "Name: Exited, dtype: int64"
      ]
     },
     "execution_count": 156,
     "metadata": {},
     "output_type": "execute_result"
    }
   ],
   "source": [
    "df_bank.Exited.value_counts(dropna = False)"
   ]
  },
  {
   "cell_type": "markdown",
   "metadata": {},
   "source": [
    "Again, this is already a boolean category itself in the format of an integer (True / False)"
   ]
  },
  {
   "cell_type": "code",
   "execution_count": 157,
   "metadata": {},
   "outputs": [
    {
     "data": {
      "text/plain": [
       "CategoricalDtype(categories=[0, 1], ordered=False)"
      ]
     },
     "execution_count": 157,
     "metadata": {},
     "output_type": "execute_result"
    }
   ],
   "source": [
    "df_bank.Exited = df_bank.Exited.astype(pd.CategoricalDtype())\n",
    "df_bank.Exited.dtypes"
   ]
  },
  {
   "cell_type": "markdown",
   "metadata": {},
   "source": [
    "### 4 - Scaling the data set"
   ]
  },
  {
   "cell_type": "markdown",
   "metadata": {},
   "source": [
    "Normalization is a technique often applied as part of data preparation for machine learning. The goal of normalization is to change the values of numeric columns in the dataset to a common scale, without distorting differences in the ranges of values ([More info on data normalization](https://medium.com/@urvashilluniya/why-data-normalization-is-necessary-for-machine-learning-models-681b65a05029))\n",
    "\n",
    "Since everything is numerical now, after data transformation, we will normalise the whole data set to make sure that we are in the same scale.\n",
    "\n",
    "However, for the normalisation we'll be mainly looking at the following columns:\n",
    "- `CreditScore`\n",
    "- `Age`\n",
    "- `Tenure`\n",
    "- `Balance`\n",
    "- `EstimatedSalary`"
   ]
  },
  {
   "cell_type": "code",
   "execution_count": 158,
   "metadata": {},
   "outputs": [
    {
     "data": {
      "text/html": [
       "<div>\n",
       "<style scoped>\n",
       "    .dataframe tbody tr th:only-of-type {\n",
       "        vertical-align: middle;\n",
       "    }\n",
       "\n",
       "    .dataframe tbody tr th {\n",
       "        vertical-align: top;\n",
       "    }\n",
       "\n",
       "    .dataframe thead th {\n",
       "        text-align: right;\n",
       "    }\n",
       "</style>\n",
       "<table border=\"1\" class=\"dataframe\">\n",
       "  <thead>\n",
       "    <tr style=\"text-align: right;\">\n",
       "      <th></th>\n",
       "      <th>Surname</th>\n",
       "      <th>CreditScore</th>\n",
       "      <th>Age</th>\n",
       "      <th>Tenure</th>\n",
       "      <th>Balance</th>\n",
       "      <th>NumOfProducts</th>\n",
       "      <th>HasCrCard</th>\n",
       "      <th>IsActiveMember</th>\n",
       "      <th>EstimatedSalary</th>\n",
       "      <th>Exited</th>\n",
       "      <th>Geography_France</th>\n",
       "      <th>Geography_Germany</th>\n",
       "      <th>Geography_NotReported</th>\n",
       "      <th>Geography_Spain</th>\n",
       "      <th>Gender_Female</th>\n",
       "      <th>Gender_Male</th>\n",
       "      <th>Gender_NotSpecified</th>\n",
       "    </tr>\n",
       "  </thead>\n",
       "  <tbody>\n",
       "    <tr>\n",
       "      <th>0</th>\n",
       "      <td>0.500000</td>\n",
       "      <td>614</td>\n",
       "      <td>40</td>\n",
       "      <td>3</td>\n",
       "      <td>113348.50</td>\n",
       "      <td>1</td>\n",
       "      <td>1</td>\n",
       "      <td>1</td>\n",
       "      <td>77789.01</td>\n",
       "      <td>0</td>\n",
       "      <td>0.0</td>\n",
       "      <td>0.0</td>\n",
       "      <td>0.0</td>\n",
       "      <td>1.0</td>\n",
       "      <td>1.0</td>\n",
       "      <td>0.0</td>\n",
       "      <td>0.0</td>\n",
       "    </tr>\n",
       "    <tr>\n",
       "      <th>1</th>\n",
       "      <td>0.153846</td>\n",
       "      <td>758</td>\n",
       "      <td>34</td>\n",
       "      <td>1</td>\n",
       "      <td>154139.45</td>\n",
       "      <td>1</td>\n",
       "      <td>1</td>\n",
       "      <td>1</td>\n",
       "      <td>60728.89</td>\n",
       "      <td>0</td>\n",
       "      <td>1.0</td>\n",
       "      <td>0.0</td>\n",
       "      <td>0.0</td>\n",
       "      <td>0.0</td>\n",
       "      <td>1.0</td>\n",
       "      <td>0.0</td>\n",
       "      <td>0.0</td>\n",
       "    </tr>\n",
       "    <tr>\n",
       "      <th>2</th>\n",
       "      <td>0.500000</td>\n",
       "      <td>541</td>\n",
       "      <td>39</td>\n",
       "      <td>9</td>\n",
       "      <td>100116.67</td>\n",
       "      <td>1</td>\n",
       "      <td>1</td>\n",
       "      <td>1</td>\n",
       "      <td>199808.10</td>\n",
       "      <td>1</td>\n",
       "      <td>0.0</td>\n",
       "      <td>1.0</td>\n",
       "      <td>0.0</td>\n",
       "      <td>0.0</td>\n",
       "      <td>1.0</td>\n",
       "      <td>0.0</td>\n",
       "      <td>0.0</td>\n",
       "    </tr>\n",
       "    <tr>\n",
       "      <th>3</th>\n",
       "      <td>0.200000</td>\n",
       "      <td>481</td>\n",
       "      <td>37</td>\n",
       "      <td>8</td>\n",
       "      <td>152303.66</td>\n",
       "      <td>2</td>\n",
       "      <td>1</td>\n",
       "      <td>1</td>\n",
       "      <td>175082.20</td>\n",
       "      <td>0</td>\n",
       "      <td>1.0</td>\n",
       "      <td>0.0</td>\n",
       "      <td>0.0</td>\n",
       "      <td>0.0</td>\n",
       "      <td>0.0</td>\n",
       "      <td>0.0</td>\n",
       "      <td>1.0</td>\n",
       "    </tr>\n",
       "    <tr>\n",
       "      <th>4</th>\n",
       "      <td>0.000000</td>\n",
       "      <td>711</td>\n",
       "      <td>37</td>\n",
       "      <td>8</td>\n",
       "      <td>113899.92</td>\n",
       "      <td>1</td>\n",
       "      <td>0</td>\n",
       "      <td>0</td>\n",
       "      <td>80215.20</td>\n",
       "      <td>0</td>\n",
       "      <td>1.0</td>\n",
       "      <td>0.0</td>\n",
       "      <td>0.0</td>\n",
       "      <td>0.0</td>\n",
       "      <td>1.0</td>\n",
       "      <td>0.0</td>\n",
       "      <td>0.0</td>\n",
       "    </tr>\n",
       "  </tbody>\n",
       "</table>\n",
       "</div>"
      ],
      "text/plain": [
       "    Surname  CreditScore  Age  Tenure    Balance NumOfProducts HasCrCard  \\\n",
       "0  0.500000          614   40       3  113348.50             1         1   \n",
       "1  0.153846          758   34       1  154139.45             1         1   \n",
       "2  0.500000          541   39       9  100116.67             1         1   \n",
       "3  0.200000          481   37       8  152303.66             2         1   \n",
       "4  0.000000          711   37       8  113899.92             1         0   \n",
       "\n",
       "  IsActiveMember  EstimatedSalary Exited  Geography_France  Geography_Germany  \\\n",
       "0              1         77789.01      0               0.0                0.0   \n",
       "1              1         60728.89      0               1.0                0.0   \n",
       "2              1        199808.10      1               0.0                1.0   \n",
       "3              1        175082.20      0               1.0                0.0   \n",
       "4              0         80215.20      0               1.0                0.0   \n",
       "\n",
       "   Geography_NotReported  Geography_Spain  Gender_Female  Gender_Male  \\\n",
       "0                    0.0              1.0            1.0          0.0   \n",
       "1                    0.0              0.0            1.0          0.0   \n",
       "2                    0.0              0.0            1.0          0.0   \n",
       "3                    0.0              0.0            0.0          0.0   \n",
       "4                    0.0              0.0            1.0          0.0   \n",
       "\n",
       "   Gender_NotSpecified  \n",
       "0                  0.0  \n",
       "1                  0.0  \n",
       "2                  0.0  \n",
       "3                  1.0  \n",
       "4                  0.0  "
      ]
     },
     "execution_count": 158,
     "metadata": {},
     "output_type": "execute_result"
    }
   ],
   "source": [
    "df_bank.head()"
   ]
  },
  {
   "cell_type": "code",
   "execution_count": 159,
   "metadata": {},
   "outputs": [],
   "source": [
    "from sklearn.preprocessing import StandardScaler, MinMaxScaler, Normalizer\n",
    "import matplotlib.pyplot as plt\n",
    "import math"
   ]
  },
  {
   "cell_type": "code",
   "execution_count": 160,
   "metadata": {},
   "outputs": [],
   "source": [
    "target = [\"CreditScore\", \"Age\", \"Tenure\", \"Balance\", \"EstimatedSalary\"]\n",
    "\n",
    "def plot_graphs(df, target_cols, plot_size = (40, 5), num_cols = 5, hist_bins = 11):\n",
    "  plt.rcParams[\"figure.figsize\"] = plot_size\n",
    "  # determining num_rows needed\n",
    "  num_rows = math.ceil(len(target_cols) / num_cols)\n",
    "  # setting the grid and plotting\n",
    "  fig = plt.figure(figsize = plot_size)\n",
    "  for idx, col in enumerate(target_cols):\n",
    "    axe = fig.add_subplot(num_rows, num_cols, idx + 1)\n",
    "    df[col].hist(ax = axe, bins = hist_bins)\n",
    "    axe.set_title(col)"
   ]
  },
  {
   "cell_type": "markdown",
   "metadata": {},
   "source": [
    "Let's evaluate the 3 different scaling methods we know to see which one is the best: StandardScaler, MinMaxScaler, Normalizer"
   ]
  },
  {
   "cell_type": "code",
   "execution_count": 161,
   "metadata": {},
   "outputs": [
    {
     "data": {
      "image/png": "[encoded data removed]",
      "text/plain": [
       "<Figure size 2880x360 with 5 Axes>"
      ]
     },
     "metadata": {
      "needs_background": "light"
     },
     "output_type": "display_data"
    }
   ],
   "source": [
    "# current data\n",
    "plot_graphs(df_bank, target, (40, 5), 5)"
   ]
  },
  {
   "cell_type": "code",
   "execution_count": 162,
   "metadata": {},
   "outputs": [
    {
     "data": {
      "image/png": "[encoded data removed]",
      "text/plain": [
       "<Figure size 2880x360 with 5 Axes>"
      ]
     },
     "metadata": {
      "needs_background": "light"
     },
     "output_type": "display_data"
    }
   ],
   "source": [
    "# using the Standard Scaler\n",
    "scaler = StandardScaler()\n",
    "standardized = scaler.fit_transform(df_bank)\n",
    "standard_df = pd.DataFrame(standardized, columns=df_bank.columns)\n",
    "plot_graphs(standard_df, target)"
   ]
  },
  {
   "cell_type": "code",
   "execution_count": 163,
   "metadata": {},
   "outputs": [
    {
     "data": {
      "image/png": "[encoded data removed]",
      "text/plain": [
       "<Figure size 2880x360 with 5 Axes>"
      ]
     },
     "metadata": {
      "needs_background": "light"
     },
     "output_type": "display_data"
    }
   ],
   "source": [
    "# using MinMax Scaler\n",
    "scaler = MinMaxScaler()\n",
    "minmax = scaler.fit_transform(df_bank)\n",
    "minmax_df = pd.DataFrame(minmax, columns = df_bank.columns)\n",
    "plot_graphs(minmax_df, target)"
   ]
  },
  {
   "cell_type": "code",
   "execution_count": 164,
   "metadata": {},
   "outputs": [
    {
     "data": {
      "image/png": "[encoded data removed]",
      "text/plain": [
       "<Figure size 2880x360 with 5 Axes>"
      ]
     },
     "metadata": {
      "needs_background": "light"
     },
     "output_type": "display_data"
    }
   ],
   "source": [
    "# using Normalizer\n",
    "scaler = Normalizer()\n",
    "normalized = scaler.fit_transform(df_bank)\n",
    "normalized_df = pd.DataFrame(normalized, columns=df_bank.columns)\n",
    "plot_graphs(normalized_df, target)"
   ]
  },
  {
   "cell_type": "markdown",
   "metadata": {},
   "source": [
    "At the light of the results, we could either use the Standard Scaler or MinMax, as the shape of the form of the histogram is similar to the originals but in a better scale. The normalizer sets very high peaks in either the maximum or minimum ranges of the data, which may not be useful for a model."
   ]
  },
  {
   "cell_type": "markdown",
   "metadata": {},
   "source": [
    "#### Final arrangements"
   ]
  },
  {
   "cell_type": "code",
   "execution_count": 165,
   "metadata": {},
   "outputs": [
    {
     "data": {
      "text/html": [
       "<div>\n",
       "<style scoped>\n",
       "    .dataframe tbody tr th:only-of-type {\n",
       "        vertical-align: middle;\n",
       "    }\n",
       "\n",
       "    .dataframe tbody tr th {\n",
       "        vertical-align: top;\n",
       "    }\n",
       "\n",
       "    .dataframe thead th {\n",
       "        text-align: right;\n",
       "    }\n",
       "</style>\n",
       "<table border=\"1\" class=\"dataframe\">\n",
       "  <thead>\n",
       "    <tr style=\"text-align: right;\">\n",
       "      <th></th>\n",
       "      <th>Surname</th>\n",
       "      <th>CreditScore</th>\n",
       "      <th>Age</th>\n",
       "      <th>Tenure</th>\n",
       "      <th>Balance</th>\n",
       "      <th>NumOfProducts</th>\n",
       "      <th>HasCrCard</th>\n",
       "      <th>IsActiveMember</th>\n",
       "      <th>EstimatedSalary</th>\n",
       "      <th>Exited</th>\n",
       "      <th>Geography_France</th>\n",
       "      <th>Geography_Germany</th>\n",
       "      <th>Geography_NotReported</th>\n",
       "      <th>Geography_Spain</th>\n",
       "      <th>Gender_Female</th>\n",
       "      <th>Gender_Male</th>\n",
       "      <th>Gender_NotSpecified</th>\n",
       "    </tr>\n",
       "  </thead>\n",
       "  <tbody>\n",
       "    <tr>\n",
       "      <th>0</th>\n",
       "      <td>0.500000</td>\n",
       "      <td>0.528</td>\n",
       "      <td>0.488889</td>\n",
       "      <td>0.3</td>\n",
       "      <td>0.451771</td>\n",
       "      <td>0.000000</td>\n",
       "      <td>0.5</td>\n",
       "      <td>0.5</td>\n",
       "      <td>0.388924</td>\n",
       "      <td>0.0</td>\n",
       "      <td>0.0</td>\n",
       "      <td>0.0</td>\n",
       "      <td>0.0</td>\n",
       "      <td>1.0</td>\n",
       "      <td>1.0</td>\n",
       "      <td>0.0</td>\n",
       "      <td>0.0</td>\n",
       "    </tr>\n",
       "    <tr>\n",
       "      <th>1</th>\n",
       "      <td>0.153846</td>\n",
       "      <td>0.816</td>\n",
       "      <td>0.355556</td>\n",
       "      <td>0.1</td>\n",
       "      <td>0.614351</td>\n",
       "      <td>0.000000</td>\n",
       "      <td>0.5</td>\n",
       "      <td>0.5</td>\n",
       "      <td>0.303616</td>\n",
       "      <td>0.0</td>\n",
       "      <td>1.0</td>\n",
       "      <td>0.0</td>\n",
       "      <td>0.0</td>\n",
       "      <td>0.0</td>\n",
       "      <td>1.0</td>\n",
       "      <td>0.0</td>\n",
       "      <td>0.0</td>\n",
       "    </tr>\n",
       "    <tr>\n",
       "      <th>2</th>\n",
       "      <td>0.500000</td>\n",
       "      <td>0.382</td>\n",
       "      <td>0.466667</td>\n",
       "      <td>0.9</td>\n",
       "      <td>0.399033</td>\n",
       "      <td>0.000000</td>\n",
       "      <td>0.5</td>\n",
       "      <td>0.5</td>\n",
       "      <td>0.999078</td>\n",
       "      <td>1.0</td>\n",
       "      <td>0.0</td>\n",
       "      <td>1.0</td>\n",
       "      <td>0.0</td>\n",
       "      <td>0.0</td>\n",
       "      <td>1.0</td>\n",
       "      <td>0.0</td>\n",
       "      <td>0.0</td>\n",
       "    </tr>\n",
       "    <tr>\n",
       "      <th>3</th>\n",
       "      <td>0.200000</td>\n",
       "      <td>0.262</td>\n",
       "      <td>0.422222</td>\n",
       "      <td>0.8</td>\n",
       "      <td>0.607034</td>\n",
       "      <td>0.333333</td>\n",
       "      <td>0.5</td>\n",
       "      <td>0.5</td>\n",
       "      <td>0.875437</td>\n",
       "      <td>0.0</td>\n",
       "      <td>1.0</td>\n",
       "      <td>0.0</td>\n",
       "      <td>0.0</td>\n",
       "      <td>0.0</td>\n",
       "      <td>0.0</td>\n",
       "      <td>0.0</td>\n",
       "      <td>1.0</td>\n",
       "    </tr>\n",
       "    <tr>\n",
       "      <th>4</th>\n",
       "      <td>0.000000</td>\n",
       "      <td>0.722</td>\n",
       "      <td>0.422222</td>\n",
       "      <td>0.8</td>\n",
       "      <td>0.453969</td>\n",
       "      <td>0.000000</td>\n",
       "      <td>0.0</td>\n",
       "      <td>0.0</td>\n",
       "      <td>0.401056</td>\n",
       "      <td>0.0</td>\n",
       "      <td>1.0</td>\n",
       "      <td>0.0</td>\n",
       "      <td>0.0</td>\n",
       "      <td>0.0</td>\n",
       "      <td>1.0</td>\n",
       "      <td>0.0</td>\n",
       "      <td>0.0</td>\n",
       "    </tr>\n",
       "    <tr>\n",
       "      <th>...</th>\n",
       "      <td>...</td>\n",
       "      <td>...</td>\n",
       "      <td>...</td>\n",
       "      <td>...</td>\n",
       "      <td>...</td>\n",
       "      <td>...</td>\n",
       "      <td>...</td>\n",
       "      <td>...</td>\n",
       "      <td>...</td>\n",
       "      <td>...</td>\n",
       "      <td>...</td>\n",
       "      <td>...</td>\n",
       "      <td>...</td>\n",
       "      <td>...</td>\n",
       "      <td>...</td>\n",
       "      <td>...</td>\n",
       "      <td>...</td>\n",
       "    </tr>\n",
       "    <tr>\n",
       "      <th>9995</th>\n",
       "      <td>0.125000</td>\n",
       "      <td>0.790</td>\n",
       "      <td>0.666667</td>\n",
       "      <td>1.0</td>\n",
       "      <td>0.382819</td>\n",
       "      <td>0.000000</td>\n",
       "      <td>0.5</td>\n",
       "      <td>0.0</td>\n",
       "      <td>0.372531</td>\n",
       "      <td>0.0</td>\n",
       "      <td>0.0</td>\n",
       "      <td>1.0</td>\n",
       "      <td>0.0</td>\n",
       "      <td>0.0</td>\n",
       "      <td>0.0</td>\n",
       "      <td>1.0</td>\n",
       "      <td>0.0</td>\n",
       "    </tr>\n",
       "    <tr>\n",
       "      <th>9996</th>\n",
       "      <td>0.142857</td>\n",
       "      <td>0.554</td>\n",
       "      <td>0.266667</td>\n",
       "      <td>0.6</td>\n",
       "      <td>0.230410</td>\n",
       "      <td>0.000000</td>\n",
       "      <td>0.5</td>\n",
       "      <td>0.0</td>\n",
       "      <td>0.941324</td>\n",
       "      <td>0.0</td>\n",
       "      <td>0.0</td>\n",
       "      <td>1.0</td>\n",
       "      <td>0.0</td>\n",
       "      <td>0.0</td>\n",
       "      <td>1.0</td>\n",
       "      <td>0.0</td>\n",
       "      <td>0.0</td>\n",
       "    </tr>\n",
       "    <tr>\n",
       "      <th>9997</th>\n",
       "      <td>0.133333</td>\n",
       "      <td>0.502</td>\n",
       "      <td>0.644444</td>\n",
       "      <td>0.1</td>\n",
       "      <td>0.256798</td>\n",
       "      <td>0.333333</td>\n",
       "      <td>0.0</td>\n",
       "      <td>0.5</td>\n",
       "      <td>0.482578</td>\n",
       "      <td>0.0</td>\n",
       "      <td>1.0</td>\n",
       "      <td>0.0</td>\n",
       "      <td>0.0</td>\n",
       "      <td>0.0</td>\n",
       "      <td>0.0</td>\n",
       "      <td>1.0</td>\n",
       "      <td>0.0</td>\n",
       "    </tr>\n",
       "    <tr>\n",
       "      <th>9998</th>\n",
       "      <td>0.285714</td>\n",
       "      <td>0.524</td>\n",
       "      <td>0.377778</td>\n",
       "      <td>0.1</td>\n",
       "      <td>0.000000</td>\n",
       "      <td>0.000000</td>\n",
       "      <td>0.5</td>\n",
       "      <td>0.5</td>\n",
       "      <td>0.416263</td>\n",
       "      <td>1.0</td>\n",
       "      <td>0.0</td>\n",
       "      <td>0.0</td>\n",
       "      <td>0.0</td>\n",
       "      <td>1.0</td>\n",
       "      <td>0.0</td>\n",
       "      <td>1.0</td>\n",
       "      <td>0.0</td>\n",
       "    </tr>\n",
       "    <tr>\n",
       "      <th>9999</th>\n",
       "      <td>0.312500</td>\n",
       "      <td>0.696</td>\n",
       "      <td>0.466667</td>\n",
       "      <td>0.9</td>\n",
       "      <td>0.645656</td>\n",
       "      <td>0.000000</td>\n",
       "      <td>0.0</td>\n",
       "      <td>0.0</td>\n",
       "      <td>0.451047</td>\n",
       "      <td>0.0</td>\n",
       "      <td>0.0</td>\n",
       "      <td>0.0</td>\n",
       "      <td>0.0</td>\n",
       "      <td>1.0</td>\n",
       "      <td>0.0</td>\n",
       "      <td>0.0</td>\n",
       "      <td>1.0</td>\n",
       "    </tr>\n",
       "  </tbody>\n",
       "</table>\n",
       "<p>10000 rows × 17 columns</p>\n",
       "</div>"
      ],
      "text/plain": [
       "       Surname  CreditScore       Age  Tenure   Balance  NumOfProducts  \\\n",
       "0     0.500000        0.528  0.488889     0.3  0.451771       0.000000   \n",
       "1     0.153846        0.816  0.355556     0.1  0.614351       0.000000   \n",
       "2     0.500000        0.382  0.466667     0.9  0.399033       0.000000   \n",
       "3     0.200000        0.262  0.422222     0.8  0.607034       0.333333   \n",
       "4     0.000000        0.722  0.422222     0.8  0.453969       0.000000   \n",
       "...        ...          ...       ...     ...       ...            ...   \n",
       "9995  0.125000        0.790  0.666667     1.0  0.382819       0.000000   \n",
       "9996  0.142857        0.554  0.266667     0.6  0.230410       0.000000   \n",
       "9997  0.133333        0.502  0.644444     0.1  0.256798       0.333333   \n",
       "9998  0.285714        0.524  0.377778     0.1  0.000000       0.000000   \n",
       "9999  0.312500        0.696  0.466667     0.9  0.645656       0.000000   \n",
       "\n",
       "      HasCrCard  IsActiveMember  EstimatedSalary  Exited  Geography_France  \\\n",
       "0           0.5             0.5         0.388924     0.0               0.0   \n",
       "1           0.5             0.5         0.303616     0.0               1.0   \n",
       "2           0.5             0.5         0.999078     1.0               0.0   \n",
       "3           0.5             0.5         0.875437     0.0               1.0   \n",
       "4           0.0             0.0         0.401056     0.0               1.0   \n",
       "...         ...             ...              ...     ...               ...   \n",
       "9995        0.5             0.0         0.372531     0.0               0.0   \n",
       "9996        0.5             0.0         0.941324     0.0               0.0   \n",
       "9997        0.0             0.5         0.482578     0.0               1.0   \n",
       "9998        0.5             0.5         0.416263     1.0               0.0   \n",
       "9999        0.0             0.0         0.451047     0.0               0.0   \n",
       "\n",
       "      Geography_Germany  Geography_NotReported  Geography_Spain  \\\n",
       "0                   0.0                    0.0              1.0   \n",
       "1                   0.0                    0.0              0.0   \n",
       "2                   1.0                    0.0              0.0   \n",
       "3                   0.0                    0.0              0.0   \n",
       "4                   0.0                    0.0              0.0   \n",
       "...                 ...                    ...              ...   \n",
       "9995                1.0                    0.0              0.0   \n",
       "9996                1.0                    0.0              0.0   \n",
       "9997                0.0                    0.0              0.0   \n",
       "9998                0.0                    0.0              1.0   \n",
       "9999                0.0                    0.0              1.0   \n",
       "\n",
       "      Gender_Female  Gender_Male  Gender_NotSpecified  \n",
       "0               1.0          0.0                  0.0  \n",
       "1               1.0          0.0                  0.0  \n",
       "2               1.0          0.0                  0.0  \n",
       "3               0.0          0.0                  1.0  \n",
       "4               1.0          0.0                  0.0  \n",
       "...             ...          ...                  ...  \n",
       "9995            0.0          1.0                  0.0  \n",
       "9996            1.0          0.0                  0.0  \n",
       "9997            0.0          1.0                  0.0  \n",
       "9998            0.0          1.0                  0.0  \n",
       "9999            0.0          0.0                  1.0  \n",
       "\n",
       "[10000 rows x 17 columns]"
      ]
     },
     "execution_count": 165,
     "metadata": {},
     "output_type": "execute_result"
    }
   ],
   "source": [
    "# saving the minmax version inside our dataframe\n",
    "df_bank = minmax_df.copy()\n",
    "df_bank"
   ]
  },
  {
   "cell_type": "code",
   "execution_count": 166,
   "metadata": {},
   "outputs": [],
   "source": [
    "# storing a transformed and scaled data set for model ingestion\n",
    "df_bank.to_csv('./data/churn_data_scaled.csv')"
   ]
  }
 ],
 "metadata": {
  "interpreter": {
   "hash": "cf02ddb1f4e0cf91aaa2da81dcf25e5e7e70ec4e5f47b1fabe56a7ae8419c9a3"
  },
  "kernelspec": {
   "display_name": "Python 3.8.8 64-bit ('base': conda)",
   "name": "python3"
  },
  "language_info": {
   "codemirror_mode": {
    "name": "ipython",
    "version": 3
   },
   "file_extension": ".py",
   "mimetype": "text/x-python",
   "name": "python",
   "nbconvert_exporter": "python",
   "pygments_lexer": "ipython3",
   "version": "3.8.8"
  },
  "orig_nbformat": 4
 },
 "nbformat": 4,
 "nbformat_minor": 2
}
